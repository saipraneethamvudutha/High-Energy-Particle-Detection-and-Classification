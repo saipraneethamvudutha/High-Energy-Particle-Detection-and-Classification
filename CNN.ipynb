{
 "cells": [
  {
   "cell_type": "code",
   "execution_count": 2,
   "metadata": {},
   "outputs": [
    {
     "name": "stdout",
     "output_type": "stream",
     "text": [
      "Current Working Directory: c:\\Users\\vudut\\OneDrive\\Desktop\\Python\\MINI Project\n",
      "Files in Directory: ['.git', 'CNN.ipynb', 'Data Sets', 'FINAL_1.ipynb', 'logs', 'particle_images', 'PPT & Images', 'preprocessed_data.csv', 'README.md', 'Simulation.ipynb', 'wandb', 'xgboost_model.onnx', 'xgboost_optimized.onnx']\n"
     ]
    }
   ],
   "source": [
    "import os\n",
    "print(\"Current Working Directory:\", os.getcwd())  # Prints the directory where Python is looking for the file\n",
    "print(\"Files in Directory:\", os.listdir())  # Lists all files in the current directory\n"
   ]
  },
  {
   "cell_type": "code",
   "execution_count": 3,
   "metadata": {},
   "outputs": [
    {
     "name": "stdout",
     "output_type": "stream",
     "text": [
      "     lep_pt   lep_eta   lep_phi     lep_E  lep_charge  lep_type  jet_n  \\\n",
      "0 -0.646637 -0.958065  0.381154 -0.477948         1.0      11.0      1   \n",
      "1  0.377964 -0.059720  0.108998 -0.612058         0.0      11.0      0   \n",
      "2  0.132456  0.360554 -0.531584 -0.627914         1.0      11.0      1   \n",
      "3 -0.646720  0.312437  0.869416 -0.844918        -1.0      11.0      0   \n",
      "4 -0.261201  0.822651 -0.918316 -0.429899         1.0      11.0      1   \n",
      "\n",
      "     jet_pt    met_et   met_phi  \n",
      "0 -0.331582 -1.246566  0.771644  \n",
      "1       NaN -0.872589 -2.589168  \n",
      "2 -0.722571  0.418665 -0.035447  \n",
      "3 -0.859866 -0.008696  1.533058  \n",
      "4  1.252879  1.282319  2.545199  \n",
      "Dataset shape: (14945674, 10)\n"
     ]
    }
   ],
   "source": [
    "import pandas as pd\n",
    "\n",
    "# Load the preprocessed dataset\n",
    "df_combined = pd.read_csv(\"preprocessed_data.csv\")\n",
    "\n",
    "# Verify the data\n",
    "print(df_combined.head())  # Check the first few rows\n",
    "print(f\"Dataset shape: {df_combined.shape}\")  # Print dataset size\n"
   ]
  },
  {
   "cell_type": "code",
   "execution_count": null,
   "metadata": {},
   "outputs": [
    {
     "name": "stdout",
     "output_type": "stream",
     "text": [
      "Available Devices: [PhysicalDevice(name='/physical_device:CPU:0', device_type='CPU'), PhysicalDevice(name='/physical_device:GPU:0', device_type='GPU'), PhysicalDevice(name='/physical_device:GPU:1', device_type='GPU')]\n",
      "Using TensorFlow DirectML with GPU\n"
     ]
    }
   ],
   "source": [
    "import tensorflow as tf\n",
    "\n",
    "# Check available GPUs (should list DirectML GPU)\n",
    "print(\"Available Devices:\", tf.config.list_physical_devices())\n",
    "\n",
    "# Force TensorFlow to use DirectML\n",
    "tf.config.experimental.set_memory_growth(tf.config.list_physical_devices(\"GPU\")[1], True)\n",
    "print(\"Using TensorFlow DirectML with GPU\")\n"
   ]
  },
  {
   "cell_type": "code",
   "execution_count": 7,
   "metadata": {},
   "outputs": [
    {
     "name": "stdout",
     "output_type": "stream",
     "text": [
      "     lep_pt   lep_eta   lep_phi     lep_E  lep_charge  lep_type  jet_n  \\\n",
      "0 -0.646637 -0.958065  0.381154 -0.477948         1.0      11.0      1   \n",
      "1  0.377964 -0.059720  0.108998 -0.612058         0.0      11.0      0   \n",
      "2  0.132456  0.360554 -0.531584 -0.627914         1.0      11.0      1   \n",
      "3 -0.646720  0.312437  0.869416 -0.844918        -1.0      11.0      0   \n",
      "4 -0.261201  0.822651 -0.918316 -0.429899         1.0      11.0      1   \n",
      "\n",
      "     jet_pt    met_et   met_phi  \n",
      "0 -0.331582 -1.246566  0.771644  \n",
      "1       NaN -0.872589 -2.589168  \n",
      "2 -0.722571  0.418665 -0.035447  \n",
      "3 -0.859866 -0.008696  1.533058  \n",
      "4  1.252879  1.282319  2.545199  \n"
     ]
    }
   ],
   "source": [
    "import pandas as pd\n",
    "\n",
    "# Load the preprocessed dataset\n",
    "df_combined = pd.read_csv(\"preprocessed_data.csv\")\n",
    "\n",
    "# Verify data\n",
    "print(df_combined.head())  # Check the first few rows\n"
   ]
  },
  {
   "cell_type": "code",
   "execution_count": null,
   "metadata": {},
   "outputs": [],
   "source": [
    "import tensorflow as tf\n",
    "import numpy as np\n",
    "import matplotlib.pyplot as plt\n",
    "import os\n",
    "from tqdm import tqdm\n",
    "from multiprocessing import Pool\n",
    "\n",
    "# Create a directory to store generated images\n",
    "os.makedirs(\"particle_images\", exist_ok=True)\n",
    "\n",
    "# Load the preprocessed dataset\n",
    "df_combined = pd.read_csv(\"preprocessed_data.csv\")\n",
    "\n",
    "# Convert Pandas DataFrame to NumPy arrays (DirectML-compatible)\n",
    "lep_eta = df_combined[\"lep_eta\"].values.astype(np.float32)\n",
    "lep_phi = df_combined[\"lep_phi\"].values.astype(np.float32)\n",
    "lep_pt = df_combined[\"lep_pt\"].values.astype(np.float32)\n",
    "\n",
    "# Function to generate images\n",
    "def generate_image(args):\n",
    "    idx, eta, phi, pt = args\n",
    "    fig, ax = plt.subplots(figsize=(2, 2))\n",
    "    scatter = ax.scatter(eta, phi, c=pt, cmap=\"inferno\")\n",
    "\n",
    "    ax.set_xlim(-3, 3)\n",
    "    ax.set_ylim(-np.pi, np.pi)\n",
    "    ax.axis(\"off\")\n",
    "\n",
    "    plt.savefig(f\"particle_images/{idx}.png\", bbox_inches=\"tight\", pad_inches=0)\n",
    "    plt.close()\n",
    "\n",
    "# **Use multiprocessing to speed up image generation**\n",
    "if __name__ == '__main__':\n",
    "    with Pool(processes=os.cpu_count()) as pool:\n",
    "        pool.map(generate_image, zip(range(len(lep_eta)), lep_eta, lep_phi, lep_pt))\n",
    "\n",
    "print(\"✅ Image generation completed successfully!\")\n"
   ]
  },
  {
   "cell_type": "code",
   "execution_count": 1,
   "metadata": {},
   "outputs": [
    {
     "name": "stdout",
     "output_type": "stream",
     "text": [
      "Found GPU devices: [PhysicalDevice(name='/physical_device:GPU:0', device_type='GPU'), PhysicalDevice(name='/physical_device:GPU:1', device_type='GPU')]\n",
      "Memory growth enabled for PhysicalDevice(name='/physical_device:GPU:0', device_type='GPU')\n",
      "Memory growth enabled for PhysicalDevice(name='/physical_device:GPU:1', device_type='GPU')\n",
      "Processed images 0 to 99\n",
      "Processed images 100 to 199\n",
      "Processed images 200 to 299\n",
      "Processed images 300 to 399\n",
      "Processed images 400 to 499\n",
      "Processed images 500 to 599\n",
      "Processed images 600 to 699\n",
      "Processed images 700 to 799\n",
      "Processed images 800 to 899\n",
      "Processed images 900 to 999\n",
      "Processed images 1000 to 1099\n",
      "Processed images 1100 to 1199\n",
      "Processed images 1200 to 1299\n",
      "Processed images 1300 to 1399\n",
      "Processed images 1400 to 1499\n",
      "Processed images 1500 to 1599\n",
      "Processed images 1600 to 1699\n",
      "Processed images 1700 to 1799\n",
      "Processed images 1800 to 1899\n",
      "Processed images 1900 to 1999\n",
      "Processed images 2000 to 2099\n",
      "Processed images 2100 to 2199\n",
      "Processed images 2200 to 2299\n",
      "Processed images 2300 to 2399\n",
      "Processed images 2400 to 2499\n",
      "Processed images 2500 to 2599\n",
      "Processed images 2600 to 2699\n",
      "Processed images 2700 to 2799\n",
      "Processed images 2800 to 2899\n",
      "Processed images 2900 to 2999\n",
      "Processed images 3000 to 3099\n",
      "Processed images 3100 to 3199\n",
      "Processed images 3200 to 3299\n",
      "Processed images 3300 to 3399\n",
      "Processed images 3400 to 3499\n",
      "Processed images 3500 to 3599\n",
      "Processed images 3600 to 3699\n",
      "Processed images 3700 to 3799\n",
      "Processed images 3800 to 3899\n",
      "Processed images 3900 to 3999\n",
      "Processed images 4000 to 4099\n",
      "Processed images 4100 to 4199\n",
      "Processed images 4200 to 4299\n",
      "Processed images 4300 to 4399\n",
      "Processed images 4400 to 4499\n",
      "Processed images 4500 to 4599\n",
      "Processed images 4600 to 4699\n",
      "Processed images 4700 to 4799\n",
      "Processed images 4800 to 4899\n",
      "Processed images 4900 to 4999\n",
      "Processed images 5000 to 5099\n",
      "Processed images 5100 to 5199\n",
      "Processed images 5200 to 5299\n",
      "Processed images 5300 to 5399\n",
      "Processed images 5400 to 5499\n",
      "Processed images 5500 to 5599\n",
      "Processed images 5600 to 5699\n",
      "Processed images 5700 to 5799\n",
      "Processed images 5800 to 5899\n",
      "Processed images 5900 to 5999\n",
      "Processed images 6000 to 6099\n",
      "Processed images 6100 to 6199\n",
      "Processed images 6200 to 6299\n",
      "Processed images 6300 to 6399\n",
      "Processed images 6400 to 6499\n",
      "Processed images 6500 to 6599\n",
      "Processed images 6600 to 6699\n",
      "Processed images 6700 to 6799\n",
      "Processed images 6800 to 6899\n",
      "Processed images 6900 to 6999\n",
      "Processed images 7000 to 7099\n",
      "Processed images 7100 to 7199\n",
      "Processed images 7200 to 7299\n",
      "Processed images 7300 to 7399\n",
      "Processed images 7400 to 7499\n",
      "Processed images 7500 to 7599\n",
      "Processed images 7600 to 7699\n",
      "Processed images 7700 to 7799\n",
      "Processed images 7800 to 7899\n",
      "Processed images 7900 to 7999\n",
      "Processed images 8000 to 8099\n",
      "Processed images 8100 to 8199\n",
      "Processed images 8200 to 8299\n",
      "Processed images 8300 to 8399\n",
      "Processed images 8400 to 8499\n",
      "Processed images 8500 to 8599\n",
      "Processed images 8600 to 8699\n",
      "Processed images 8700 to 8799\n",
      "Processed images 8800 to 8899\n",
      "Processed images 8900 to 8999\n",
      "Processed images 9000 to 9099\n",
      "Processed images 9100 to 9199\n",
      "Processed images 9200 to 9299\n",
      "Processed images 9300 to 9399\n",
      "Processed images 9400 to 9499\n",
      "Processed images 9500 to 9599\n",
      "Processed images 9600 to 9699\n",
      "Processed images 9700 to 9799\n",
      "Processed images 9800 to 9899\n",
      "Processed images 9900 to 9999\n",
      "Processed images 10000 to 10099\n",
      "Processed images 10100 to 10199\n",
      "Processed images 10200 to 10299\n",
      "Processed images 10300 to 10399\n",
      "Processed images 10400 to 10499\n",
      "Processed images 10500 to 10599\n",
      "Processed images 10600 to 10699\n",
      "Processed images 10700 to 10799\n",
      "Processed images 10800 to 10899\n",
      "Processed images 10900 to 10999\n",
      "Processed images 11000 to 11099\n",
      "Processed images 11100 to 11199\n",
      "Processed images 11200 to 11299\n",
      "Processed images 11300 to 11399\n",
      "Processed images 11400 to 11499\n",
      "Processed images 11500 to 11599\n",
      "Processed images 11600 to 11699\n",
      "Processed images 11700 to 11799\n",
      "Processed images 11800 to 11899\n",
      "Processed images 11900 to 11999\n",
      "Processed images 12000 to 12099\n",
      "Processed images 12100 to 12199\n",
      "Processed images 12200 to 12299\n",
      "Processed images 12300 to 12399\n",
      "Processed images 12400 to 12499\n",
      "Processed images 12500 to 12599\n",
      "Processed images 12600 to 12699\n",
      "Processed images 12700 to 12799\n",
      "Processed images 12800 to 12899\n",
      "Processed images 12900 to 12999\n",
      "Processed images 13000 to 13099\n",
      "Processed images 13100 to 13199\n",
      "Processed images 13200 to 13299\n",
      "Processed images 13300 to 13399\n",
      "Processed images 13400 to 13499\n",
      "Processed images 13500 to 13599\n",
      "Processed images 13600 to 13699\n",
      "Processed images 13700 to 13799\n",
      "Processed images 13800 to 13899\n",
      "Processed images 13900 to 13999\n",
      "Processed images 14000 to 14099\n",
      "Processed images 14100 to 14199\n",
      "Processed images 14200 to 14299\n",
      "Processed images 14300 to 14399\n",
      "Processed images 14400 to 14499\n",
      "Processed images 14500 to 14599\n",
      "Processed images 14600 to 14699\n",
      "Processed images 14700 to 14799\n",
      "Processed images 14800 to 14899\n",
      "Processed images 14900 to 14999\n",
      "Processed images 15000 to 15099\n",
      "Processed images 15100 to 15199\n",
      "Processed images 15200 to 15299\n",
      "Processed images 15300 to 15399\n",
      "Processed images 15400 to 15499\n",
      "Processed images 15500 to 15599\n",
      "Processed images 15600 to 15699\n",
      "Processed images 15700 to 15799\n",
      "Processed images 15800 to 15899\n",
      "Processed images 15900 to 15999\n",
      "Processed images 16000 to 16099\n",
      "Processed images 16100 to 16199\n",
      "Processed images 16200 to 16299\n",
      "Processed images 16300 to 16399\n",
      "Processed images 16400 to 16499\n",
      "Processed images 16500 to 16599\n",
      "Processed images 16600 to 16699\n",
      "Processed images 16700 to 16799\n",
      "Processed images 16800 to 16899\n",
      "Processed images 16900 to 16999\n",
      "Processed images 17000 to 17099\n",
      "Processed images 17100 to 17199\n",
      "Processed images 17200 to 17299\n",
      "Processed images 17300 to 17399\n",
      "Processed images 17400 to 17499\n",
      "Processed images 17500 to 17599\n",
      "Processed images 17600 to 17699\n",
      "Processed images 17700 to 17799\n",
      "Processed images 17800 to 17899\n",
      "Processed images 17900 to 17999\n",
      "Processed images 18000 to 18099\n",
      "Processed images 18100 to 18199\n",
      "Processed images 18200 to 18299\n",
      "Processed images 18300 to 18399\n",
      "Processed images 18400 to 18499\n",
      "Processed images 18500 to 18599\n",
      "Processed images 18600 to 18699\n",
      "Processed images 18700 to 18799\n",
      "Processed images 18800 to 18899\n",
      "Processed images 18900 to 18999\n",
      "Processed images 19000 to 19099\n",
      "Processed images 19100 to 19199\n",
      "Processed images 19200 to 19299\n",
      "Processed images 19300 to 19399\n",
      "Processed images 19400 to 19499\n",
      "Processed images 19500 to 19599\n",
      "Processed images 19600 to 19699\n",
      "Processed images 19700 to 19799\n",
      "Processed images 19800 to 19899\n",
      "Processed images 19900 to 19999\n",
      "Processed images 20000 to 20099\n",
      "Processed images 20100 to 20199\n",
      "Processed images 20200 to 20299\n",
      "Processed images 20300 to 20399\n",
      "Processed images 20400 to 20499\n",
      "Processed images 20500 to 20599\n",
      "Processed images 20600 to 20699\n",
      "Processed images 20700 to 20799\n",
      "Processed images 20800 to 20899\n",
      "Processed images 20900 to 20999\n",
      "Processed images 21000 to 21099\n",
      "Processed images 21100 to 21199\n",
      "Processed images 21200 to 21299\n",
      "Processed images 21300 to 21399\n",
      "Processed images 21400 to 21499\n",
      "Processed images 21500 to 21599\n",
      "Processed images 21600 to 21699\n",
      "Processed images 21700 to 21799\n",
      "Processed images 21800 to 21899\n",
      "Processed images 21900 to 21999\n",
      "Processed images 22000 to 22099\n",
      "Processed images 22100 to 22199\n",
      "Processed images 22200 to 22299\n",
      "Processed images 22300 to 22399\n",
      "Processed images 22400 to 22499\n",
      "Processed images 22500 to 22599\n",
      "Processed images 22600 to 22699\n",
      "Processed images 22700 to 22799\n",
      "Processed images 22800 to 22899\n",
      "Processed images 22900 to 22999\n",
      "Processed images 23000 to 23099\n",
      "Processed images 23100 to 23199\n",
      "Processed images 23200 to 23299\n",
      "Processed images 23300 to 23399\n",
      "Processed images 23400 to 23499\n",
      "Processed images 23500 to 23599\n",
      "Processed images 23600 to 23699\n",
      "Processed images 23700 to 23799\n",
      "Processed images 23800 to 23899\n",
      "Processed images 23900 to 23999\n",
      "Processed images 24000 to 24099\n",
      "Processed images 24100 to 24199\n",
      "Processed images 24200 to 24299\n",
      "Processed images 24300 to 24399\n",
      "Processed images 24400 to 24499\n",
      "Processed images 24500 to 24599\n",
      "Processed images 24600 to 24699\n",
      "Processed images 24700 to 24799\n",
      "Processed images 24800 to 24899\n",
      "Processed images 24900 to 24999\n",
      "Processed images 25000 to 25099\n",
      "Processed images 25100 to 25199\n",
      "Processed images 25200 to 25299\n",
      "Processed images 25300 to 25399\n",
      "Processed images 25400 to 25499\n",
      "Processed images 25500 to 25599\n",
      "Processed images 25600 to 25699\n",
      "Processed images 25700 to 25799\n",
      "Processed images 25800 to 25899\n",
      "Processed images 25900 to 25999\n",
      "Processed images 26000 to 26099\n",
      "Processed images 26100 to 26199\n",
      "Processed images 26200 to 26299\n",
      "Processed images 26300 to 26399\n",
      "Processed images 26400 to 26499\n",
      "Processed images 26500 to 26599\n",
      "Processed images 26600 to 26699\n",
      "Processed images 26700 to 26799\n",
      "Processed images 26800 to 26899\n",
      "Processed images 26900 to 26999\n",
      "Processed images 27000 to 27099\n",
      "Processed images 27100 to 27199\n",
      "Processed images 27200 to 27299\n",
      "Processed images 27300 to 27399\n",
      "Processed images 27400 to 27499\n",
      "Processed images 27500 to 27599\n",
      "Processed images 27600 to 27699\n",
      "Processed images 27700 to 27799\n",
      "Processed images 27800 to 27899\n",
      "Processed images 27900 to 27999\n",
      "Processed images 28000 to 28099\n",
      "Processed images 28100 to 28199\n",
      "Processed images 28200 to 28299\n",
      "Processed images 28300 to 28399\n",
      "Processed images 28400 to 28499\n",
      "Processed images 28500 to 28599\n",
      "Processed images 28600 to 28699\n",
      "Processed images 28700 to 28799\n",
      "Processed images 28800 to 28899\n",
      "Processed images 28900 to 28999\n",
      "Processed images 29000 to 29099\n",
      "Processed images 29100 to 29199\n",
      "Processed images 29200 to 29299\n",
      "Processed images 29300 to 29399\n",
      "Processed images 29400 to 29499\n",
      "Processed images 29500 to 29599\n",
      "Processed images 29600 to 29699\n",
      "Processed images 29700 to 29799\n",
      "Processed images 29800 to 29899\n",
      "Processed images 29900 to 29999\n",
      "Processed images 30000 to 30099\n",
      "Processed images 30100 to 30199\n",
      "Processed images 30200 to 30299\n",
      "Processed images 30300 to 30399\n",
      "Processed images 30400 to 30499\n",
      "Processed images 30500 to 30599\n",
      "Processed images 30600 to 30699\n",
      "Processed images 30700 to 30799\n",
      "Processed images 30800 to 30899\n",
      "Processed images 30900 to 30999\n",
      "Processed images 31000 to 31099\n",
      "Processed images 31100 to 31199\n",
      "Processed images 31200 to 31299\n",
      "Processed images 31300 to 31399\n",
      "Processed images 31400 to 31499\n",
      "Processed images 31500 to 31599\n",
      "Processed images 31600 to 31699\n",
      "Processed images 31700 to 31799\n",
      "Processed images 31800 to 31899\n",
      "Processed images 31900 to 31999\n",
      "Processed images 32000 to 32099\n",
      "Processed images 32100 to 32199\n",
      "Processed images 32200 to 32299\n",
      "Processed images 32300 to 32399\n",
      "Processed images 32400 to 32499\n",
      "Processed images 32500 to 32599\n",
      "Processed images 32600 to 32699\n",
      "Processed images 32700 to 32799\n",
      "Processed images 32800 to 32899\n",
      "Processed images 32900 to 32999\n",
      "Processed images 33000 to 33099\n",
      "Processed images 33100 to 33199\n",
      "Processed images 33200 to 33299\n",
      "Processed images 33300 to 33399\n",
      "Processed images 33400 to 33499\n",
      "Processed images 33500 to 33599\n",
      "Processed images 33600 to 33699\n",
      "Processed images 33700 to 33799\n",
      "Processed images 33800 to 33899\n",
      "Processed images 33900 to 33999\n",
      "Processed images 34000 to 34099\n",
      "Processed images 34100 to 34199\n",
      "Processed images 34200 to 34299\n",
      "Processed images 34300 to 34399\n",
      "Processed images 34400 to 34499\n",
      "Processed images 34500 to 34599\n",
      "Processed images 34600 to 34699\n",
      "Processed images 34700 to 34799\n",
      "Processed images 34800 to 34899\n",
      "Processed images 34900 to 34999\n",
      "Processed images 35000 to 35099\n",
      "Processed images 35100 to 35199\n",
      "Processed images 35200 to 35299\n",
      "Processed images 35300 to 35399\n",
      "Processed images 35400 to 35499\n",
      "Processed images 35500 to 35599\n",
      "Processed images 35600 to 35699\n",
      "Processed images 35700 to 35799\n",
      "Processed images 35800 to 35899\n",
      "Processed images 35900 to 35999\n",
      "Processed images 36000 to 36099\n",
      "Processed images 36100 to 36199\n",
      "Processed images 36200 to 36299\n",
      "Processed images 36300 to 36399\n",
      "Processed images 36400 to 36499\n",
      "Processed images 36500 to 36599\n",
      "Processed images 36600 to 36699\n",
      "Processed images 36700 to 36799\n",
      "Processed images 36800 to 36899\n",
      "Processed images 36900 to 36999\n",
      "Processed images 37000 to 37099\n",
      "Processed images 37100 to 37199\n",
      "Processed images 37200 to 37299\n",
      "Processed images 37300 to 37399\n",
      "Processed images 37400 to 37499\n",
      "Processed images 37500 to 37599\n",
      "Processed images 37600 to 37699\n",
      "Processed images 37700 to 37799\n",
      "Processed images 37800 to 37899\n",
      "Processed images 37900 to 37999\n",
      "Processed images 38000 to 38099\n",
      "Processed images 38100 to 38199\n",
      "Processed images 38200 to 38299\n",
      "Processed images 38300 to 38399\n",
      "Processed images 38400 to 38499\n",
      "Processed images 38500 to 38599\n",
      "Processed images 38600 to 38699\n",
      "Processed images 38700 to 38799\n",
      "Processed images 38800 to 38899\n",
      "Processed images 38900 to 38999\n",
      "Processed images 39000 to 39099\n",
      "Processed images 39100 to 39199\n",
      "Processed images 39200 to 39299\n",
      "Processed images 39300 to 39399\n",
      "Processed images 39400 to 39499\n",
      "Processed images 39500 to 39599\n",
      "Processed images 39600 to 39699\n",
      "Processed images 39700 to 39799\n",
      "Processed images 39800 to 39899\n",
      "Processed images 39900 to 39999\n",
      "Processed images 40000 to 40099\n",
      "Processed images 40100 to 40199\n",
      "Processed images 40200 to 40299\n",
      "Processed images 40300 to 40399\n",
      "Processed images 40400 to 40499\n",
      "Processed images 40500 to 40599\n",
      "Processed images 40600 to 40699\n",
      "Processed images 40700 to 40799\n",
      "Processed images 40800 to 40899\n",
      "Processed images 40900 to 40999\n",
      "Processed images 41000 to 41099\n",
      "Processed images 41100 to 41199\n",
      "Processed images 41200 to 41299\n",
      "Processed images 41300 to 41399\n",
      "Processed images 41400 to 41499\n",
      "Processed images 41500 to 41599\n",
      "Processed images 41600 to 41699\n",
      "Processed images 41700 to 41799\n",
      "Processed images 41800 to 41899\n",
      "Processed images 41900 to 41999\n",
      "Processed images 42000 to 42099\n",
      "Processed images 42100 to 42199\n",
      "Processed images 42200 to 42299\n",
      "Processed images 42300 to 42399\n",
      "Processed images 42400 to 42499\n",
      "Processed images 42500 to 42599\n",
      "Processed images 42600 to 42699\n",
      "Processed images 42700 to 42799\n",
      "Processed images 42800 to 42899\n",
      "Processed images 42900 to 42999\n",
      "Processed images 43000 to 43099\n",
      "Processed images 43100 to 43199\n",
      "Processed images 43200 to 43299\n",
      "Processed images 43300 to 43399\n",
      "Processed images 43400 to 43499\n",
      "Processed images 43500 to 43599\n",
      "Processed images 43600 to 43699\n",
      "Processed images 43700 to 43799\n",
      "Processed images 43800 to 43899\n",
      "Processed images 43900 to 43999\n",
      "Processed images 44000 to 44099\n",
      "Processed images 44100 to 44199\n",
      "Processed images 44200 to 44299\n",
      "Processed images 44300 to 44399\n",
      "Processed images 44400 to 44499\n",
      "Processed images 44500 to 44599\n",
      "Processed images 44600 to 44699\n",
      "Processed images 44700 to 44799\n",
      "Processed images 44800 to 44899\n",
      "Processed images 44900 to 44999\n",
      "Processed images 45000 to 45099\n",
      "Processed images 45100 to 45199\n",
      "Processed images 45200 to 45299\n",
      "Processed images 45300 to 45399\n",
      "Processed images 45400 to 45499\n",
      "Processed images 45500 to 45599\n",
      "Processed images 45600 to 45699\n",
      "Processed images 45700 to 45799\n",
      "Processed images 45800 to 45899\n",
      "Processed images 45900 to 45999\n",
      "Processed images 46000 to 46099\n",
      "Processed images 46100 to 46199\n",
      "Processed images 46200 to 46299\n",
      "Processed images 46300 to 46399\n",
      "Processed images 46400 to 46499\n",
      "Processed images 46500 to 46599\n",
      "Processed images 46600 to 46699\n",
      "Processed images 46700 to 46799\n",
      "Processed images 46800 to 46899\n",
      "Processed images 46900 to 46999\n",
      "Processed images 47000 to 47099\n",
      "Processed images 47100 to 47199\n",
      "Processed images 47200 to 47299\n",
      "Processed images 47300 to 47399\n",
      "Processed images 47400 to 47499\n",
      "Processed images 47500 to 47599\n",
      "Processed images 47600 to 47699\n",
      "Processed images 47700 to 47799\n",
      "Processed images 47800 to 47899\n",
      "Processed images 47900 to 47999\n",
      "Processed images 48000 to 48099\n",
      "Processed images 48100 to 48199\n",
      "Processed images 48200 to 48299\n",
      "Processed images 48300 to 48399\n",
      "Processed images 48400 to 48499\n",
      "Processed images 48500 to 48599\n",
      "Processed images 48600 to 48699\n",
      "Processed images 48700 to 48799\n",
      "Processed images 48800 to 48899\n",
      "Processed images 48900 to 48999\n",
      "Processed images 49000 to 49099\n",
      "Processed images 49100 to 49199\n",
      "Processed images 49200 to 49299\n",
      "Processed images 49300 to 49399\n",
      "Processed images 49400 to 49499\n",
      "Processed images 49500 to 49599\n",
      "Processed images 49600 to 49699\n",
      "Processed images 49700 to 49799\n",
      "Processed images 49800 to 49899\n",
      "Processed images 49900 to 49999\n",
      "✅ Image generation completed!\n"
     ]
    }
   ],
   "source": [
    "import os\n",
    "\n",
    "# Set necessary environment variables\n",
    "os.environ[\"TF_GPU_ALLOCATOR\"] = \"cuda_malloc_async\"\n",
    "# Disable eager execution to avoid early initialization\n",
    "os.environ[\"TF_FORCE_GPU_ALLOW_GROWTH\"] = \"true\"\n",
    "\n",
    "# Only then import tensorflow\n",
    "import tensorflow as tf\n",
    "\n",
    "# Make sure TF doesn't eagerly initialize the context\n",
    "tf.compat.v1.disable_eager_execution()\n",
    "\n",
    "# Configure memory growth\n",
    "physical_devices = tf.config.experimental.list_physical_devices('GPU')\n",
    "if physical_devices:\n",
    "    print(f\"Found GPU devices: {physical_devices}\")\n",
    "    for device in physical_devices:\n",
    "        try:\n",
    "            tf.config.experimental.set_memory_growth(device, True)\n",
    "            print(f\"Memory growth enabled for {device}\")\n",
    "        except Exception as e:\n",
    "            print(f\"Error setting memory growth: {e}\")\n",
    "\n",
    "# Your remaining imports\n",
    "import numpy as np\n",
    "import pandas as pd\n",
    "import matplotlib.pyplot as plt\n",
    "\n",
    "# Load preprocessed dataset\n",
    "df_combined = pd.read_csv(\"preprocessed_data.csv\")\n",
    "\n",
    "# Reduce dataset: Sample 50,000 images\n",
    "df_sampled = df_combined.sample(n=50000, random_state=42)\n",
    "\n",
    "# Convert to NumPy arrays - don't use TensorFlow tensors for the matplotlib workflow\n",
    "lep_eta = df_sampled[\"lep_eta\"].values\n",
    "lep_phi = df_sampled[\"lep_phi\"].values\n",
    "lep_pt = df_sampled[\"lep_pt\"].values\n",
    "\n",
    "# Create directory for images\n",
    "os.makedirs(\"particle_images\", exist_ok=True)\n",
    "\n",
    "# Batch size for processing\n",
    "batch_size = 100\n",
    "\n",
    "# Process in batches without TensorFlow\n",
    "for i in range(0, len(lep_eta), batch_size):\n",
    "    end_idx = min(i + batch_size, len(lep_eta))\n",
    "    \n",
    "    for j in range(i, end_idx):\n",
    "        # Generate and save image using matplotlib directly\n",
    "        fig, ax = plt.subplots(figsize=(2, 2))\n",
    "        scatter = ax.scatter(lep_eta[j], lep_phi[j], c=lep_pt[j], cmap=\"inferno\")\n",
    "        \n",
    "        ax.set_xlim(-3, 3)\n",
    "        ax.set_ylim(-np.pi, np.pi)\n",
    "        ax.axis(\"off\")\n",
    "        \n",
    "        plt.savefig(f\"particle_images/{j}.png\", bbox_inches=\"tight\", pad_inches=0)\n",
    "        plt.close()\n",
    "    \n",
    "    print(f\"Processed images {i} to {end_idx-1}\")\n",
    "\n",
    "print(\"✅ Image generation completed!\")"
   ]
  },
  {
   "cell_type": "code",
   "execution_count": 1,
   "metadata": {},
   "outputs": [
    {
     "name": "stderr",
     "output_type": "stream",
     "text": [
      "100%|██████████| 50001/50001 [04:47<00:00, 173.74it/s]\n"
     ]
    },
    {
     "name": "stdout",
     "output_type": "stream",
     "text": [
      "✅ Image verification and conversion completed!\n"
     ]
    }
   ],
   "source": [
    "import os\n",
    "import cv2\n",
    "import numpy as np\n",
    "from tqdm import tqdm\n",
    "\n",
    "# Ensure images are correctly stored in class subdirectories (e.g., particle_images/class_name/)\n",
    "image_dir = \"particle_images/\"\n",
    "target_dir = \"particle_images/processed/\"\n",
    "os.makedirs(target_dir, exist_ok=True)\n",
    "\n",
    "# Convert any non-PNG images to PNG format\n",
    "for img_name in tqdm(os.listdir(image_dir)):\n",
    "    img_path = os.path.join(image_dir, img_name)\n",
    "\n",
    "    # Ignore non-image files\n",
    "    if not img_name.lower().endswith(('.png', '.jpg', '.jpeg', '.bmp', '.gif')):\n",
    "        continue\n",
    "\n",
    "    # Read image\n",
    "    img = cv2.imread(img_path)\n",
    "    if img is None:\n",
    "        continue  # Skip corrupted images\n",
    "\n",
    "    # Convert & Save as PNG\n",
    "    save_path = os.path.join(target_dir, f\"{os.path.splitext(img_name)[0]}.png\")\n",
    "    cv2.imwrite(save_path, img)\n",
    "\n",
    "print(\"✅ Image verification and conversion completed!\")\n"
   ]
  },
  {
   "cell_type": "code",
   "execution_count": 4,
   "metadata": {},
   "outputs": [
    {
     "name": "stderr",
     "output_type": "stream",
     "text": [
      "100%|██████████| 50001/50001 [00:20<00:00, 2405.00it/s]\n"
     ]
    },
    {
     "name": "stdout",
     "output_type": "stream",
     "text": [
      "✅ Image organization completed: Files moved into class-labeled folders.\n"
     ]
    }
   ],
   "source": [
    "import os\n",
    "import shutil\n",
    "from tqdm import tqdm\n",
    "\n",
    "# Paths\n",
    "source_dir = \"particle_images/\"\n",
    "processed_dir = \"particle_images/processed/\"\n",
    "class_0_dir = os.path.join(processed_dir, \"class_0\")\n",
    "class_1_dir = os.path.join(processed_dir, \"class_1\")\n",
    "\n",
    "# Ensure class directories exist\n",
    "os.makedirs(class_0_dir, exist_ok=True)\n",
    "os.makedirs(class_1_dir, exist_ok=True)\n",
    "\n",
    "# Move images into class folders\n",
    "for idx, img_name in enumerate(tqdm(os.listdir(source_dir))):\n",
    "    img_path = os.path.join(source_dir, img_name)\n",
    "\n",
    "    # Only process valid image files\n",
    "    if img_name.lower().endswith(('.png', '.jpg', '.jpeg', '.bmp', '.gif')):\n",
    "        if idx % 2 == 0:\n",
    "            shutil.move(img_path, os.path.join(class_0_dir, img_name))  # Assign half images to class_0\n",
    "        else:\n",
    "            shutil.move(img_path, os.path.join(class_1_dir, img_name))  # Assign half to class_1\n",
    "\n",
    "print(\"✅ Image organization completed: Files moved into class-labeled folders.\")\n"
   ]
  },
  {
   "cell_type": "code",
   "execution_count": 5,
   "metadata": {},
   "outputs": [
    {
     "name": "stdout",
     "output_type": "stream",
     "text": [
      "Available GPUs: [PhysicalDevice(name='/physical_device:GPU:0', device_type='GPU'), PhysicalDevice(name='/physical_device:GPU:1', device_type='GPU')]\n",
      "Found 50000 files belonging to 2 classes.\n",
      "Using 40000 files for training.\n",
      "Found 50000 files belonging to 2 classes.\n",
      "Using 10000 files for validation.\n",
      "✅ Dataset Loaded Successfully & Using GPU-0\n"
     ]
    }
   ],
   "source": [
    "import tensorflow as tf\n",
    "from tensorflow.keras.preprocessing import image_dataset_from_directory\n",
    "\n",
    "# Ensure TensorFlow DirectML uses GPU-0\n",
    "print(\"Available GPUs:\", tf.config.list_physical_devices('GPU'))\n",
    "tf.device('/GPU:0')\n",
    "\n",
    "# Define dataset path\n",
    "dataset_path = r\"C:\\Users\\vudut\\OneDrive\\Desktop\\Python\\MINI Project\\particle_images\\processed\"  # Use the corrected folder\n",
    "\n",
    "# Load dataset\n",
    "batch_size = 32\n",
    "img_size = (64, 64)  # Resize for CNN\n",
    "\n",
    "train_ds = image_dataset_from_directory(\n",
    "    dataset_path,\n",
    "    validation_split=0.2,\n",
    "    subset=\"training\",\n",
    "    seed=42,\n",
    "    image_size=img_size,\n",
    "    batch_size=batch_size\n",
    ")\n",
    "\n",
    "val_ds = image_dataset_from_directory(\n",
    "    dataset_path,\n",
    "    validation_split=0.2,\n",
    "    subset=\"validation\",\n",
    "    seed=42,\n",
    "    image_size=img_size,\n",
    "    batch_size=batch_size\n",
    ")\n",
    "\n",
    "# Prefetch for performance boost\n",
    "AUTOTUNE = tf.data.AUTOTUNE\n",
    "train_ds = train_ds.prefetch(buffer_size=AUTOTUNE)\n",
    "val_ds = val_ds.prefetch(buffer_size=AUTOTUNE)\n",
    "\n",
    "print(\"✅ Dataset Loaded Successfully & Using GPU-0\")\n"
   ]
  },
  {
   "cell_type": "code",
   "execution_count": 6,
   "metadata": {},
   "outputs": [
    {
     "name": "stdout",
     "output_type": "stream",
     "text": [
      "Model: \"sequential\"\n",
      "_________________________________________________________________\n",
      " Layer (type)                Output Shape              Param #   \n",
      "=================================================================\n",
      " conv2d (Conv2D)             (None, 62, 62, 32)        896       \n",
      "                                                                 \n",
      " max_pooling2d (MaxPooling2D  (None, 31, 31, 32)       0         \n",
      " )                                                               \n",
      "                                                                 \n",
      " conv2d_1 (Conv2D)           (None, 29, 29, 64)        18496     \n",
      "                                                                 \n",
      " max_pooling2d_1 (MaxPooling  (None, 14, 14, 64)       0         \n",
      " 2D)                                                             \n",
      "                                                                 \n",
      " conv2d_2 (Conv2D)           (None, 12, 12, 128)       73856     \n",
      "                                                                 \n",
      " max_pooling2d_2 (MaxPooling  (None, 6, 6, 128)        0         \n",
      " 2D)                                                             \n",
      "                                                                 \n",
      " flatten (Flatten)           (None, 4608)              0         \n",
      "                                                                 \n",
      " dense (Dense)               (None, 128)               589952    \n",
      "                                                                 \n",
      " dense_1 (Dense)             (None, 2)                 258       \n",
      "                                                                 \n",
      "=================================================================\n",
      "Total params: 683,458\n",
      "Trainable params: 683,458\n",
      "Non-trainable params: 0\n",
      "_________________________________________________________________\n",
      "Epoch 1/10\n",
      "1250/1250 [==============================] - 20s 15ms/step - loss: 0.7775 - accuracy: 0.4986 - val_loss: 0.6933 - val_accuracy: 0.4925\n",
      "Epoch 2/10\n",
      "1250/1250 [==============================] - 12s 9ms/step - loss: 0.6932 - accuracy: 0.5014 - val_loss: 0.6932 - val_accuracy: 0.4925\n",
      "Epoch 3/10\n",
      "1250/1250 [==============================] - 12s 10ms/step - loss: 0.6932 - accuracy: 0.5002 - val_loss: 0.6932 - val_accuracy: 0.4925\n",
      "Epoch 4/10\n",
      "1250/1250 [==============================] - 13s 10ms/step - loss: 0.6932 - accuracy: 0.5008 - val_loss: 0.6932 - val_accuracy: 0.4925\n",
      "Epoch 5/10\n",
      "1250/1250 [==============================] - 12s 10ms/step - loss: 0.6932 - accuracy: 0.5022 - val_loss: 0.6932 - val_accuracy: 0.4925\n",
      "Epoch 6/10\n",
      "1250/1250 [==============================] - 12s 10ms/step - loss: 0.6932 - accuracy: 0.4991 - val_loss: 0.6932 - val_accuracy: 0.4925\n",
      "Epoch 7/10\n",
      "1250/1250 [==============================] - 12s 10ms/step - loss: 0.6932 - accuracy: 0.5009 - val_loss: 0.6932 - val_accuracy: 0.4925\n",
      "Epoch 8/10\n",
      "1250/1250 [==============================] - 12s 10ms/step - loss: 0.6932 - accuracy: 0.4979 - val_loss: 0.6932 - val_accuracy: 0.4925\n",
      "Epoch 9/10\n",
      "1250/1250 [==============================] - 12s 10ms/step - loss: 0.6932 - accuracy: 0.4989 - val_loss: 0.6932 - val_accuracy: 0.4925\n",
      "Epoch 10/10\n",
      "1250/1250 [==============================] - 12s 10ms/step - loss: 0.6932 - accuracy: 0.4995 - val_loss: 0.6932 - val_accuracy: 0.4925\n",
      "✅ CNN Training Completed Successfully!\n"
     ]
    }
   ],
   "source": [
    "from tensorflow.keras import layers, models\n",
    "\n",
    "# Force GPU usage\n",
    "with tf.device('/GPU:0'):\n",
    "    model = models.Sequential([\n",
    "        layers.Conv2D(32, (3, 3), activation=\"relu\", input_shape=(64, 64, 3)),\n",
    "        layers.MaxPooling2D((2, 2)),\n",
    "\n",
    "        layers.Conv2D(64, (3, 3), activation=\"relu\"),\n",
    "        layers.MaxPooling2D((2, 2)),\n",
    "\n",
    "        layers.Conv2D(128, (3, 3), activation=\"relu\"),\n",
    "        layers.MaxPooling2D((2, 2)),\n",
    "\n",
    "        layers.Flatten(),\n",
    "        layers.Dense(128, activation=\"relu\"),\n",
    "        layers.Dense(2, activation=\"softmax\")  # Assuming binary classification (signal vs. background)\n",
    "    ])\n",
    "\n",
    "    model.compile(optimizer=\"adam\",\n",
    "                  loss=\"sparse_categorical_crossentropy\",\n",
    "                  metrics=[\"accuracy\"])\n",
    "\n",
    "    model.summary()\n",
    "\n",
    "# Train Model\n",
    "with tf.device('/GPU:0'):\n",
    "    history = model.fit(\n",
    "        train_ds,\n",
    "        validation_data=val_ds,\n",
    "        epochs=10\n",
    "    )\n",
    "\n",
    "print(\"✅ CNN Training Completed Successfully!\")\n"
   ]
  },
  {
   "cell_type": "markdown",
   "metadata": {},
   "source": [
    "## Using weights and baises"
   ]
  },
  {
   "cell_type": "code",
   "execution_count": 3,
   "metadata": {},
   "outputs": [
    {
     "name": "stderr",
     "output_type": "stream",
     "text": [
      "\u001b[34m\u001b[1mwandb\u001b[0m: Using wandb-core as the SDK backend.  Please refer to https://wandb.me/wandb-core for more information.\n",
      "\u001b[34m\u001b[1mwandb\u001b[0m: Currently logged in as: \u001b[33mvuduthasaipraneetham\u001b[0m (\u001b[33mpraneetham\u001b[0m) to \u001b[32mhttps://api.wandb.ai\u001b[0m. Use \u001b[1m`wandb login --relogin`\u001b[0m to force relogin\n"
     ]
    },
    {
     "data": {
      "text/html": [
       "Tracking run with wandb version 0.19.7"
      ],
      "text/plain": [
       "<IPython.core.display.HTML object>"
      ]
     },
     "metadata": {},
     "output_type": "display_data"
    },
    {
     "data": {
      "text/html": [
       "Run data is saved locally in <code>c:\\Users\\vudut\\OneDrive\\Desktop\\Python\\MINI Project\\wandb\\run-20250225_104823-krdab6zm</code>"
      ],
      "text/plain": [
       "<IPython.core.display.HTML object>"
      ]
     },
     "metadata": {},
     "output_type": "display_data"
    },
    {
     "data": {
      "text/html": [
       "Syncing run <strong><a href='https://wandb.ai/praneetham/particle_cnn/runs/krdab6zm' target=\"_blank\">initial_training</a></strong> to <a href='https://wandb.ai/praneetham/particle_cnn' target=\"_blank\">Weights & Biases</a> (<a href='https://wandb.me/developer-guide' target=\"_blank\">docs</a>)<br>"
      ],
      "text/plain": [
       "<IPython.core.display.HTML object>"
      ]
     },
     "metadata": {},
     "output_type": "display_data"
    },
    {
     "data": {
      "text/html": [
       " View project at <a href='https://wandb.ai/praneetham/particle_cnn' target=\"_blank\">https://wandb.ai/praneetham/particle_cnn</a>"
      ],
      "text/plain": [
       "<IPython.core.display.HTML object>"
      ]
     },
     "metadata": {},
     "output_type": "display_data"
    },
    {
     "data": {
      "text/html": [
       " View run at <a href='https://wandb.ai/praneetham/particle_cnn/runs/krdab6zm' target=\"_blank\">https://wandb.ai/praneetham/particle_cnn/runs/krdab6zm</a>"
      ],
      "text/plain": [
       "<IPython.core.display.HTML object>"
      ]
     },
     "metadata": {},
     "output_type": "display_data"
    },
    {
     "name": "stdout",
     "output_type": "stream",
     "text": [
      "Found 50000 files belonging to 2 classes.\n",
      "Using 40000 files for training.\n",
      "Found 50000 files belonging to 2 classes.\n",
      "Using 10000 files for validation.\n"
     ]
    },
    {
     "name": "stderr",
     "output_type": "stream",
     "text": [
      "\u001b[34m\u001b[1mwandb\u001b[0m: \u001b[33mWARNING\u001b[0m WandbCallback is deprecated and will be removed in a future release. Please use the WandbMetricsLogger, WandbModelCheckpoint, and WandbEvalCallback callbacks instead. See https://docs.wandb.ai/guides/integrations/keras for more information.\n",
      "\u001b[34m\u001b[1mwandb\u001b[0m: \u001b[33mWARNING\u001b[0m The save_model argument by default saves the model in the HDF5 format that cannot save custom objects like subclassed models and custom layers. This behavior will be deprecated in a future release in favor of the SavedModel format. Meanwhile, the HDF5 model is saved as W&B files and the SavedModel as W&B Artifacts.\n"
     ]
    },
    {
     "name": "stdout",
     "output_type": "stream",
     "text": [
      "Epoch 1/10\n",
      "1247/1250 [============================>.] - ETA: 0s - loss: 1.0204 - accuracy: 0.5020"
     ]
    },
    {
     "name": "stderr",
     "output_type": "stream",
     "text": [
      "WARNING:absl:Found untraced functions such as _jit_compiled_convolution_op, _jit_compiled_convolution_op, _jit_compiled_convolution_op while saving (showing 3 of 3). These functions will not be directly callable after loading.\n"
     ]
    },
    {
     "name": "stdout",
     "output_type": "stream",
     "text": [
      "INFO:tensorflow:Assets written to: c:\\Users\\vudut\\OneDrive\\Desktop\\Python\\MINI Project\\wandb\\run-20250225_104823-krdab6zm\\files\\model-best\\assets\n"
     ]
    },
    {
     "name": "stderr",
     "output_type": "stream",
     "text": [
      "INFO:tensorflow:Assets written to: c:\\Users\\vudut\\OneDrive\\Desktop\\Python\\MINI Project\\wandb\\run-20250225_104823-krdab6zm\\files\\model-best\\assets\n",
      "\u001b[34m\u001b[1mwandb\u001b[0m: Adding directory to artifact (c:\\Users\\vudut\\OneDrive\\Desktop\\Python\\MINI Project\\wandb\\run-20250225_104823-krdab6zm\\files\\model-best)... Done. 0.0s\n"
     ]
    },
    {
     "name": "stdout",
     "output_type": "stream",
     "text": [
      "1250/1250 [==============================] - 23s 18ms/step - loss: 1.0196 - accuracy: 0.5019 - val_loss: 0.6932 - val_accuracy: 0.4925\n",
      "Epoch 2/10\n",
      "1248/1250 [============================>.] - ETA: 0s - loss: 0.6932 - accuracy: 0.5008"
     ]
    },
    {
     "name": "stderr",
     "output_type": "stream",
     "text": [
      "WARNING:absl:Found untraced functions such as _jit_compiled_convolution_op, _jit_compiled_convolution_op, _jit_compiled_convolution_op while saving (showing 3 of 3). These functions will not be directly callable after loading.\n"
     ]
    },
    {
     "name": "stdout",
     "output_type": "stream",
     "text": [
      "INFO:tensorflow:Assets written to: c:\\Users\\vudut\\OneDrive\\Desktop\\Python\\MINI Project\\wandb\\run-20250225_104823-krdab6zm\\files\\model-best\\assets\n"
     ]
    },
    {
     "name": "stderr",
     "output_type": "stream",
     "text": [
      "INFO:tensorflow:Assets written to: c:\\Users\\vudut\\OneDrive\\Desktop\\Python\\MINI Project\\wandb\\run-20250225_104823-krdab6zm\\files\\model-best\\assets\n",
      "\u001b[34m\u001b[1mwandb\u001b[0m: Adding directory to artifact (c:\\Users\\vudut\\OneDrive\\Desktop\\Python\\MINI Project\\wandb\\run-20250225_104823-krdab6zm\\files\\model-best)... Done. 0.0s\n"
     ]
    },
    {
     "name": "stdout",
     "output_type": "stream",
     "text": [
      "1250/1250 [==============================] - 26s 20ms/step - loss: 0.6932 - accuracy: 0.5009 - val_loss: 0.6932 - val_accuracy: 0.4925\n",
      "Epoch 3/10\n",
      "1244/1250 [============================>.] - ETA: 0s - loss: 0.6932 - accuracy: 0.4996"
     ]
    },
    {
     "name": "stderr",
     "output_type": "stream",
     "text": [
      "WARNING:absl:Found untraced functions such as _jit_compiled_convolution_op, _jit_compiled_convolution_op, _jit_compiled_convolution_op while saving (showing 3 of 3). These functions will not be directly callable after loading.\n"
     ]
    },
    {
     "name": "stdout",
     "output_type": "stream",
     "text": [
      "INFO:tensorflow:Assets written to: c:\\Users\\vudut\\OneDrive\\Desktop\\Python\\MINI Project\\wandb\\run-20250225_104823-krdab6zm\\files\\model-best\\assets\n"
     ]
    },
    {
     "name": "stderr",
     "output_type": "stream",
     "text": [
      "INFO:tensorflow:Assets written to: c:\\Users\\vudut\\OneDrive\\Desktop\\Python\\MINI Project\\wandb\\run-20250225_104823-krdab6zm\\files\\model-best\\assets\n",
      "\u001b[34m\u001b[1mwandb\u001b[0m: Adding directory to artifact (c:\\Users\\vudut\\OneDrive\\Desktop\\Python\\MINI Project\\wandb\\run-20250225_104823-krdab6zm\\files\\model-best)... Done. 0.0s\n"
     ]
    },
    {
     "name": "stdout",
     "output_type": "stream",
     "text": [
      "1250/1250 [==============================] - 24s 19ms/step - loss: 0.6932 - accuracy: 0.5000 - val_loss: 0.6932 - val_accuracy: 0.4925\n",
      "Epoch 4/10\n",
      "1250/1250 [==============================] - 15s 12ms/step - loss: 0.6932 - accuracy: 0.5007 - val_loss: 0.6932 - val_accuracy: 0.4925\n",
      "Epoch 5/10\n",
      "1250/1250 [==============================] - 16s 12ms/step - loss: 0.6932 - accuracy: 0.5005 - val_loss: 0.6932 - val_accuracy: 0.4925\n",
      "Epoch 6/10\n",
      "1250/1250 [==============================] - 16s 13ms/step - loss: 0.6932 - accuracy: 0.4992 - val_loss: 0.6932 - val_accuracy: 0.4925\n",
      "Epoch 7/10\n",
      "1250/1250 [==============================] - 17s 14ms/step - loss: 0.6932 - accuracy: 0.5003 - val_loss: 0.6932 - val_accuracy: 0.4925\n",
      "Epoch 8/10\n",
      "1250/1250 [==============================] - 17s 13ms/step - loss: 0.6932 - accuracy: 0.4995 - val_loss: 0.6932 - val_accuracy: 0.4925\n",
      "Epoch 9/10\n",
      "1250/1250 [==============================] - 16s 13ms/step - loss: 0.6932 - accuracy: 0.4997 - val_loss: 0.6932 - val_accuracy: 0.4925\n",
      "Epoch 10/10\n",
      "1250/1250 [==============================] - 16s 13ms/step - loss: 0.6932 - accuracy: 0.5010 - val_loss: 0.6932 - val_accuracy: 0.4925\n",
      "313/313 [==============================] - 3s 8ms/step - loss: 0.6932 - accuracy: 0.4925\n"
     ]
    },
    {
     "data": {
      "text/html": [],
      "text/plain": [
       "<IPython.core.display.HTML object>"
      ]
     },
     "metadata": {},
     "output_type": "display_data"
    },
    {
     "data": {
      "text/html": [
       "<br>    <style><br>        .wandb-row {<br>            display: flex;<br>            flex-direction: row;<br>            flex-wrap: wrap;<br>            justify-content: flex-start;<br>            width: 100%;<br>        }<br>        .wandb-col {<br>            display: flex;<br>            flex-direction: column;<br>            flex-basis: 100%;<br>            flex: 1;<br>            padding: 10px;<br>        }<br>    </style><br><div class=\"wandb-row\"><div class=\"wandb-col\"><h3>Run history:</h3><br/><table class=\"wandb\"><tr><td>Test Accuracy</td><td>▁</td></tr><tr><td>Test Loss</td><td>▁</td></tr><tr><td>accuracy</td><td>█▅▃▅▄▁▄▂▂▆</td></tr><tr><td>epoch</td><td>▁▂▃▃▄▅▆▆▇█</td></tr><tr><td>loss</td><td>█▁▁▁▁▁▁▁▁▁</td></tr><tr><td>val_accuracy</td><td>▁▁▁▁▁▁▁▁▁▁</td></tr><tr><td>val_loss</td><td>▄▁▁▄▆▄▅▅▄█</td></tr></table><br/></div><div class=\"wandb-col\"><h3>Run summary:</h3><br/><table class=\"wandb\"><tr><td>Test Accuracy</td><td>0.4925</td></tr><tr><td>Test Loss</td><td>0.69324</td></tr><tr><td>accuracy</td><td>0.50102</td></tr><tr><td>best_epoch</td><td>2</td></tr><tr><td>best_val_loss</td><td>0.6932</td></tr><tr><td>epoch</td><td>9</td></tr><tr><td>loss</td><td>0.69317</td></tr><tr><td>val_accuracy</td><td>0.4925</td></tr><tr><td>val_loss</td><td>0.69324</td></tr></table><br/></div></div>"
      ],
      "text/plain": [
       "<IPython.core.display.HTML object>"
      ]
     },
     "metadata": {},
     "output_type": "display_data"
    },
    {
     "data": {
      "text/html": [
       " View run <strong style=\"color:#cdcd00\">initial_training</strong> at: <a href='https://wandb.ai/praneetham/particle_cnn/runs/krdab6zm' target=\"_blank\">https://wandb.ai/praneetham/particle_cnn/runs/krdab6zm</a><br> View project at: <a href='https://wandb.ai/praneetham/particle_cnn' target=\"_blank\">https://wandb.ai/praneetham/particle_cnn</a><br>Synced 5 W&B file(s), 1 media file(s), 13 artifact file(s) and 0 other file(s)"
      ],
      "text/plain": [
       "<IPython.core.display.HTML object>"
      ]
     },
     "metadata": {},
     "output_type": "display_data"
    },
    {
     "data": {
      "text/html": [
       "Find logs at: <code>.\\wandb\\run-20250225_104823-krdab6zm\\logs</code>"
      ],
      "text/plain": [
       "<IPython.core.display.HTML object>"
      ]
     },
     "metadata": {},
     "output_type": "display_data"
    }
   ],
   "source": [
    "import wandb\n",
    "import tensorflow as tf\n",
    "from tensorflow.keras import datasets, layers, models\n",
    "import matplotlib.pyplot as plt\n",
    "\n",
    "# Initialize W&B project\n",
    "wandb.init(project=\"particle_cnn\", name=\"initial_training\")\n",
    "\n",
    "# Define hyperparameters\n",
    "config = wandb.config\n",
    "config.batch_size = 32\n",
    "config.epochs = 10\n",
    "config.learning_rate = 0.001\n",
    "\n",
    "# Load dataset (replace with your dataset path)\n",
    "dataset_path = \"particle_images/processed\"\n",
    "\n",
    "# Load dataset with GPU acceleration\n",
    "with tf.device('/GPU:0'):\n",
    "    train_ds = tf.keras.preprocessing.image_dataset_from_directory(\n",
    "        dataset_path,\n",
    "        validation_split=0.2,\n",
    "        subset=\"training\",\n",
    "        seed=42,\n",
    "        image_size=(64, 64),\n",
    "        batch_size=config.batch_size\n",
    "    )\n",
    "\n",
    "    val_ds = tf.keras.preprocessing.image_dataset_from_directory(\n",
    "        dataset_path,\n",
    "        validation_split=0.2,\n",
    "        subset=\"validation\",\n",
    "        seed=42,\n",
    "        image_size=(64, 64),\n",
    "        batch_size=config.batch_size\n",
    "    )\n",
    "\n",
    "# Define CNN model\n",
    "model = models.Sequential([\n",
    "    layers.Conv2D(32, (3, 3), activation='relu', input_shape=(64, 64, 3)),\n",
    "    layers.MaxPooling2D((2, 2)),\n",
    "    layers.Conv2D(64, (3, 3), activation='relu'),\n",
    "    layers.MaxPooling2D((2, 2)),\n",
    "    layers.Conv2D(128, (3, 3), activation='relu'),\n",
    "    layers.MaxPooling2D((2, 2)),\n",
    "    layers.Flatten(),\n",
    "    layers.Dense(128, activation='relu'),\n",
    "    layers.Dropout(0.5),\n",
    "    layers.Dense(1, activation='sigmoid')\n",
    "])\n",
    "\n",
    "# Compile model\n",
    "model.compile(optimizer=tf.keras.optimizers.Adam(learning_rate=config.learning_rate),\n",
    "              loss='binary_crossentropy',\n",
    "              metrics=['accuracy'])\n",
    "\n",
    "# Train model with W&B logging\n",
    "history = model.fit(\n",
    "    train_ds,\n",
    "    validation_data=val_ds,\n",
    "    epochs=config.epochs,\n",
    "    callbacks=[wandb.keras.WandbCallback()]  # W&B auto-logs training metrics\n",
    ")\n",
    "\n",
    "# Evaluate the model\n",
    "test_loss, test_acc = model.evaluate(val_ds)\n",
    "wandb.log({\"Test Accuracy\": test_acc, \"Test Loss\": test_loss})\n",
    "\n",
    "# Finish the W&B run\n",
    "wandb.finish()\n"
   ]
  },
  {
   "cell_type": "markdown",
   "metadata": {},
   "source": [
    "## Hyper Parameter Tuning"
   ]
  },
  {
   "cell_type": "code",
   "execution_count": 5,
   "metadata": {},
   "outputs": [
    {
     "name": "stderr",
     "output_type": "stream",
     "text": [
      "c:\\Users\\vudut\\anaconda3\\envs\\tfamd\\lib\\site-packages\\tqdm\\auto.py:21: TqdmWarning: IProgress not found. Please update jupyter and ipywidgets. See https://ipywidgets.readthedocs.io/en/stable/user_install.html\n",
      "  from .autonotebook import tqdm as notebook_tqdm\n"
     ]
    },
    {
     "data": {
      "text/html": [
       "Tracking run with wandb version 0.19.7"
      ],
      "text/plain": [
       "<IPython.core.display.HTML object>"
      ]
     },
     "metadata": {},
     "output_type": "display_data"
    },
    {
     "data": {
      "text/html": [
       "Run data is saved locally in <code>c:\\Users\\vudut\\OneDrive\\Desktop\\Python\\MINI Project\\wandb\\run-20250225_105718-zkhqbjgp</code>"
      ],
      "text/plain": [
       "<IPython.core.display.HTML object>"
      ]
     },
     "metadata": {},
     "output_type": "display_data"
    },
    {
     "data": {
      "text/html": [
       "Syncing run <strong><a href='https://wandb.ai/praneetham/particle_cnn_tuning/runs/zkhqbjgp' target=\"_blank\">optuna_sweep</a></strong> to <a href='https://wandb.ai/praneetham/particle_cnn_tuning' target=\"_blank\">Weights & Biases</a> (<a href='https://wandb.me/developer-guide' target=\"_blank\">docs</a>)<br>"
      ],
      "text/plain": [
       "<IPython.core.display.HTML object>"
      ]
     },
     "metadata": {},
     "output_type": "display_data"
    },
    {
     "data": {
      "text/html": [
       " View project at <a href='https://wandb.ai/praneetham/particle_cnn_tuning' target=\"_blank\">https://wandb.ai/praneetham/particle_cnn_tuning</a>"
      ],
      "text/plain": [
       "<IPython.core.display.HTML object>"
      ]
     },
     "metadata": {},
     "output_type": "display_data"
    },
    {
     "data": {
      "text/html": [
       " View run at <a href='https://wandb.ai/praneetham/particle_cnn_tuning/runs/zkhqbjgp' target=\"_blank\">https://wandb.ai/praneetham/particle_cnn_tuning/runs/zkhqbjgp</a>"
      ],
      "text/plain": [
       "<IPython.core.display.HTML object>"
      ]
     },
     "metadata": {},
     "output_type": "display_data"
    },
    {
     "name": "stderr",
     "output_type": "stream",
     "text": [
      "[I 2025-02-25 10:57:19,741] A new study created in memory with name: no-name-3e511c61-ba8d-4d52-8363-13615c7abd4d\n",
      "C:\\Users\\vudut\\AppData\\Local\\Temp\\ipykernel_3272\\4024133043.py:15: FutureWarning: suggest_loguniform has been deprecated in v3.0.0. This feature will be removed in v6.0.0. See https://github.com/optuna/optuna/releases/tag/v3.0.0. Use suggest_float(..., log=True) instead.\n",
      "  learning_rate = trial.suggest_loguniform(\"learning_rate\", 1e-5, 1e-2)\n",
      "C:\\Users\\vudut\\AppData\\Local\\Temp\\ipykernel_3272\\4024133043.py:17: FutureWarning: suggest_uniform has been deprecated in v3.0.0. This feature will be removed in v6.0.0. See https://github.com/optuna/optuna/releases/tag/v3.0.0. Use suggest_float instead.\n",
      "  dropout_rate = trial.suggest_uniform(\"dropout_rate\", 0.2, 0.5)\n"
     ]
    },
    {
     "name": "stdout",
     "output_type": "stream",
     "text": [
      "Found 50000 files belonging to 2 classes.\n",
      "Using 40000 files for training.\n",
      "Found 50000 files belonging to 2 classes.\n",
      "Using 10000 files for validation.\n",
      "Epoch 1/10\n",
      "   4/1250 [..............................] - ETA: 28s - loss: 103.5437 - accuracy: 0.4297 WARNING:tensorflow:Callback method `on_train_batch_end` is slow compared to the batch time (batch time: 0.0093s vs `on_train_batch_end` time: 0.0129s). Check your callbacks.\n"
     ]
    },
    {
     "name": "stderr",
     "output_type": "stream",
     "text": [
      "WARNING:tensorflow:Callback method `on_train_batch_end` is slow compared to the batch time (batch time: 0.0093s vs `on_train_batch_end` time: 0.0129s). Check your callbacks.\n"
     ]
    },
    {
     "name": "stdout",
     "output_type": "stream",
     "text": [
      "1250/1250 [==============================] - ETA: 0s - loss: 1.0788 - accuracy: 0.5006"
     ]
    },
    {
     "name": "stderr",
     "output_type": "stream",
     "text": [
      "WARNING:absl:Found untraced functions such as _jit_compiled_convolution_op, _jit_compiled_convolution_op, _jit_compiled_convolution_op while saving (showing 3 of 3). These functions will not be directly callable after loading.\n"
     ]
    },
    {
     "name": "stdout",
     "output_type": "stream",
     "text": [
      "INFO:tensorflow:Assets written to: c:\\Users\\vudut\\OneDrive\\Desktop\\Python\\MINI Project\\wandb\\run-20250225_105718-zkhqbjgp\\files\\model-best\\assets\n"
     ]
    },
    {
     "name": "stderr",
     "output_type": "stream",
     "text": [
      "INFO:tensorflow:Assets written to: c:\\Users\\vudut\\OneDrive\\Desktop\\Python\\MINI Project\\wandb\\run-20250225_105718-zkhqbjgp\\files\\model-best\\assets\n",
      "\u001b[34m\u001b[1mwandb\u001b[0m: Adding directory to artifact (c:\\Users\\vudut\\OneDrive\\Desktop\\Python\\MINI Project\\wandb\\run-20250225_105718-zkhqbjgp\\files\\model-best)... Done. 0.1s\n"
     ]
    },
    {
     "name": "stdout",
     "output_type": "stream",
     "text": [
      "1250/1250 [==============================] - 33s 26ms/step - loss: 1.0788 - accuracy: 0.5006 - val_loss: 0.6932 - val_accuracy: 0.4925\n",
      "Epoch 2/10\n",
      "1249/1250 [============================>.] - ETA: 0s - loss: 0.6932 - accuracy: 0.5011"
     ]
    },
    {
     "name": "stderr",
     "output_type": "stream",
     "text": [
      "WARNING:absl:Found untraced functions such as _jit_compiled_convolution_op, _jit_compiled_convolution_op, _jit_compiled_convolution_op while saving (showing 3 of 3). These functions will not be directly callable after loading.\n"
     ]
    },
    {
     "name": "stdout",
     "output_type": "stream",
     "text": [
      "INFO:tensorflow:Assets written to: c:\\Users\\vudut\\OneDrive\\Desktop\\Python\\MINI Project\\wandb\\run-20250225_105718-zkhqbjgp\\files\\model-best\\assets\n"
     ]
    },
    {
     "name": "stderr",
     "output_type": "stream",
     "text": [
      "INFO:tensorflow:Assets written to: c:\\Users\\vudut\\OneDrive\\Desktop\\Python\\MINI Project\\wandb\\run-20250225_105718-zkhqbjgp\\files\\model-best\\assets\n",
      "\u001b[34m\u001b[1mwandb\u001b[0m: Adding directory to artifact (c:\\Users\\vudut\\OneDrive\\Desktop\\Python\\MINI Project\\wandb\\run-20250225_105718-zkhqbjgp\\files\\model-best)... Done. 0.1s\n"
     ]
    },
    {
     "name": "stdout",
     "output_type": "stream",
     "text": [
      "1250/1250 [==============================] - 38s 30ms/step - loss: 0.6932 - accuracy: 0.5012 - val_loss: 0.6932 - val_accuracy: 0.4925\n",
      "Epoch 3/10\n",
      "1248/1250 [============================>.] - ETA: 0s - loss: 0.6932 - accuracy: 0.4999"
     ]
    },
    {
     "name": "stderr",
     "output_type": "stream",
     "text": [
      "WARNING:absl:Found untraced functions such as _jit_compiled_convolution_op, _jit_compiled_convolution_op, _jit_compiled_convolution_op while saving (showing 3 of 3). These functions will not be directly callable after loading.\n"
     ]
    },
    {
     "name": "stdout",
     "output_type": "stream",
     "text": [
      "INFO:tensorflow:Assets written to: c:\\Users\\vudut\\OneDrive\\Desktop\\Python\\MINI Project\\wandb\\run-20250225_105718-zkhqbjgp\\files\\model-best\\assets\n"
     ]
    },
    {
     "name": "stderr",
     "output_type": "stream",
     "text": [
      "INFO:tensorflow:Assets written to: c:\\Users\\vudut\\OneDrive\\Desktop\\Python\\MINI Project\\wandb\\run-20250225_105718-zkhqbjgp\\files\\model-best\\assets\n",
      "\u001b[34m\u001b[1mwandb\u001b[0m: Adding directory to artifact (c:\\Users\\vudut\\OneDrive\\Desktop\\Python\\MINI Project\\wandb\\run-20250225_105718-zkhqbjgp\\files\\model-best)... Done. 0.1s\n"
     ]
    },
    {
     "name": "stdout",
     "output_type": "stream",
     "text": [
      "1250/1250 [==============================] - 37s 30ms/step - loss: 0.6932 - accuracy: 0.5000 - val_loss: 0.6932 - val_accuracy: 0.4925\n",
      "Epoch 4/10\n",
      "1250/1250 [==============================] - 33s 26ms/step - loss: 0.6932 - accuracy: 0.5006 - val_loss: 0.6932 - val_accuracy: 0.4925\n",
      "Epoch 5/10\n",
      "1250/1250 [==============================] - 33s 26ms/step - loss: 0.6932 - accuracy: 0.5001 - val_loss: 0.6932 - val_accuracy: 0.4925\n",
      "Epoch 6/10\n",
      "1250/1250 [==============================] - 32s 25ms/step - loss: 0.6932 - accuracy: 0.4996 - val_loss: 0.6932 - val_accuracy: 0.4925\n",
      "Epoch 7/10\n",
      "1250/1250 [==============================] - 31s 25ms/step - loss: 0.6932 - accuracy: 0.5008 - val_loss: 0.6932 - val_accuracy: 0.4925\n",
      "Epoch 8/10\n",
      "1250/1250 [==============================] - 31s 25ms/step - loss: 0.6932 - accuracy: 0.4993 - val_loss: 0.6932 - val_accuracy: 0.4925\n",
      "Epoch 9/10\n",
      "1250/1250 [==============================] - 31s 25ms/step - loss: 0.6932 - accuracy: 0.4999 - val_loss: 0.6932 - val_accuracy: 0.4925\n",
      "Epoch 10/10\n",
      "1250/1250 [==============================] - 31s 25ms/step - loss: 0.6932 - accuracy: 0.5009 - val_loss: 0.6932 - val_accuracy: 0.4925\n",
      "313/313 [==============================] - 3s 11ms/step - loss: 0.6932 - accuracy: 0.4925\n"
     ]
    },
    {
     "name": "stderr",
     "output_type": "stream",
     "text": [
      "[I 2025-02-25 11:03:11,340] Trial 0 finished with value: 0.492499977350235 and parameters: {'learning_rate': 0.0009622375373745906, 'batch_size': 32, 'dropout_rate': 0.34714578241414407, 'num_filters': 128}. Best is trial 0 with value: 0.492499977350235.\n",
      "C:\\Users\\vudut\\AppData\\Local\\Temp\\ipykernel_3272\\4024133043.py:15: FutureWarning: suggest_loguniform has been deprecated in v3.0.0. This feature will be removed in v6.0.0. See https://github.com/optuna/optuna/releases/tag/v3.0.0. Use suggest_float(..., log=True) instead.\n",
      "  learning_rate = trial.suggest_loguniform(\"learning_rate\", 1e-5, 1e-2)\n",
      "C:\\Users\\vudut\\AppData\\Local\\Temp\\ipykernel_3272\\4024133043.py:17: FutureWarning: suggest_uniform has been deprecated in v3.0.0. This feature will be removed in v6.0.0. See https://github.com/optuna/optuna/releases/tag/v3.0.0. Use suggest_float instead.\n",
      "  dropout_rate = trial.suggest_uniform(\"dropout_rate\", 0.2, 0.5)\n"
     ]
    },
    {
     "name": "stdout",
     "output_type": "stream",
     "text": [
      "Found 50000 files belonging to 2 classes.\n",
      "Using 40000 files for training.\n",
      "Found 50000 files belonging to 2 classes.\n",
      "Using 10000 files for validation.\n",
      "Epoch 1/10\n",
      "   5/2500 [..............................] - ETA: 33s - loss: 11.5583 - accuracy: 0.5250 WARNING:tensorflow:Callback method `on_train_batch_end` is slow compared to the batch time (batch time: 0.0063s vs `on_train_batch_end` time: 0.0079s). Check your callbacks.\n"
     ]
    },
    {
     "name": "stderr",
     "output_type": "stream",
     "text": [
      "WARNING:tensorflow:Callback method `on_train_batch_end` is slow compared to the batch time (batch time: 0.0063s vs `on_train_batch_end` time: 0.0079s). Check your callbacks.\n"
     ]
    },
    {
     "name": "stdout",
     "output_type": "stream",
     "text": [
      "2500/2500 [==============================] - ETA: 0s - loss: 0.7903 - accuracy: 0.5011"
     ]
    },
    {
     "name": "stderr",
     "output_type": "stream",
     "text": [
      "WARNING:absl:Found untraced functions such as _jit_compiled_convolution_op, _jit_compiled_convolution_op, _jit_compiled_convolution_op while saving (showing 3 of 3). These functions will not be directly callable after loading.\n"
     ]
    },
    {
     "name": "stdout",
     "output_type": "stream",
     "text": [
      "INFO:tensorflow:Assets written to: c:\\Users\\vudut\\OneDrive\\Desktop\\Python\\MINI Project\\wandb\\run-20250225_105718-zkhqbjgp\\files\\model-best\\assets\n"
     ]
    },
    {
     "name": "stderr",
     "output_type": "stream",
     "text": [
      "INFO:tensorflow:Assets written to: c:\\Users\\vudut\\OneDrive\\Desktop\\Python\\MINI Project\\wandb\\run-20250225_105718-zkhqbjgp\\files\\model-best\\assets\n",
      "\u001b[34m\u001b[1mwandb\u001b[0m: Adding directory to artifact (c:\\Users\\vudut\\OneDrive\\Desktop\\Python\\MINI Project\\wandb\\run-20250225_105718-zkhqbjgp\\files\\model-best)... Done. 0.1s\n"
     ]
    },
    {
     "name": "stdout",
     "output_type": "stream",
     "text": [
      "2500/2500 [==============================] - 47s 19ms/step - loss: 0.7903 - accuracy: 0.5011 - val_loss: 0.6932 - val_accuracy: 0.4925\n",
      "Epoch 2/10\n",
      "2500/2500 [==============================] - 37s 15ms/step - loss: 0.6931 - accuracy: 0.5019 - val_loss: 0.6932 - val_accuracy: 0.4925\n",
      "Epoch 3/10\n",
      "2497/2500 [============================>.] - ETA: 0s - loss: 0.6931 - accuracy: 0.5020"
     ]
    },
    {
     "name": "stderr",
     "output_type": "stream",
     "text": [
      "[W 2025-02-25 11:05:26,329] Trial 1 failed with parameters: {'learning_rate': 4.395886006195585e-05, 'batch_size': 16, 'dropout_rate': 0.24134162728384162, 'num_filters': 128} because of the following error: KeyboardInterrupt().\n",
      "Traceback (most recent call last):\n",
      "  File \"c:\\Users\\vudut\\anaconda3\\envs\\tfamd\\lib\\site-packages\\optuna\\study\\_optimize.py\", line 197, in _run_trial\n",
      "    value_or_values = func(trial)\n",
      "  File \"C:\\Users\\vudut\\AppData\\Local\\Temp\\ipykernel_3272\\4024133043.py\", line 59, in build_and_train_model\n",
      "    history = model.fit(\n",
      "  File \"c:\\Users\\vudut\\anaconda3\\envs\\tfamd\\lib\\site-packages\\wandb\\integration\\keras\\keras.py\", line 176, in new_v2\n",
      "    return old_v2(*args, **kwargs)\n",
      "  File \"c:\\Users\\vudut\\anaconda3\\envs\\tfamd\\lib\\site-packages\\wandb\\integration\\keras\\keras.py\", line 176, in new_v2\n",
      "    return old_v2(*args, **kwargs)\n",
      "  File \"c:\\Users\\vudut\\anaconda3\\envs\\tfamd\\lib\\site-packages\\wandb\\integration\\keras\\keras.py\", line 176, in new_v2\n",
      "    return old_v2(*args, **kwargs)\n",
      "  File \"c:\\Users\\vudut\\anaconda3\\envs\\tfamd\\lib\\site-packages\\keras\\utils\\traceback_utils.py\", line 65, in error_handler\n",
      "    return fn(*args, **kwargs)\n",
      "  File \"c:\\Users\\vudut\\anaconda3\\envs\\tfamd\\lib\\site-packages\\keras\\engine\\training.py\", line 1606, in fit\n",
      "    val_logs = self.evaluate(\n",
      "  File \"c:\\Users\\vudut\\anaconda3\\envs\\tfamd\\lib\\site-packages\\keras\\utils\\traceback_utils.py\", line 65, in error_handler\n",
      "    return fn(*args, **kwargs)\n",
      "  File \"c:\\Users\\vudut\\anaconda3\\envs\\tfamd\\lib\\site-packages\\keras\\engine\\training.py\", line 1947, in evaluate\n",
      "    tmp_logs = self.test_function(iterator)\n",
      "  File \"c:\\Users\\vudut\\anaconda3\\envs\\tfamd\\lib\\site-packages\\tensorflow\\python\\util\\traceback_utils.py\", line 150, in error_handler\n",
      "    return fn(*args, **kwargs)\n",
      "  File \"c:\\Users\\vudut\\anaconda3\\envs\\tfamd\\lib\\site-packages\\tensorflow\\python\\eager\\def_function.py\", line 915, in __call__\n",
      "    result = self._call(*args, **kwds)\n",
      "  File \"c:\\Users\\vudut\\anaconda3\\envs\\tfamd\\lib\\site-packages\\tensorflow\\python\\eager\\def_function.py\", line 954, in _call\n",
      "    results = self._stateful_fn(*args, **kwds)\n",
      "  File \"c:\\Users\\vudut\\anaconda3\\envs\\tfamd\\lib\\site-packages\\tensorflow\\python\\eager\\function.py\", line 2496, in __call__\n",
      "    return graph_function._call_flat(\n",
      "  File \"c:\\Users\\vudut\\anaconda3\\envs\\tfamd\\lib\\site-packages\\tensorflow\\python\\eager\\function.py\", line 1862, in _call_flat\n",
      "    return self._build_call_outputs(self._inference_function.call(\n",
      "  File \"c:\\Users\\vudut\\anaconda3\\envs\\tfamd\\lib\\site-packages\\tensorflow\\python\\eager\\function.py\", line 499, in call\n",
      "    outputs = execute.execute(\n",
      "  File \"c:\\Users\\vudut\\anaconda3\\envs\\tfamd\\lib\\site-packages\\tensorflow\\python\\eager\\execute.py\", line 54, in quick_execute\n",
      "    tensors = pywrap_tfe.TFE_Py_Execute(ctx._handle, device_name, op_name,\n",
      "KeyboardInterrupt\n",
      "[W 2025-02-25 11:05:26,348] Trial 1 failed with value None.\n"
     ]
    },
    {
     "ename": "KeyboardInterrupt",
     "evalue": "",
     "output_type": "error",
     "traceback": [
      "\u001b[1;31m---------------------------------------------------------------------------\u001b[0m",
      "\u001b[1;31mKeyboardInterrupt\u001b[0m                         Traceback (most recent call last)",
      "Cell \u001b[1;32mIn[5], line 74\u001b[0m\n\u001b[0;32m     72\u001b[0m \u001b[38;5;66;03m# Optimize using Optuna\u001b[39;00m\n\u001b[0;32m     73\u001b[0m study \u001b[38;5;241m=\u001b[39m optuna\u001b[38;5;241m.\u001b[39mcreate_study(direction\u001b[38;5;241m=\u001b[39m\u001b[38;5;124m\"\u001b[39m\u001b[38;5;124mmaximize\u001b[39m\u001b[38;5;124m\"\u001b[39m)  \u001b[38;5;66;03m# Maximize validation accuracy\u001b[39;00m\n\u001b[1;32m---> 74\u001b[0m \u001b[43mstudy\u001b[49m\u001b[38;5;241;43m.\u001b[39;49m\u001b[43moptimize\u001b[49m\u001b[43m(\u001b[49m\u001b[43mbuild_and_train_model\u001b[49m\u001b[43m,\u001b[49m\u001b[43m \u001b[49m\u001b[43mn_trials\u001b[49m\u001b[38;5;241;43m=\u001b[39;49m\u001b[38;5;241;43m10\u001b[39;49m\u001b[43m)\u001b[49m\n\u001b[0;32m     76\u001b[0m \u001b[38;5;66;03m# Best hyperparameters\u001b[39;00m\n\u001b[0;32m     77\u001b[0m \u001b[38;5;28mprint\u001b[39m(\u001b[38;5;124m\"\u001b[39m\u001b[38;5;124mBest Hyperparameters:\u001b[39m\u001b[38;5;124m\"\u001b[39m, study\u001b[38;5;241m.\u001b[39mbest_params)\n",
      "File \u001b[1;32mc:\\Users\\vudut\\anaconda3\\envs\\tfamd\\lib\\site-packages\\optuna\\study\\study.py:475\u001b[0m, in \u001b[0;36mStudy.optimize\u001b[1;34m(self, func, n_trials, timeout, n_jobs, catch, callbacks, gc_after_trial, show_progress_bar)\u001b[0m\n\u001b[0;32m    373\u001b[0m \u001b[38;5;28;01mdef\u001b[39;00m \u001b[38;5;21moptimize\u001b[39m(\n\u001b[0;32m    374\u001b[0m     \u001b[38;5;28mself\u001b[39m,\n\u001b[0;32m    375\u001b[0m     func: ObjectiveFuncType,\n\u001b[1;32m   (...)\u001b[0m\n\u001b[0;32m    382\u001b[0m     show_progress_bar: \u001b[38;5;28mbool\u001b[39m \u001b[38;5;241m=\u001b[39m \u001b[38;5;28;01mFalse\u001b[39;00m,\n\u001b[0;32m    383\u001b[0m ) \u001b[38;5;241m-\u001b[39m\u001b[38;5;241m>\u001b[39m \u001b[38;5;28;01mNone\u001b[39;00m:\n\u001b[0;32m    384\u001b[0m \u001b[38;5;250m    \u001b[39m\u001b[38;5;124;03m\"\"\"Optimize an objective function.\u001b[39;00m\n\u001b[0;32m    385\u001b[0m \n\u001b[0;32m    386\u001b[0m \u001b[38;5;124;03m    Optimization is done by choosing a suitable set of hyperparameter values from a given\u001b[39;00m\n\u001b[1;32m   (...)\u001b[0m\n\u001b[0;32m    473\u001b[0m \u001b[38;5;124;03m            If nested invocation of this method occurs.\u001b[39;00m\n\u001b[0;32m    474\u001b[0m \u001b[38;5;124;03m    \"\"\"\u001b[39;00m\n\u001b[1;32m--> 475\u001b[0m     \u001b[43m_optimize\u001b[49m\u001b[43m(\u001b[49m\n\u001b[0;32m    476\u001b[0m \u001b[43m        \u001b[49m\u001b[43mstudy\u001b[49m\u001b[38;5;241;43m=\u001b[39;49m\u001b[38;5;28;43mself\u001b[39;49m\u001b[43m,\u001b[49m\n\u001b[0;32m    477\u001b[0m \u001b[43m        \u001b[49m\u001b[43mfunc\u001b[49m\u001b[38;5;241;43m=\u001b[39;49m\u001b[43mfunc\u001b[49m\u001b[43m,\u001b[49m\n\u001b[0;32m    478\u001b[0m \u001b[43m        \u001b[49m\u001b[43mn_trials\u001b[49m\u001b[38;5;241;43m=\u001b[39;49m\u001b[43mn_trials\u001b[49m\u001b[43m,\u001b[49m\n\u001b[0;32m    479\u001b[0m \u001b[43m        \u001b[49m\u001b[43mtimeout\u001b[49m\u001b[38;5;241;43m=\u001b[39;49m\u001b[43mtimeout\u001b[49m\u001b[43m,\u001b[49m\n\u001b[0;32m    480\u001b[0m \u001b[43m        \u001b[49m\u001b[43mn_jobs\u001b[49m\u001b[38;5;241;43m=\u001b[39;49m\u001b[43mn_jobs\u001b[49m\u001b[43m,\u001b[49m\n\u001b[0;32m    481\u001b[0m \u001b[43m        \u001b[49m\u001b[43mcatch\u001b[49m\u001b[38;5;241;43m=\u001b[39;49m\u001b[38;5;28;43mtuple\u001b[39;49m\u001b[43m(\u001b[49m\u001b[43mcatch\u001b[49m\u001b[43m)\u001b[49m\u001b[43m \u001b[49m\u001b[38;5;28;43;01mif\u001b[39;49;00m\u001b[43m \u001b[49m\u001b[38;5;28;43misinstance\u001b[39;49m\u001b[43m(\u001b[49m\u001b[43mcatch\u001b[49m\u001b[43m,\u001b[49m\u001b[43m \u001b[49m\u001b[43mIterable\u001b[49m\u001b[43m)\u001b[49m\u001b[43m \u001b[49m\u001b[38;5;28;43;01melse\u001b[39;49;00m\u001b[43m \u001b[49m\u001b[43m(\u001b[49m\u001b[43mcatch\u001b[49m\u001b[43m,\u001b[49m\u001b[43m)\u001b[49m\u001b[43m,\u001b[49m\n\u001b[0;32m    482\u001b[0m \u001b[43m        \u001b[49m\u001b[43mcallbacks\u001b[49m\u001b[38;5;241;43m=\u001b[39;49m\u001b[43mcallbacks\u001b[49m\u001b[43m,\u001b[49m\n\u001b[0;32m    483\u001b[0m \u001b[43m        \u001b[49m\u001b[43mgc_after_trial\u001b[49m\u001b[38;5;241;43m=\u001b[39;49m\u001b[43mgc_after_trial\u001b[49m\u001b[43m,\u001b[49m\n\u001b[0;32m    484\u001b[0m \u001b[43m        \u001b[49m\u001b[43mshow_progress_bar\u001b[49m\u001b[38;5;241;43m=\u001b[39;49m\u001b[43mshow_progress_bar\u001b[49m\u001b[43m,\u001b[49m\n\u001b[0;32m    485\u001b[0m \u001b[43m    \u001b[49m\u001b[43m)\u001b[49m\n",
      "File \u001b[1;32mc:\\Users\\vudut\\anaconda3\\envs\\tfamd\\lib\\site-packages\\optuna\\study\\_optimize.py:63\u001b[0m, in \u001b[0;36m_optimize\u001b[1;34m(study, func, n_trials, timeout, n_jobs, catch, callbacks, gc_after_trial, show_progress_bar)\u001b[0m\n\u001b[0;32m     61\u001b[0m \u001b[38;5;28;01mtry\u001b[39;00m:\n\u001b[0;32m     62\u001b[0m     \u001b[38;5;28;01mif\u001b[39;00m n_jobs \u001b[38;5;241m==\u001b[39m \u001b[38;5;241m1\u001b[39m:\n\u001b[1;32m---> 63\u001b[0m         \u001b[43m_optimize_sequential\u001b[49m\u001b[43m(\u001b[49m\n\u001b[0;32m     64\u001b[0m \u001b[43m            \u001b[49m\u001b[43mstudy\u001b[49m\u001b[43m,\u001b[49m\n\u001b[0;32m     65\u001b[0m \u001b[43m            \u001b[49m\u001b[43mfunc\u001b[49m\u001b[43m,\u001b[49m\n\u001b[0;32m     66\u001b[0m \u001b[43m            \u001b[49m\u001b[43mn_trials\u001b[49m\u001b[43m,\u001b[49m\n\u001b[0;32m     67\u001b[0m \u001b[43m            \u001b[49m\u001b[43mtimeout\u001b[49m\u001b[43m,\u001b[49m\n\u001b[0;32m     68\u001b[0m \u001b[43m            \u001b[49m\u001b[43mcatch\u001b[49m\u001b[43m,\u001b[49m\n\u001b[0;32m     69\u001b[0m \u001b[43m            \u001b[49m\u001b[43mcallbacks\u001b[49m\u001b[43m,\u001b[49m\n\u001b[0;32m     70\u001b[0m \u001b[43m            \u001b[49m\u001b[43mgc_after_trial\u001b[49m\u001b[43m,\u001b[49m\n\u001b[0;32m     71\u001b[0m \u001b[43m            \u001b[49m\u001b[43mreseed_sampler_rng\u001b[49m\u001b[38;5;241;43m=\u001b[39;49m\u001b[38;5;28;43;01mFalse\u001b[39;49;00m\u001b[43m,\u001b[49m\n\u001b[0;32m     72\u001b[0m \u001b[43m            \u001b[49m\u001b[43mtime_start\u001b[49m\u001b[38;5;241;43m=\u001b[39;49m\u001b[38;5;28;43;01mNone\u001b[39;49;00m\u001b[43m,\u001b[49m\n\u001b[0;32m     73\u001b[0m \u001b[43m            \u001b[49m\u001b[43mprogress_bar\u001b[49m\u001b[38;5;241;43m=\u001b[39;49m\u001b[43mprogress_bar\u001b[49m\u001b[43m,\u001b[49m\n\u001b[0;32m     74\u001b[0m \u001b[43m        \u001b[49m\u001b[43m)\u001b[49m\n\u001b[0;32m     75\u001b[0m     \u001b[38;5;28;01melse\u001b[39;00m:\n\u001b[0;32m     76\u001b[0m         \u001b[38;5;28;01mif\u001b[39;00m n_jobs \u001b[38;5;241m==\u001b[39m \u001b[38;5;241m-\u001b[39m\u001b[38;5;241m1\u001b[39m:\n",
      "File \u001b[1;32mc:\\Users\\vudut\\anaconda3\\envs\\tfamd\\lib\\site-packages\\optuna\\study\\_optimize.py:160\u001b[0m, in \u001b[0;36m_optimize_sequential\u001b[1;34m(study, func, n_trials, timeout, catch, callbacks, gc_after_trial, reseed_sampler_rng, time_start, progress_bar)\u001b[0m\n\u001b[0;32m    157\u001b[0m         \u001b[38;5;28;01mbreak\u001b[39;00m\n\u001b[0;32m    159\u001b[0m \u001b[38;5;28;01mtry\u001b[39;00m:\n\u001b[1;32m--> 160\u001b[0m     frozen_trial \u001b[38;5;241m=\u001b[39m \u001b[43m_run_trial\u001b[49m\u001b[43m(\u001b[49m\u001b[43mstudy\u001b[49m\u001b[43m,\u001b[49m\u001b[43m \u001b[49m\u001b[43mfunc\u001b[49m\u001b[43m,\u001b[49m\u001b[43m \u001b[49m\u001b[43mcatch\u001b[49m\u001b[43m)\u001b[49m\n\u001b[0;32m    161\u001b[0m \u001b[38;5;28;01mfinally\u001b[39;00m:\n\u001b[0;32m    162\u001b[0m     \u001b[38;5;66;03m# The following line mitigates memory problems that can be occurred in some\u001b[39;00m\n\u001b[0;32m    163\u001b[0m     \u001b[38;5;66;03m# environments (e.g., services that use computing containers such as GitHub Actions).\u001b[39;00m\n\u001b[0;32m    164\u001b[0m     \u001b[38;5;66;03m# Please refer to the following PR for further details:\u001b[39;00m\n\u001b[0;32m    165\u001b[0m     \u001b[38;5;66;03m# https://github.com/optuna/optuna/pull/325.\u001b[39;00m\n\u001b[0;32m    166\u001b[0m     \u001b[38;5;28;01mif\u001b[39;00m gc_after_trial:\n",
      "File \u001b[1;32mc:\\Users\\vudut\\anaconda3\\envs\\tfamd\\lib\\site-packages\\optuna\\study\\_optimize.py:248\u001b[0m, in \u001b[0;36m_run_trial\u001b[1;34m(study, func, catch)\u001b[0m\n\u001b[0;32m    241\u001b[0m         \u001b[38;5;28;01massert\u001b[39;00m \u001b[38;5;28;01mFalse\u001b[39;00m, \u001b[38;5;124m\"\u001b[39m\u001b[38;5;124mShould not reach.\u001b[39m\u001b[38;5;124m\"\u001b[39m\n\u001b[0;32m    243\u001b[0m \u001b[38;5;28;01mif\u001b[39;00m (\n\u001b[0;32m    244\u001b[0m     frozen_trial\u001b[38;5;241m.\u001b[39mstate \u001b[38;5;241m==\u001b[39m TrialState\u001b[38;5;241m.\u001b[39mFAIL\n\u001b[0;32m    245\u001b[0m     \u001b[38;5;129;01mand\u001b[39;00m func_err \u001b[38;5;129;01mis\u001b[39;00m \u001b[38;5;129;01mnot\u001b[39;00m \u001b[38;5;28;01mNone\u001b[39;00m\n\u001b[0;32m    246\u001b[0m     \u001b[38;5;129;01mand\u001b[39;00m \u001b[38;5;129;01mnot\u001b[39;00m \u001b[38;5;28misinstance\u001b[39m(func_err, catch)\n\u001b[0;32m    247\u001b[0m ):\n\u001b[1;32m--> 248\u001b[0m     \u001b[38;5;28;01mraise\u001b[39;00m func_err\n\u001b[0;32m    249\u001b[0m \u001b[38;5;28;01mreturn\u001b[39;00m frozen_trial\n",
      "File \u001b[1;32mc:\\Users\\vudut\\anaconda3\\envs\\tfamd\\lib\\site-packages\\optuna\\study\\_optimize.py:197\u001b[0m, in \u001b[0;36m_run_trial\u001b[1;34m(study, func, catch)\u001b[0m\n\u001b[0;32m    195\u001b[0m \u001b[38;5;28;01mwith\u001b[39;00m get_heartbeat_thread(trial\u001b[38;5;241m.\u001b[39m_trial_id, study\u001b[38;5;241m.\u001b[39m_storage):\n\u001b[0;32m    196\u001b[0m     \u001b[38;5;28;01mtry\u001b[39;00m:\n\u001b[1;32m--> 197\u001b[0m         value_or_values \u001b[38;5;241m=\u001b[39m \u001b[43mfunc\u001b[49m\u001b[43m(\u001b[49m\u001b[43mtrial\u001b[49m\u001b[43m)\u001b[49m\n\u001b[0;32m    198\u001b[0m     \u001b[38;5;28;01mexcept\u001b[39;00m exceptions\u001b[38;5;241m.\u001b[39mTrialPruned \u001b[38;5;28;01mas\u001b[39;00m e:\n\u001b[0;32m    199\u001b[0m         \u001b[38;5;66;03m# TODO(mamu): Handle multi-objective cases.\u001b[39;00m\n\u001b[0;32m    200\u001b[0m         state \u001b[38;5;241m=\u001b[39m TrialState\u001b[38;5;241m.\u001b[39mPRUNED\n",
      "Cell \u001b[1;32mIn[5], line 59\u001b[0m, in \u001b[0;36mbuild_and_train_model\u001b[1;34m(trial)\u001b[0m\n\u001b[0;32m     54\u001b[0m model\u001b[38;5;241m.\u001b[39mcompile(optimizer\u001b[38;5;241m=\u001b[39mtf\u001b[38;5;241m.\u001b[39mkeras\u001b[38;5;241m.\u001b[39moptimizers\u001b[38;5;241m.\u001b[39mAdam(learning_rate\u001b[38;5;241m=\u001b[39mlearning_rate),\n\u001b[0;32m     55\u001b[0m               loss\u001b[38;5;241m=\u001b[39m\u001b[38;5;124m'\u001b[39m\u001b[38;5;124mbinary_crossentropy\u001b[39m\u001b[38;5;124m'\u001b[39m,\n\u001b[0;32m     56\u001b[0m               metrics\u001b[38;5;241m=\u001b[39m[\u001b[38;5;124m'\u001b[39m\u001b[38;5;124maccuracy\u001b[39m\u001b[38;5;124m'\u001b[39m])\n\u001b[0;32m     58\u001b[0m \u001b[38;5;66;03m# Train model with W&B logging\u001b[39;00m\n\u001b[1;32m---> 59\u001b[0m history \u001b[38;5;241m=\u001b[39m \u001b[43mmodel\u001b[49m\u001b[38;5;241;43m.\u001b[39;49m\u001b[43mfit\u001b[49m\u001b[43m(\u001b[49m\n\u001b[0;32m     60\u001b[0m \u001b[43m    \u001b[49m\u001b[43mtrain_ds\u001b[49m\u001b[43m,\u001b[49m\n\u001b[0;32m     61\u001b[0m \u001b[43m    \u001b[49m\u001b[43mvalidation_data\u001b[49m\u001b[38;5;241;43m=\u001b[39;49m\u001b[43mval_ds\u001b[49m\u001b[43m,\u001b[49m\n\u001b[0;32m     62\u001b[0m \u001b[43m    \u001b[49m\u001b[43mepochs\u001b[49m\u001b[38;5;241;43m=\u001b[39;49m\u001b[38;5;241;43m10\u001b[39;49m\u001b[43m,\u001b[49m\n\u001b[0;32m     63\u001b[0m \u001b[43m    \u001b[49m\u001b[43mcallbacks\u001b[49m\u001b[38;5;241;43m=\u001b[39;49m\u001b[43m[\u001b[49m\u001b[43mWandbCallback\u001b[49m\u001b[43m(\u001b[49m\u001b[43m)\u001b[49m\u001b[43m]\u001b[49m\n\u001b[0;32m     64\u001b[0m \u001b[43m\u001b[49m\u001b[43m)\u001b[49m\n\u001b[0;32m     66\u001b[0m \u001b[38;5;66;03m# Evaluate model\u001b[39;00m\n\u001b[0;32m     67\u001b[0m _, val_acc \u001b[38;5;241m=\u001b[39m model\u001b[38;5;241m.\u001b[39mevaluate(val_ds)\n",
      "File \u001b[1;32mc:\\Users\\vudut\\anaconda3\\envs\\tfamd\\lib\\site-packages\\wandb\\integration\\keras\\keras.py:176\u001b[0m, in \u001b[0;36mpatch_tf_keras.<locals>.new_v2\u001b[1;34m(*args, **kwargs)\u001b[0m\n\u001b[0;32m    174\u001b[0m     \u001b[38;5;28;01mfor\u001b[39;00m cbk \u001b[38;5;129;01min\u001b[39;00m cbks:\n\u001b[0;32m    175\u001b[0m         set_wandb_attrs(cbk, val_data)\n\u001b[1;32m--> 176\u001b[0m \u001b[38;5;28;01mreturn\u001b[39;00m old_v2(\u001b[38;5;241m*\u001b[39margs, \u001b[38;5;241m*\u001b[39m\u001b[38;5;241m*\u001b[39mkwargs)\n",
      "File \u001b[1;32mc:\\Users\\vudut\\anaconda3\\envs\\tfamd\\lib\\site-packages\\wandb\\integration\\keras\\keras.py:176\u001b[0m, in \u001b[0;36mpatch_tf_keras.<locals>.new_v2\u001b[1;34m(*args, **kwargs)\u001b[0m\n\u001b[0;32m    174\u001b[0m     \u001b[38;5;28;01mfor\u001b[39;00m cbk \u001b[38;5;129;01min\u001b[39;00m cbks:\n\u001b[0;32m    175\u001b[0m         set_wandb_attrs(cbk, val_data)\n\u001b[1;32m--> 176\u001b[0m \u001b[38;5;28;01mreturn\u001b[39;00m old_v2(\u001b[38;5;241m*\u001b[39margs, \u001b[38;5;241m*\u001b[39m\u001b[38;5;241m*\u001b[39mkwargs)\n",
      "File \u001b[1;32mc:\\Users\\vudut\\anaconda3\\envs\\tfamd\\lib\\site-packages\\wandb\\integration\\keras\\keras.py:176\u001b[0m, in \u001b[0;36mpatch_tf_keras.<locals>.new_v2\u001b[1;34m(*args, **kwargs)\u001b[0m\n\u001b[0;32m    174\u001b[0m     \u001b[38;5;28;01mfor\u001b[39;00m cbk \u001b[38;5;129;01min\u001b[39;00m cbks:\n\u001b[0;32m    175\u001b[0m         set_wandb_attrs(cbk, val_data)\n\u001b[1;32m--> 176\u001b[0m \u001b[38;5;28;01mreturn\u001b[39;00m old_v2(\u001b[38;5;241m*\u001b[39margs, \u001b[38;5;241m*\u001b[39m\u001b[38;5;241m*\u001b[39mkwargs)\n",
      "File \u001b[1;32mc:\\Users\\vudut\\anaconda3\\envs\\tfamd\\lib\\site-packages\\keras\\utils\\traceback_utils.py:65\u001b[0m, in \u001b[0;36mfilter_traceback.<locals>.error_handler\u001b[1;34m(*args, **kwargs)\u001b[0m\n\u001b[0;32m     63\u001b[0m filtered_tb \u001b[38;5;241m=\u001b[39m \u001b[38;5;28;01mNone\u001b[39;00m\n\u001b[0;32m     64\u001b[0m \u001b[38;5;28;01mtry\u001b[39;00m:\n\u001b[1;32m---> 65\u001b[0m     \u001b[38;5;28;01mreturn\u001b[39;00m fn(\u001b[38;5;241m*\u001b[39margs, \u001b[38;5;241m*\u001b[39m\u001b[38;5;241m*\u001b[39mkwargs)\n\u001b[0;32m     66\u001b[0m \u001b[38;5;28;01mexcept\u001b[39;00m \u001b[38;5;167;01mException\u001b[39;00m \u001b[38;5;28;01mas\u001b[39;00m e:\n\u001b[0;32m     67\u001b[0m     filtered_tb \u001b[38;5;241m=\u001b[39m _process_traceback_frames(e\u001b[38;5;241m.\u001b[39m__traceback__)\n",
      "File \u001b[1;32mc:\\Users\\vudut\\anaconda3\\envs\\tfamd\\lib\\site-packages\\keras\\engine\\training.py:1606\u001b[0m, in \u001b[0;36mModel.fit\u001b[1;34m(self, x, y, batch_size, epochs, verbose, callbacks, validation_split, validation_data, shuffle, class_weight, sample_weight, initial_epoch, steps_per_epoch, validation_steps, validation_batch_size, validation_freq, max_queue_size, workers, use_multiprocessing)\u001b[0m\n\u001b[0;32m   1591\u001b[0m \u001b[38;5;28;01mif\u001b[39;00m \u001b[38;5;28mgetattr\u001b[39m(\u001b[38;5;28mself\u001b[39m, \u001b[38;5;124m\"\u001b[39m\u001b[38;5;124m_eval_data_handler\u001b[39m\u001b[38;5;124m\"\u001b[39m, \u001b[38;5;28;01mNone\u001b[39;00m) \u001b[38;5;129;01mis\u001b[39;00m \u001b[38;5;28;01mNone\u001b[39;00m:\n\u001b[0;32m   1592\u001b[0m     \u001b[38;5;28mself\u001b[39m\u001b[38;5;241m.\u001b[39m_eval_data_handler \u001b[38;5;241m=\u001b[39m data_adapter\u001b[38;5;241m.\u001b[39mget_data_handler(\n\u001b[0;32m   1593\u001b[0m         x\u001b[38;5;241m=\u001b[39mval_x,\n\u001b[0;32m   1594\u001b[0m         y\u001b[38;5;241m=\u001b[39mval_y,\n\u001b[1;32m   (...)\u001b[0m\n\u001b[0;32m   1604\u001b[0m         steps_per_execution\u001b[38;5;241m=\u001b[39m\u001b[38;5;28mself\u001b[39m\u001b[38;5;241m.\u001b[39m_steps_per_execution,\n\u001b[0;32m   1605\u001b[0m     )\n\u001b[1;32m-> 1606\u001b[0m val_logs \u001b[38;5;241m=\u001b[39m \u001b[38;5;28;43mself\u001b[39;49m\u001b[38;5;241;43m.\u001b[39;49m\u001b[43mevaluate\u001b[49m\u001b[43m(\u001b[49m\n\u001b[0;32m   1607\u001b[0m \u001b[43m    \u001b[49m\u001b[43mx\u001b[49m\u001b[38;5;241;43m=\u001b[39;49m\u001b[43mval_x\u001b[49m\u001b[43m,\u001b[49m\n\u001b[0;32m   1608\u001b[0m \u001b[43m    \u001b[49m\u001b[43my\u001b[49m\u001b[38;5;241;43m=\u001b[39;49m\u001b[43mval_y\u001b[49m\u001b[43m,\u001b[49m\n\u001b[0;32m   1609\u001b[0m \u001b[43m    \u001b[49m\u001b[43msample_weight\u001b[49m\u001b[38;5;241;43m=\u001b[39;49m\u001b[43mval_sample_weight\u001b[49m\u001b[43m,\u001b[49m\n\u001b[0;32m   1610\u001b[0m \u001b[43m    \u001b[49m\u001b[43mbatch_size\u001b[49m\u001b[38;5;241;43m=\u001b[39;49m\u001b[43mvalidation_batch_size\u001b[49m\u001b[43m \u001b[49m\u001b[38;5;129;43;01mor\u001b[39;49;00m\u001b[43m \u001b[49m\u001b[43mbatch_size\u001b[49m\u001b[43m,\u001b[49m\n\u001b[0;32m   1611\u001b[0m \u001b[43m    \u001b[49m\u001b[43msteps\u001b[49m\u001b[38;5;241;43m=\u001b[39;49m\u001b[43mvalidation_steps\u001b[49m\u001b[43m,\u001b[49m\n\u001b[0;32m   1612\u001b[0m \u001b[43m    \u001b[49m\u001b[43mcallbacks\u001b[49m\u001b[38;5;241;43m=\u001b[39;49m\u001b[43mcallbacks\u001b[49m\u001b[43m,\u001b[49m\n\u001b[0;32m   1613\u001b[0m \u001b[43m    \u001b[49m\u001b[43mmax_queue_size\u001b[49m\u001b[38;5;241;43m=\u001b[39;49m\u001b[43mmax_queue_size\u001b[49m\u001b[43m,\u001b[49m\n\u001b[0;32m   1614\u001b[0m \u001b[43m    \u001b[49m\u001b[43mworkers\u001b[49m\u001b[38;5;241;43m=\u001b[39;49m\u001b[43mworkers\u001b[49m\u001b[43m,\u001b[49m\n\u001b[0;32m   1615\u001b[0m \u001b[43m    \u001b[49m\u001b[43muse_multiprocessing\u001b[49m\u001b[38;5;241;43m=\u001b[39;49m\u001b[43muse_multiprocessing\u001b[49m\u001b[43m,\u001b[49m\n\u001b[0;32m   1616\u001b[0m \u001b[43m    \u001b[49m\u001b[43mreturn_dict\u001b[49m\u001b[38;5;241;43m=\u001b[39;49m\u001b[38;5;28;43;01mTrue\u001b[39;49;00m\u001b[43m,\u001b[49m\n\u001b[0;32m   1617\u001b[0m \u001b[43m    \u001b[49m\u001b[43m_use_cached_eval_dataset\u001b[49m\u001b[38;5;241;43m=\u001b[39;49m\u001b[38;5;28;43;01mTrue\u001b[39;49;00m\u001b[43m,\u001b[49m\n\u001b[0;32m   1618\u001b[0m \u001b[43m\u001b[49m\u001b[43m)\u001b[49m\n\u001b[0;32m   1619\u001b[0m val_logs \u001b[38;5;241m=\u001b[39m {\n\u001b[0;32m   1620\u001b[0m     \u001b[38;5;124m\"\u001b[39m\u001b[38;5;124mval_\u001b[39m\u001b[38;5;124m\"\u001b[39m \u001b[38;5;241m+\u001b[39m name: val \u001b[38;5;28;01mfor\u001b[39;00m name, val \u001b[38;5;129;01min\u001b[39;00m val_logs\u001b[38;5;241m.\u001b[39mitems()\n\u001b[0;32m   1621\u001b[0m }\n\u001b[0;32m   1622\u001b[0m epoch_logs\u001b[38;5;241m.\u001b[39mupdate(val_logs)\n",
      "File \u001b[1;32mc:\\Users\\vudut\\anaconda3\\envs\\tfamd\\lib\\site-packages\\keras\\utils\\traceback_utils.py:65\u001b[0m, in \u001b[0;36mfilter_traceback.<locals>.error_handler\u001b[1;34m(*args, **kwargs)\u001b[0m\n\u001b[0;32m     63\u001b[0m filtered_tb \u001b[38;5;241m=\u001b[39m \u001b[38;5;28;01mNone\u001b[39;00m\n\u001b[0;32m     64\u001b[0m \u001b[38;5;28;01mtry\u001b[39;00m:\n\u001b[1;32m---> 65\u001b[0m     \u001b[38;5;28;01mreturn\u001b[39;00m fn(\u001b[38;5;241m*\u001b[39margs, \u001b[38;5;241m*\u001b[39m\u001b[38;5;241m*\u001b[39mkwargs)\n\u001b[0;32m     66\u001b[0m \u001b[38;5;28;01mexcept\u001b[39;00m \u001b[38;5;167;01mException\u001b[39;00m \u001b[38;5;28;01mas\u001b[39;00m e:\n\u001b[0;32m     67\u001b[0m     filtered_tb \u001b[38;5;241m=\u001b[39m _process_traceback_frames(e\u001b[38;5;241m.\u001b[39m__traceback__)\n",
      "File \u001b[1;32mc:\\Users\\vudut\\anaconda3\\envs\\tfamd\\lib\\site-packages\\keras\\engine\\training.py:1947\u001b[0m, in \u001b[0;36mModel.evaluate\u001b[1;34m(self, x, y, batch_size, verbose, sample_weight, steps, callbacks, max_queue_size, workers, use_multiprocessing, return_dict, **kwargs)\u001b[0m\n\u001b[0;32m   1943\u001b[0m \u001b[38;5;28;01mwith\u001b[39;00m tf\u001b[38;5;241m.\u001b[39mprofiler\u001b[38;5;241m.\u001b[39mexperimental\u001b[38;5;241m.\u001b[39mTrace(\n\u001b[0;32m   1944\u001b[0m     \u001b[38;5;124m\"\u001b[39m\u001b[38;5;124mtest\u001b[39m\u001b[38;5;124m\"\u001b[39m, step_num\u001b[38;5;241m=\u001b[39mstep, _r\u001b[38;5;241m=\u001b[39m\u001b[38;5;241m1\u001b[39m\n\u001b[0;32m   1945\u001b[0m ):\n\u001b[0;32m   1946\u001b[0m     callbacks\u001b[38;5;241m.\u001b[39mon_test_batch_begin(step)\n\u001b[1;32m-> 1947\u001b[0m     tmp_logs \u001b[38;5;241m=\u001b[39m \u001b[38;5;28;43mself\u001b[39;49m\u001b[38;5;241;43m.\u001b[39;49m\u001b[43mtest_function\u001b[49m\u001b[43m(\u001b[49m\u001b[43miterator\u001b[49m\u001b[43m)\u001b[49m\n\u001b[0;32m   1948\u001b[0m     \u001b[38;5;28;01mif\u001b[39;00m data_handler\u001b[38;5;241m.\u001b[39mshould_sync:\n\u001b[0;32m   1949\u001b[0m         context\u001b[38;5;241m.\u001b[39masync_wait()\n",
      "File \u001b[1;32mc:\\Users\\vudut\\anaconda3\\envs\\tfamd\\lib\\site-packages\\tensorflow\\python\\util\\traceback_utils.py:150\u001b[0m, in \u001b[0;36mfilter_traceback.<locals>.error_handler\u001b[1;34m(*args, **kwargs)\u001b[0m\n\u001b[0;32m    148\u001b[0m filtered_tb \u001b[38;5;241m=\u001b[39m \u001b[38;5;28;01mNone\u001b[39;00m\n\u001b[0;32m    149\u001b[0m \u001b[38;5;28;01mtry\u001b[39;00m:\n\u001b[1;32m--> 150\u001b[0m   \u001b[38;5;28;01mreturn\u001b[39;00m fn(\u001b[38;5;241m*\u001b[39margs, \u001b[38;5;241m*\u001b[39m\u001b[38;5;241m*\u001b[39mkwargs)\n\u001b[0;32m    151\u001b[0m \u001b[38;5;28;01mexcept\u001b[39;00m \u001b[38;5;167;01mException\u001b[39;00m \u001b[38;5;28;01mas\u001b[39;00m e:\n\u001b[0;32m    152\u001b[0m   filtered_tb \u001b[38;5;241m=\u001b[39m _process_traceback_frames(e\u001b[38;5;241m.\u001b[39m__traceback__)\n",
      "File \u001b[1;32mc:\\Users\\vudut\\anaconda3\\envs\\tfamd\\lib\\site-packages\\tensorflow\\python\\eager\\def_function.py:915\u001b[0m, in \u001b[0;36mFunction.__call__\u001b[1;34m(self, *args, **kwds)\u001b[0m\n\u001b[0;32m    912\u001b[0m compiler \u001b[38;5;241m=\u001b[39m \u001b[38;5;124m\"\u001b[39m\u001b[38;5;124mxla\u001b[39m\u001b[38;5;124m\"\u001b[39m \u001b[38;5;28;01mif\u001b[39;00m \u001b[38;5;28mself\u001b[39m\u001b[38;5;241m.\u001b[39m_jit_compile \u001b[38;5;28;01melse\u001b[39;00m \u001b[38;5;124m\"\u001b[39m\u001b[38;5;124mnonXla\u001b[39m\u001b[38;5;124m\"\u001b[39m\n\u001b[0;32m    914\u001b[0m \u001b[38;5;28;01mwith\u001b[39;00m OptionalXlaContext(\u001b[38;5;28mself\u001b[39m\u001b[38;5;241m.\u001b[39m_jit_compile):\n\u001b[1;32m--> 915\u001b[0m   result \u001b[38;5;241m=\u001b[39m \u001b[38;5;28mself\u001b[39m\u001b[38;5;241m.\u001b[39m_call(\u001b[38;5;241m*\u001b[39margs, \u001b[38;5;241m*\u001b[39m\u001b[38;5;241m*\u001b[39mkwds)\n\u001b[0;32m    917\u001b[0m new_tracing_count \u001b[38;5;241m=\u001b[39m \u001b[38;5;28mself\u001b[39m\u001b[38;5;241m.\u001b[39mexperimental_get_tracing_count()\n\u001b[0;32m    918\u001b[0m without_tracing \u001b[38;5;241m=\u001b[39m (tracing_count \u001b[38;5;241m==\u001b[39m new_tracing_count)\n",
      "File \u001b[1;32mc:\\Users\\vudut\\anaconda3\\envs\\tfamd\\lib\\site-packages\\tensorflow\\python\\eager\\def_function.py:954\u001b[0m, in \u001b[0;36mFunction._call\u001b[1;34m(self, *args, **kwds)\u001b[0m\n\u001b[0;32m    951\u001b[0m \u001b[38;5;28mself\u001b[39m\u001b[38;5;241m.\u001b[39m_lock\u001b[38;5;241m.\u001b[39mrelease()\n\u001b[0;32m    952\u001b[0m \u001b[38;5;66;03m# In this case we have not created variables on the first call. So we can\u001b[39;00m\n\u001b[0;32m    953\u001b[0m \u001b[38;5;66;03m# run the first trace but we should fail if variables are created.\u001b[39;00m\n\u001b[1;32m--> 954\u001b[0m results \u001b[38;5;241m=\u001b[39m \u001b[38;5;28mself\u001b[39m\u001b[38;5;241m.\u001b[39m_stateful_fn(\u001b[38;5;241m*\u001b[39margs, \u001b[38;5;241m*\u001b[39m\u001b[38;5;241m*\u001b[39mkwds)\n\u001b[0;32m    955\u001b[0m \u001b[38;5;28;01mif\u001b[39;00m \u001b[38;5;28mself\u001b[39m\u001b[38;5;241m.\u001b[39m_created_variables \u001b[38;5;129;01mand\u001b[39;00m \u001b[38;5;129;01mnot\u001b[39;00m ALLOW_DYNAMIC_VARIABLE_CREATION:\n\u001b[0;32m    956\u001b[0m   \u001b[38;5;28;01mraise\u001b[39;00m \u001b[38;5;167;01mValueError\u001b[39;00m(\u001b[38;5;124m\"\u001b[39m\u001b[38;5;124mCreating variables on a non-first call to a function\u001b[39m\u001b[38;5;124m\"\u001b[39m\n\u001b[0;32m    957\u001b[0m                    \u001b[38;5;124m\"\u001b[39m\u001b[38;5;124m decorated with tf.function.\u001b[39m\u001b[38;5;124m\"\u001b[39m)\n",
      "File \u001b[1;32mc:\\Users\\vudut\\anaconda3\\envs\\tfamd\\lib\\site-packages\\tensorflow\\python\\eager\\function.py:2496\u001b[0m, in \u001b[0;36mFunction.__call__\u001b[1;34m(self, *args, **kwargs)\u001b[0m\n\u001b[0;32m   2493\u001b[0m \u001b[38;5;28;01mwith\u001b[39;00m \u001b[38;5;28mself\u001b[39m\u001b[38;5;241m.\u001b[39m_lock:\n\u001b[0;32m   2494\u001b[0m   (graph_function,\n\u001b[0;32m   2495\u001b[0m    filtered_flat_args) \u001b[38;5;241m=\u001b[39m \u001b[38;5;28mself\u001b[39m\u001b[38;5;241m.\u001b[39m_maybe_define_function(args, kwargs)\n\u001b[1;32m-> 2496\u001b[0m \u001b[38;5;28;01mreturn\u001b[39;00m \u001b[43mgraph_function\u001b[49m\u001b[38;5;241;43m.\u001b[39;49m\u001b[43m_call_flat\u001b[49m\u001b[43m(\u001b[49m\n\u001b[0;32m   2497\u001b[0m \u001b[43m    \u001b[49m\u001b[43mfiltered_flat_args\u001b[49m\u001b[43m,\u001b[49m\u001b[43m \u001b[49m\u001b[43mcaptured_inputs\u001b[49m\u001b[38;5;241;43m=\u001b[39;49m\u001b[43mgraph_function\u001b[49m\u001b[38;5;241;43m.\u001b[39;49m\u001b[43mcaptured_inputs\u001b[49m\u001b[43m)\u001b[49m\n",
      "File \u001b[1;32mc:\\Users\\vudut\\anaconda3\\envs\\tfamd\\lib\\site-packages\\tensorflow\\python\\eager\\function.py:1862\u001b[0m, in \u001b[0;36mConcreteFunction._call_flat\u001b[1;34m(self, args, captured_inputs, cancellation_manager)\u001b[0m\n\u001b[0;32m   1858\u001b[0m possible_gradient_type \u001b[38;5;241m=\u001b[39m gradients_util\u001b[38;5;241m.\u001b[39mPossibleTapeGradientTypes(args)\n\u001b[0;32m   1859\u001b[0m \u001b[38;5;28;01mif\u001b[39;00m (possible_gradient_type \u001b[38;5;241m==\u001b[39m gradients_util\u001b[38;5;241m.\u001b[39mPOSSIBLE_GRADIENT_TYPES_NONE\n\u001b[0;32m   1860\u001b[0m     \u001b[38;5;129;01mand\u001b[39;00m executing_eagerly):\n\u001b[0;32m   1861\u001b[0m   \u001b[38;5;66;03m# No tape is watching; skip to running the function.\u001b[39;00m\n\u001b[1;32m-> 1862\u001b[0m   \u001b[38;5;28;01mreturn\u001b[39;00m \u001b[38;5;28mself\u001b[39m\u001b[38;5;241m.\u001b[39m_build_call_outputs(\u001b[38;5;28;43mself\u001b[39;49m\u001b[38;5;241;43m.\u001b[39;49m\u001b[43m_inference_function\u001b[49m\u001b[38;5;241;43m.\u001b[39;49m\u001b[43mcall\u001b[49m\u001b[43m(\u001b[49m\n\u001b[0;32m   1863\u001b[0m \u001b[43m      \u001b[49m\u001b[43mctx\u001b[49m\u001b[43m,\u001b[49m\u001b[43m \u001b[49m\u001b[43margs\u001b[49m\u001b[43m,\u001b[49m\u001b[43m \u001b[49m\u001b[43mcancellation_manager\u001b[49m\u001b[38;5;241;43m=\u001b[39;49m\u001b[43mcancellation_manager\u001b[49m\u001b[43m)\u001b[49m)\n\u001b[0;32m   1864\u001b[0m forward_backward \u001b[38;5;241m=\u001b[39m \u001b[38;5;28mself\u001b[39m\u001b[38;5;241m.\u001b[39m_select_forward_and_backward_functions(\n\u001b[0;32m   1865\u001b[0m     args,\n\u001b[0;32m   1866\u001b[0m     possible_gradient_type,\n\u001b[0;32m   1867\u001b[0m     executing_eagerly)\n\u001b[0;32m   1868\u001b[0m forward_function, args_with_tangents \u001b[38;5;241m=\u001b[39m forward_backward\u001b[38;5;241m.\u001b[39mforward()\n",
      "File \u001b[1;32mc:\\Users\\vudut\\anaconda3\\envs\\tfamd\\lib\\site-packages\\tensorflow\\python\\eager\\function.py:499\u001b[0m, in \u001b[0;36m_EagerDefinedFunction.call\u001b[1;34m(self, ctx, args, cancellation_manager)\u001b[0m\n\u001b[0;32m    497\u001b[0m \u001b[38;5;28;01mwith\u001b[39;00m _InterpolateFunctionError(\u001b[38;5;28mself\u001b[39m):\n\u001b[0;32m    498\u001b[0m   \u001b[38;5;28;01mif\u001b[39;00m cancellation_manager \u001b[38;5;129;01mis\u001b[39;00m \u001b[38;5;28;01mNone\u001b[39;00m:\n\u001b[1;32m--> 499\u001b[0m     outputs \u001b[38;5;241m=\u001b[39m \u001b[43mexecute\u001b[49m\u001b[38;5;241;43m.\u001b[39;49m\u001b[43mexecute\u001b[49m\u001b[43m(\u001b[49m\n\u001b[0;32m    500\u001b[0m \u001b[43m        \u001b[49m\u001b[38;5;28;43mstr\u001b[39;49m\u001b[43m(\u001b[49m\u001b[38;5;28;43mself\u001b[39;49m\u001b[38;5;241;43m.\u001b[39;49m\u001b[43msignature\u001b[49m\u001b[38;5;241;43m.\u001b[39;49m\u001b[43mname\u001b[49m\u001b[43m)\u001b[49m\u001b[43m,\u001b[49m\n\u001b[0;32m    501\u001b[0m \u001b[43m        \u001b[49m\u001b[43mnum_outputs\u001b[49m\u001b[38;5;241;43m=\u001b[39;49m\u001b[38;5;28;43mself\u001b[39;49m\u001b[38;5;241;43m.\u001b[39;49m\u001b[43m_num_outputs\u001b[49m\u001b[43m,\u001b[49m\n\u001b[0;32m    502\u001b[0m \u001b[43m        \u001b[49m\u001b[43minputs\u001b[49m\u001b[38;5;241;43m=\u001b[39;49m\u001b[43margs\u001b[49m\u001b[43m,\u001b[49m\n\u001b[0;32m    503\u001b[0m \u001b[43m        \u001b[49m\u001b[43mattrs\u001b[49m\u001b[38;5;241;43m=\u001b[39;49m\u001b[43mattrs\u001b[49m\u001b[43m,\u001b[49m\n\u001b[0;32m    504\u001b[0m \u001b[43m        \u001b[49m\u001b[43mctx\u001b[49m\u001b[38;5;241;43m=\u001b[39;49m\u001b[43mctx\u001b[49m\u001b[43m)\u001b[49m\n\u001b[0;32m    505\u001b[0m   \u001b[38;5;28;01melse\u001b[39;00m:\n\u001b[0;32m    506\u001b[0m     outputs \u001b[38;5;241m=\u001b[39m execute\u001b[38;5;241m.\u001b[39mexecute_with_cancellation(\n\u001b[0;32m    507\u001b[0m         \u001b[38;5;28mstr\u001b[39m(\u001b[38;5;28mself\u001b[39m\u001b[38;5;241m.\u001b[39msignature\u001b[38;5;241m.\u001b[39mname),\n\u001b[0;32m    508\u001b[0m         num_outputs\u001b[38;5;241m=\u001b[39m\u001b[38;5;28mself\u001b[39m\u001b[38;5;241m.\u001b[39m_num_outputs,\n\u001b[1;32m   (...)\u001b[0m\n\u001b[0;32m    511\u001b[0m         ctx\u001b[38;5;241m=\u001b[39mctx,\n\u001b[0;32m    512\u001b[0m         cancellation_manager\u001b[38;5;241m=\u001b[39mcancellation_manager)\n",
      "File \u001b[1;32mc:\\Users\\vudut\\anaconda3\\envs\\tfamd\\lib\\site-packages\\tensorflow\\python\\eager\\execute.py:54\u001b[0m, in \u001b[0;36mquick_execute\u001b[1;34m(op_name, num_outputs, inputs, attrs, ctx, name)\u001b[0m\n\u001b[0;32m     52\u001b[0m \u001b[38;5;28;01mtry\u001b[39;00m:\n\u001b[0;32m     53\u001b[0m   ctx\u001b[38;5;241m.\u001b[39mensure_initialized()\n\u001b[1;32m---> 54\u001b[0m   tensors \u001b[38;5;241m=\u001b[39m \u001b[43mpywrap_tfe\u001b[49m\u001b[38;5;241;43m.\u001b[39;49m\u001b[43mTFE_Py_Execute\u001b[49m\u001b[43m(\u001b[49m\u001b[43mctx\u001b[49m\u001b[38;5;241;43m.\u001b[39;49m\u001b[43m_handle\u001b[49m\u001b[43m,\u001b[49m\u001b[43m \u001b[49m\u001b[43mdevice_name\u001b[49m\u001b[43m,\u001b[49m\u001b[43m \u001b[49m\u001b[43mop_name\u001b[49m\u001b[43m,\u001b[49m\n\u001b[0;32m     55\u001b[0m \u001b[43m                                      \u001b[49m\u001b[43minputs\u001b[49m\u001b[43m,\u001b[49m\u001b[43m \u001b[49m\u001b[43mattrs\u001b[49m\u001b[43m,\u001b[49m\u001b[43m \u001b[49m\u001b[43mnum_outputs\u001b[49m\u001b[43m)\u001b[49m\n\u001b[0;32m     56\u001b[0m \u001b[38;5;28;01mexcept\u001b[39;00m core\u001b[38;5;241m.\u001b[39m_NotOkStatusException \u001b[38;5;28;01mas\u001b[39;00m e:\n\u001b[0;32m     57\u001b[0m   \u001b[38;5;28;01mif\u001b[39;00m name \u001b[38;5;129;01mis\u001b[39;00m \u001b[38;5;129;01mnot\u001b[39;00m \u001b[38;5;28;01mNone\u001b[39;00m:\n",
      "\u001b[1;31mKeyboardInterrupt\u001b[0m: "
     ]
    }
   ],
   "source": [
    "import tensorflow as tf\n",
    "import wandb\n",
    "import optuna\n",
    "from tensorflow.keras import datasets, layers, models\n",
    "from wandb.keras import WandbCallback\n",
    "\n",
    "# Initialize W&B project\n",
    "wandb.init(project=\"particle_cnn_tuning\", name=\"optuna_sweep\")\n",
    "\n",
    "# Load dataset\n",
    "dataset_path = \"particle_images/processed\"\n",
    "\n",
    "def build_and_train_model(trial):\n",
    "    # Define hyperparameters\n",
    "    learning_rate = trial.suggest_loguniform(\"learning_rate\", 1e-5, 1e-2)\n",
    "    batch_size = trial.suggest_categorical(\"batch_size\", [16, 32, 64])\n",
    "    dropout_rate = trial.suggest_uniform(\"dropout_rate\", 0.2, 0.5)\n",
    "    num_filters = trial.suggest_categorical(\"num_filters\", [32, 64, 128])\n",
    "\n",
    "    with tf.device('/GPU:0'):  # Use GPU for faster training\n",
    "        train_ds = tf.keras.preprocessing.image_dataset_from_directory(\n",
    "            dataset_path,\n",
    "            validation_split=0.2,\n",
    "            subset=\"training\",\n",
    "            seed=42,\n",
    "            image_size=(64, 64),\n",
    "            batch_size=batch_size\n",
    "        )\n",
    "\n",
    "        val_ds = tf.keras.preprocessing.image_dataset_from_directory(\n",
    "            dataset_path,\n",
    "            validation_split=0.2,\n",
    "            subset=\"validation\",\n",
    "            seed=42,\n",
    "            image_size=(64, 64),\n",
    "            batch_size=batch_size\n",
    "        )\n",
    "\n",
    "    # Build CNN model\n",
    "    model = models.Sequential([\n",
    "        layers.Conv2D(num_filters, (3, 3), activation='relu', input_shape=(64, 64, 3)),\n",
    "        layers.MaxPooling2D((2, 2)),\n",
    "        layers.Conv2D(num_filters * 2, (3, 3), activation='relu'),\n",
    "        layers.MaxPooling2D((2, 2)),\n",
    "        layers.Conv2D(num_filters * 2, (3, 3), activation='relu'),\n",
    "        layers.MaxPooling2D((2, 2)),\n",
    "        layers.Flatten(),\n",
    "        layers.Dense(128, activation='relu'),\n",
    "        layers.Dropout(dropout_rate),\n",
    "        layers.Dense(1, activation='sigmoid')\n",
    "    ])\n",
    "\n",
    "    # Compile model\n",
    "    model.compile(optimizer=tf.keras.optimizers.Adam(learning_rate=learning_rate),\n",
    "                  loss='binary_crossentropy',\n",
    "                  metrics=['accuracy'])\n",
    "\n",
    "    # Train model with W&B logging\n",
    "    history = model.fit(\n",
    "        train_ds,\n",
    "        validation_data=val_ds,\n",
    "        epochs=10,\n",
    "        callbacks=[WandbCallback()]\n",
    "    )\n",
    "\n",
    "    # Evaluate model\n",
    "    _, val_acc = model.evaluate(val_ds)\n",
    "    wandb.log({\"Validation Accuracy\": val_acc})\n",
    "    \n",
    "    return val_acc  # Optuna maximizes this metric\n",
    "\n",
    "# Optimize using Optuna\n",
    "study = optuna.create_study(direction=\"maximize\")  # Maximize validation accuracy\n",
    "study.optimize(build_and_train_model, n_trials=10)\n",
    "\n",
    "# Best hyperparameters\n",
    "print(\"Best Hyperparameters:\", study.best_params)\n",
    "\n",
    "# Save best model hyperparameters to W&B\n",
    "wandb.config.update(study.best_params)\n",
    "\n",
    "wandb.finish()\n"
   ]
  },
  {
   "cell_type": "code",
   "execution_count": null,
   "metadata": {},
   "outputs": [],
   "source": []
  }
 ],
 "metadata": {
  "kernelspec": {
   "display_name": "tfamd",
   "language": "python",
   "name": "tfamd"
  },
  "language_info": {
   "codemirror_mode": {
    "name": "ipython",
    "version": 3
   },
   "file_extension": ".py",
   "mimetype": "text/x-python",
   "name": "python",
   "nbconvert_exporter": "python",
   "pygments_lexer": "ipython3",
   "version": "3.10.14"
  }
 },
 "nbformat": 4,
 "nbformat_minor": 2
}
