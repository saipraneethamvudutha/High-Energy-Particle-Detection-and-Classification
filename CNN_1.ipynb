{
 "cells": [
  {
   "cell_type": "markdown",
   "metadata": {},
   "source": [
    "## Importing the requried libraries"
   ]
  },
  {
   "cell_type": "code",
   "execution_count": 7,
   "metadata": {},
   "outputs": [],
   "source": [
    "import os\n",
    "import h5py\n",
    "import numpy as np\n",
    "import matplotlib.pyplot as plt\n",
    "from sklearn.preprocessing import MinMaxScaler\n",
    "from tqdm import tqdm"
   ]
  },
  {
   "cell_type": "markdown",
   "metadata": {},
   "source": [
    "## Setting up the image directories"
   ]
  },
  {
   "cell_type": "code",
   "execution_count": 8,
   "metadata": {},
   "outputs": [],
   "source": [
    "hdf5_file = r\"C:\\Users\\vudut\\OneDrive\\Desktop\\Python\\MINI Project\\Data Sets\\jet-images_Mass60-100_pT250-300_R1.25_Pix25.hdf5\"  # Change to your actual file\n",
    "output_dir = \"higgs_images\"\n",
    "train_dir = os.path.join(output_dir, \"train\")\n",
    "val_dir = os.path.join(output_dir, \"val\")"
   ]
  },
  {
   "cell_type": "code",
   "execution_count": 17,
   "metadata": {},
   "outputs": [],
   "source": [
    "for path in [train_dir, val_dir]:\n",
    "    os.makedirs(os.path.join(path, \"signal\"), exist_ok=True)\n",
    "    os.makedirs(os.path.join(path, \"background\"), exist_ok=True)\n"
   ]
  },
  {
   "cell_type": "markdown",
   "metadata": {},
   "source": [
    "## Loading the dataset"
   ]
  },
  {
   "cell_type": "code",
   "execution_count": 18,
   "metadata": {},
   "outputs": [
    {
     "name": "stdout",
     "output_type": "stream",
     "text": [
      "['image', 'jet_delta_R', 'jet_eta', 'jet_mass', 'jet_phi', 'jet_pt', 'signal', 'tau_1', 'tau_2', 'tau_21', 'tau_3', 'tau_32']\n"
     ]
    }
   ],
   "source": [
    "with h5py.File(hdf5_file, \"r\") as f:\n",
    "    print(list(f.keys()))  # Lists all available keys"
   ]
  },
  {
   "cell_type": "code",
   "execution_count": 19,
   "metadata": {},
   "outputs": [],
   "source": [
    "with h5py.File(hdf5_file, \"r\") as f:\n",
    "    features = np.array(f[\"image\"])  # Corrected key\n",
    "    labels = np.array(f[\"signal\"])  # Corrected key"
   ]
  },
  {
   "cell_type": "code",
   "execution_count": 20,
   "metadata": {},
   "outputs": [],
   "source": [
    "# Ensure image dimensions are valid\n",
    "num_samples, img_height, img_width = features.shape\n",
    "assert img_height == img_width, \"Images must be square\"\n"
   ]
  },
  {
   "cell_type": "markdown",
   "metadata": {},
   "source": [
    "## Saving the images"
   ]
  },
  {
   "cell_type": "code",
   "execution_count": 21,
   "metadata": {},
   "outputs": [
    {
     "name": "stderr",
     "output_type": "stream",
     "text": [
      "Saving images: 100%|██████████| 872666/872666 [35:41<00:00, 407.48it/s]   \n"
     ]
    },
    {
     "name": "stdout",
     "output_type": "stream",
     "text": [
      "✅ Conversion complete! Images saved in: higgs_images\n"
     ]
    }
   ],
   "source": [
    "# Save images\n",
    "train_split = int(0.8 * num_samples)\n",
    "for i in tqdm(range(num_samples), desc=\"Saving images\"):\n",
    "    img = features[i]\n",
    "    label = \"signal\" if labels[i] == 1 else \"background\"\n",
    "    \n",
    "    folder = train_dir if i < train_split else val_dir\n",
    "    filename = os.path.join(folder, label, f\"{i}.png\")\n",
    "    \n",
    "    plt.imsave(filename, img, cmap=\"gray\")  # Save as grayscale image\n",
    "\n",
    "print(\"✅ Conversion complete! Images saved in:\", output_dir)"
   ]
  },
  {
   "cell_type": "markdown",
   "metadata": {},
   "source": [
    "## Visualing the images"
   ]
  },
  {
   "cell_type": "code",
   "execution_count": 4,
   "metadata": {},
   "outputs": [
    {
     "data": {
      "image/png": "[encoded data removed]",
      "text/plain": [
       "<Figure size 1200x500 with 10 Axes>"
      ]
     },
     "metadata": {},
     "output_type": "display_data"
    }
   ],
   "source": [
    "import os\n",
    "import matplotlib.pyplot as plt\n",
    "import random\n",
    "from PIL import Image\n",
    "\n",
    "# Define paths\n",
    "train_signal_dir = \"higgs_images/train/signal\"\n",
    "train_background_dir = \"higgs_images/train/background\"\n",
    "\n",
    "# Select random images from each category\n",
    "signal_images = random.sample(os.listdir(train_signal_dir), 5)\n",
    "background_images = random.sample(os.listdir(train_background_dir), 5)\n",
    "\n",
    "# Plot images\n",
    "fig, axes = plt.subplots(2, 5, figsize=(12, 5))\n",
    "for i, img_name in enumerate(signal_images):\n",
    "    img_path = os.path.join(train_signal_dir, img_name)\n",
    "    img = Image.open(img_path)\n",
    "    axes[0, i].imshow(img, cmap=\"gray\")\n",
    "    axes[0, i].set_title(\"Signal\")\n",
    "    axes[0, i].axis(\"off\")\n",
    "\n",
    "for i, img_name in enumerate(background_images):\n",
    "    img_path = os.path.join(train_background_dir, img_name)\n",
    "    img = Image.open(img_path)\n",
    "    axes[1, i].imshow(img, cmap=\"gray\")\n",
    "    axes[1, i].set_title(\"Background\")\n",
    "    axes[1, i].axis(\"off\")\n",
    "\n",
    "plt.tight_layout()\n",
    "plt.show()"
   ]
  },
  {
   "cell_type": "markdown",
   "metadata": {},
   "source": [
    "## Loading the dataset"
   ]
  },
  {
   "cell_type": "code",
   "execution_count": 13,
   "metadata": {},
   "outputs": [
    {
     "name": "stdout",
     "output_type": "stream",
     "text": [
      "Found 698132 files belonging to 2 classes.\n",
      "Found 174534 files belonging to 2 classes.\n",
      "✅ Dataset loaded successfully!\n"
     ]
    }
   ],
   "source": [
    "import tensorflow as tf\n",
    "\n",
    "# Dataset Paths\n",
    "train_dir = \"higgs_images/train\"\n",
    "val_dir = \"higgs_images/val\"\n",
    "batch_size = 4  # Reduce batch size to prevent kernel crashes\n",
    "img_size = (32, 32)  # Match generated image size\n",
    "\n",
    "# Load datasets\n",
    "train_ds = tf.keras.preprocessing.image_dataset_from_directory(\n",
    "    train_dir,\n",
    "    image_size=img_size,\n",
    "    batch_size=batch_size,\n",
    "    label_mode=\"binary\",  # Binary classification (signal vs background)\n",
    "    shuffle=True\n",
    ")\n",
    "\n",
    "val_ds = tf.keras.preprocessing.image_dataset_from_directory(\n",
    "    val_dir,\n",
    "    image_size=img_size,\n",
    "    batch_size=batch_size,\n",
    "    label_mode=\"binary\"\n",
    ")\n",
    "\n",
    "# Optimize dataset performance\n",
    "AUTOTUNE = tf.data.AUTOTUNE\n",
    "train_ds = train_ds.prefetch(buffer_size=AUTOTUNE)\n",
    "val_ds = val_ds.prefetch(buffer_size=AUTOTUNE)\n",
    "\n",
    "print(\"✅ Dataset loaded successfully!\")\n"
   ]
  },
  {
   "cell_type": "code",
   "execution_count": 14,
   "metadata": {},
   "outputs": [],
   "source": [
    "import tensorflow as tf\n",
    "from tensorflow.keras import layers, models\n",
    "import wandb"
   ]
  },
  {
   "cell_type": "code",
   "execution_count": 15,
   "metadata": {},
   "outputs": [],
   "source": [
    "# ✅ Initialize Weights & Biases (W&B)\n",
    "wandb.init(project=\"higgs_boson_cnn\", name=\"project_cnn1\")\n",
    "\n",
    "# ✅ Define CNN Architecture\n",
    "def create_model():\n",
    "    model = models.Sequential([\n",
    "        layers.Conv2D(32, (3, 3), activation=\"relu\", padding=\"same\", input_shape=(32, 32, 3)),\n",
    "        layers.MaxPooling2D((2, 2)),\n",
    "\n",
    "        layers.Conv2D(64, (3, 3), activation=\"relu\", padding=\"same\"),\n",
    "        layers.MaxPooling2D((2, 2)),\n",
    "\n",
    "        layers.Conv2D(128, (3, 3), activation=\"relu\", padding=\"same\"),\n",
    "        layers.MaxPooling2D((2, 2)),\n",
    "\n",
    "        layers.Flatten(),\n",
    "        layers.Dense(128, activation=\"relu\"),\n",
    "        layers.Dropout(0.5),\n",
    "        layers.Dense(1, activation=\"sigmoid\")  # Binary classification\n",
    "    ])\n",
    "    return model\n",
    "\n",
    "# ✅ Create and Compile Model\n",
    "model = create_model()\n",
    "model.compile(\n",
    "    optimizer=tf.keras.optimizers.Adam(learning_rate=1e-4),\n",
    "    loss=\"binary_crossentropy\",\n",
    "    metrics=[\"accuracy\"]\n",
    ")\n"
   ]
  },
  {
   "cell_type": "code",
   "execution_count": 16,
   "metadata": {},
   "outputs": [
    {
     "data": {
      "text/plain": [
       "[PhysicalDevice(name='/physical_device:GPU:0', device_type='GPU'),\n",
       " PhysicalDevice(name='/physical_device:GPU:1', device_type='GPU')]"
      ]
     },
     "execution_count": 16,
     "metadata": {},
     "output_type": "execute_result"
    }
   ],
   "source": [
    "tf.config.list_physical_devices('GPU')"
   ]
  },
  {
   "cell_type": "code",
   "execution_count": 17,
   "metadata": {},
   "outputs": [
    {
     "name": "stdout",
     "output_type": "stream",
     "text": [
      "Epoch 1/10\n",
      "174533/174533 [==============================] - 1058s 6ms/step - loss: 0.4495 - accuracy: 0.7972 - val_loss: 0.4269 - val_accuracy: 0.8135\n",
      "Epoch 2/10\n",
      "174533/174533 [==============================] - 1009s 6ms/step - loss: 0.4267 - accuracy: 0.8103 - val_loss: 0.4167 - val_accuracy: 0.8162\n",
      "Epoch 3/10\n",
      "174533/174533 [==============================] - 1018s 6ms/step - loss: 0.4221 - accuracy: 0.8131 - val_loss: 0.4127 - val_accuracy: 0.8177\n",
      "Epoch 4/10\n",
      "174533/174533 [==============================] - 1117s 6ms/step - loss: 0.4204 - accuracy: 0.8137 - val_loss: 0.4130 - val_accuracy: 0.8175\n",
      "Epoch 5/10\n",
      "174533/174533 [==============================] - 1036s 6ms/step - loss: 0.4199 - accuracy: 0.8140 - val_loss: 0.4152 - val_accuracy: 0.8179\n",
      "Epoch 6/10\n",
      "174533/174533 [==============================] - 1390s 8ms/step - loss: 0.4191 - accuracy: 0.8148 - val_loss: 0.4138 - val_accuracy: 0.8175\n",
      "Epoch 7/10\n",
      "174533/174533 [==============================] - 1424s 8ms/step - loss: 0.4191 - accuracy: 0.8148 - val_loss: 0.4119 - val_accuracy: 0.8180\n",
      "Epoch 8/10\n",
      "174533/174533 [==============================] - 1327s 8ms/step - loss: 0.4189 - accuracy: 0.8148 - val_loss: 0.4141 - val_accuracy: 0.8176\n",
      "Epoch 9/10\n",
      "174533/174533 [==============================] - 1316s 8ms/step - loss: 0.4193 - accuracy: 0.8148 - val_loss: 0.4117 - val_accuracy: 0.8171\n",
      "Epoch 10/10\n",
      "174533/174533 [==============================] - 1447s 8ms/step - loss: 0.4194 - accuracy: 0.8144 - val_loss: 0.4158 - val_accuracy: 0.8181\n",
      "43634/43634 - 117s - loss: 0.4158 - accuracy: 0.8181 - 117s/epoch - 3ms/step\n",
      "\n",
      "🎯 Final Test Accuracy: 0.8181\n"
     ]
    }
   ],
   "source": [
    "# ✅ Train Model\n",
    "with tf.device('/GPU:0'):\n",
    "    history = model.fit(\n",
    "        train_ds,\n",
    "        validation_data=val_ds,\n",
    "        epochs=10\n",
    "    )\n",
    "\n",
    "# ✅ Evaluate Model\n",
    "test_loss, test_acc = model.evaluate(val_ds, verbose=2)\n",
    "print(f\"\\n🎯 Final Test Accuracy: {test_acc:.4f}\")\n"
   ]
  },
  {
   "cell_type": "code",
   "execution_count": 18,
   "metadata": {},
   "outputs": [],
   "source": [
    "model.save(\"particle_cnn_model.h5\")"
   ]
  },
  {
   "cell_type": "code",
   "execution_count": 19,
   "metadata": {},
   "outputs": [
    {
     "name": "stdout",
     "output_type": "stream",
     "text": [
      "✅ Model loaded successfully!\n"
     ]
    }
   ],
   "source": [
    "new_model = tf.keras.models.load_model(\"particle_cnn_model.h5\")\n",
    "print(\"✅ Model loaded successfully!\")"
   ]
  },
  {
   "cell_type": "code",
   "execution_count": null,
   "metadata": {},
   "outputs": [],
   "source": []
  }
 ],
 "metadata": {
  "kernelspec": {
   "display_name": "tfamd",
   "language": "python",
   "name": "tfamd"
  },
  "language_info": {
   "codemirror_mode": {
    "name": "ipython",
    "version": 3
   },
   "file_extension": ".py",
   "mimetype": "text/x-python",
   "name": "python",
   "nbconvert_exporter": "python",
   "pygments_lexer": "ipython3",
   "version": "3.10.14"
  }
 },
 "nbformat": 4,
 "nbformat_minor": 2
}
