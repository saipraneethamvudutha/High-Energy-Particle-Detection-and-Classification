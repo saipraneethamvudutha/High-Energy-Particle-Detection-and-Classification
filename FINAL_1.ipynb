{
 "cells": [
  {
   "cell_type": "markdown",
   "metadata": {},
   "source": [
    "# 1. Data Preprocessing"
   ]
  },
  {
   "cell_type": "code",
   "execution_count": 1,
   "metadata": {},
   "outputs": [],
   "source": [
    "import uproot\n",
    "import awkward as ak\n",
    "import pandas as pd\n",
    "import numpy as np\n",
    "import matplotlib.pyplot as plt\n",
    "import seaborn as sns\n",
    "from sklearn.model_selection import train_test_split\n",
    "from sklearn.preprocessing import StandardScaler, MinMaxScaler\n"
   ]
  },
  {
   "cell_type": "code",
   "execution_count": 2,
   "metadata": {},
   "outputs": [
    {
     "name": "stdout",
     "output_type": "stream",
     "text": [
      "['mini;1']\n",
      "['mini;1']\n"
     ]
    }
   ],
   "source": [
    "# Define file paths (update these based on your actual data path)\n",
    "egamma_file = \"C:/Users/vudut/OneDrive/Desktop/Python/MINI Project/Data Sets/complete_set_of_ATLAS_open_data_samples_July_2016/Data/DataEgamma.root\"\n",
    "muons_file = \"C:/Users/vudut/OneDrive/Desktop/Python/MINI Project/Data Sets/complete_set_of_ATLAS_open_data_samples_July_2016/Data/DataMuons.root\"\n",
    "\n",
    "# Open ROOT files and list available trees\n",
    "with uproot.open(egamma_file) as f:\n",
    "    print(f.keys())  # Lists available trees\n",
    "\n",
    "with uproot.open(muons_file) as f:\n",
    "    print(f.keys())  # Lists available trees\n"
   ]
  },
  {
   "cell_type": "code",
   "execution_count": 3,
   "metadata": {},
   "outputs": [],
   "source": [
    "tree_name = \"mini\"  # Confirm this from the output of f.keys()"
   ]
  },
  {
   "cell_type": "code",
   "execution_count": 4,
   "metadata": {},
   "outputs": [
    {
     "name": "stdout",
     "output_type": "stream",
     "text": [
      "['runNumber', 'eventNumber', 'channelNumber', 'mcWeight', 'pvxp_n', 'vxp_z', 'scaleFactor_PILEUP', 'scaleFactor_ELE', 'scaleFactor_MUON', 'scaleFactor_BTAG', 'scaleFactor_TRIGGER', 'scaleFactor_JVFSF', 'scaleFactor_ZVERTEX', 'trigE', 'trigM', 'passGRL', 'hasGoodVertex', 'lep_n', 'lep_truthMatched', 'lep_trigMatched', 'lep_pt', 'lep_eta', 'lep_phi', 'lep_E', 'lep_z0', 'lep_charge', 'lep_type', 'lep_flag', 'lep_ptcone30', 'lep_etcone20', 'lep_trackd0pvunbiased', 'lep_tracksigd0pvunbiased', 'met_et', 'met_phi', 'jet_n', 'alljet_n', 'jet_pt', 'jet_eta', 'jet_phi', 'jet_E', 'jet_m', 'jet_jvf', 'jet_trueflav', 'jet_truthMatched', 'jet_SV0', 'jet_MV1']\n"
     ]
    }
   ],
   "source": [
    "with uproot.open(egamma_file) as f:\n",
    "    tree = f[tree_name]\n",
    "    print(tree.keys())  # Lists available branches (features)\n"
   ]
  },
  {
   "cell_type": "code",
   "execution_count": 5,
   "metadata": {},
   "outputs": [],
   "source": [
    "# Select relevant features for particle classification\n",
    "branches_to_load = [\n",
    "    \"lep_pt\", \"lep_eta\", \"lep_phi\", \"lep_E\",  # Lepton kinematics\n",
    "    \"lep_charge\", \"lep_type\", \"jet_n\", \"jet_pt\",  # Jet properties\n",
    "    \"met_et\", \"met_phi\"  # Missing transverse energy\n",
    "]"
   ]
  },
  {
   "cell_type": "code",
   "execution_count": 6,
   "metadata": {},
   "outputs": [
    {
     "name": "stdout",
     "output_type": "stream",
     "text": [
      "                          lep_pt                                      lep_eta  \\\n",
      "0                [27587.1171875]                        [-1.3134968280792236]   \n",
      "1  [45430.203125, 41510.0234375]  [-0.39944201707839966, 0.25652745366096497]   \n",
      "2               [39664.33203125]                         [0.5096074342727661]   \n",
      "3              [27585.826171875]                        [0.44308215379714966]   \n",
      "4               [33562.00390625]                         [1.1484966278076172]   \n",
      "\n",
      "                                     lep_phi  \\\n",
      "0                       [0.6908043026924133]   \n",
      "1  [1.6501771211624146, -1.2450007200241089]   \n",
      "2                      [-0.9465420842170715]   \n",
      "3                       [1.5666908025741577]   \n",
      "4                      [-1.6402952671051025]   \n",
      "\n",
      "                              lep_E   lep_charge  lep_type  jet_n  \\\n",
      "0                      [55009.1875]        [1.0]      [11]      1   \n",
      "1  [49102.93359375, 42883.33984375]  [-1.0, 1.0]  [11, 11]      0   \n",
      "2                    [44927.171875]        [1.0]      [11]      1   \n",
      "3                 [30338.267578125]       [-1.0]      [11]      0   \n",
      "4                  [58239.50390625]        [1.0]      [11]      1   \n",
      "\n",
      "              jet_pt        met_et   met_phi  \n",
      "0    [37948.6953125]   5993.245605  0.771644  \n",
      "1                 []  13732.531250 -2.589168  \n",
      "2   [29217.89453125]  40454.421875 -0.035447  \n",
      "3  [26152.083984375]  31610.375000  1.533058  \n",
      "4     [73329.828125]  58327.332031  2.545199  \n",
      "             lep_pt                lep_eta                 lep_phi  \\\n",
      "0  [40531.85546875]  [0.28824400901794434]     [1.346999168395996]   \n",
      "1  [37172.48828125]  [-0.2147839218378067]   [-2.1380057334899902]   \n",
      "2  [41404.36328125]   [-1.200101375579834]    [1.3576006889343262]   \n",
      "3    [36330.359375]   [1.6244663000106812]  [-0.08251909911632538]   \n",
      "4  [29865.91796875]   [1.9333806037902832]    [-2.166266918182373]   \n",
      "\n",
      "              lep_E  lep_charge  lep_type  jet_n         jet_pt        met_et  \\\n",
      "0  [42227.46484375]      [-1.0]      [13]      0             []  94215.101562   \n",
      "1    [38033.359375]       [1.0]      [13]      1  [27929.96875]  30354.056641   \n",
      "2    [74975.453125]       [1.0]      [13]      0             []  54632.632812   \n",
      "3    [95780.078125]       [1.0]      [13]      0             []  18974.707031   \n",
      "4   [105389.390625]       [1.0]      [13]      0             []  18013.089844   \n",
      "\n",
      "    met_phi  \n",
      "0 -1.394356  \n",
      "1  0.325955  \n",
      "2 -2.053428  \n",
      "3  2.315790  \n",
      "4  0.869603  \n"
     ]
    }
   ],
   "source": [
    "# Load data into Pandas DataFrame\n",
    "def load_root_data(file_path, tree_name, branches):\n",
    "    with uproot.open(file_path) as f:\n",
    "        tree = f[tree_name]\n",
    "        data = tree.arrays(branches, library=\"pd\")  # Convert to Pandas DataFrame\n",
    "    return data\n",
    "\n",
    "df_egamma = load_root_data(egamma_file, tree_name, branches_to_load)\n",
    "df_muons = load_root_data(muons_file, tree_name, branches_to_load)\n",
    "\n",
    "# Display first few rows\n",
    "print(df_egamma.head())\n",
    "print(df_muons.head())\n"
   ]
  },
  {
   "cell_type": "code",
   "execution_count": 7,
   "metadata": {},
   "outputs": [],
   "source": [
    "def load_root_data(file_path, tree_name, branches):\n",
    "    with uproot.open(file_path) as f:\n",
    "        tree = f[tree_name]\n",
    "        data = tree.arrays(branches, library=\"pd\")  # Convert to Pandas DataFrame\n",
    "        \n",
    "        # Convert awkward arrays to regular numpy arrays for compatibility\n",
    "        for column in data.columns:\n",
    "            data[column] = ak.to_numpy(data[column])  # Convert awkward array to numpy array\n",
    "            \n",
    "    return data\n"
   ]
  },
  {
   "cell_type": "code",
   "execution_count": 8,
   "metadata": {},
   "outputs": [
    {
     "name": "stdout",
     "output_type": "stream",
     "text": [
      "lep_pt        0\n",
      "lep_eta       0\n",
      "lep_phi       0\n",
      "lep_E         0\n",
      "lep_charge    0\n",
      "lep_type      0\n",
      "jet_n         0\n",
      "jet_pt        0\n",
      "met_et        0\n",
      "met_phi       0\n",
      "dtype: int64\n",
      "lep_pt        0\n",
      "lep_eta       0\n",
      "lep_phi       0\n",
      "lep_E         0\n",
      "lep_charge    0\n",
      "lep_type      0\n",
      "jet_n         0\n",
      "jet_pt        0\n",
      "met_et        0\n",
      "met_phi       0\n",
      "dtype: int64\n"
     ]
    }
   ],
   "source": [
    "# Check for missing values\n",
    "print(df_egamma.isnull().sum())\n",
    "print(df_muons.isnull().sum())\n",
    "\n",
    "# Fill missing values with the median\n",
    "df_egamma = df_egamma.apply(lambda x: x.fillna(x.median()) if x.dtype.kind in 'fi' else x)\n",
    "df_muons = df_muons.apply(lambda x: x.fillna(x.median()) if x.dtype.kind in 'fi' else x)\n"
   ]
  },
  {
   "cell_type": "code",
   "execution_count": 9,
   "metadata": {},
   "outputs": [],
   "source": [
    "# Convert all awkward arrays to regular NumPy arrays\n",
    "df_egamma = df_egamma.map(lambda x: ak.to_numpy(x) if isinstance(x, ak.Array) else x)\n",
    "df_muons = df_muons.map(lambda x: ak.to_numpy(x) if isinstance(x, ak.Array) else x)"
   ]
  },
  {
   "cell_type": "code",
   "execution_count": 10,
   "metadata": {},
   "outputs": [
    {
     "name": "stdout",
     "output_type": "stream",
     "text": [
      "Column lep_pt has nested lists.\n",
      "Column lep_eta has nested lists.\n",
      "Column lep_phi has nested lists.\n",
      "Column lep_E has nested lists.\n",
      "Column lep_charge has nested lists.\n",
      "Column lep_type has nested lists.\n",
      "Column jet_pt has nested lists.\n"
     ]
    }
   ],
   "source": [
    "for col in df_egamma.columns:\n",
    "    if isinstance(df_egamma[col].iloc[0], (list, np.ndarray, ak.Array)):\n",
    "        print(f\"Column {col} has nested lists.\")"
   ]
  },
  {
   "cell_type": "code",
   "execution_count": 11,
   "metadata": {},
   "outputs": [],
   "source": [
    "def flatten_column(df, col):\n",
    "    \"\"\"Convert list-like columns into single-value scalars.\"\"\"\n",
    "    if df[col].apply(lambda x: isinstance(x, (list, np.ndarray, ak.Array))).any():\n",
    "        df[col] = df[col].apply(lambda x: np.mean(x) if len(x) > 0 else np.nan)  # Use mean value\n",
    "    return df\n",
    "\n",
    "# Apply the function to all columns\n",
    "for col in df_egamma.columns:\n",
    "    df_egamma = flatten_column(df_egamma, col)\n",
    "for col in df_muons.columns:\n",
    "    df_muons = flatten_column(df_muons, col)"
   ]
  },
  {
   "cell_type": "code",
   "execution_count": 12,
   "metadata": {},
   "outputs": [],
   "source": [
    "for col in df_egamma.columns:\n",
    "    df_egamma[col] = ak.to_numpy(df_egamma[col])\n",
    "\n",
    "for col in df_muons.columns:\n",
    "    df_muons[col] = ak.to_numpy(df_muons[col])\n"
   ]
  },
  {
   "cell_type": "code",
   "execution_count": 13,
   "metadata": {},
   "outputs": [],
   "source": [
    "scaler = StandardScaler()\n",
    "scaled_columns = [\"lep_pt\", \"lep_eta\", \"lep_phi\", \"lep_E\", \"jet_pt\", \"met_et\"]\n",
    "\n",
    "df_egamma[scaled_columns] = scaler.fit_transform(df_egamma[scaled_columns])\n",
    "df_muons[scaled_columns] = scaler.transform(df_muons[scaled_columns])  # Use the same scaler\n"
   ]
  },
  {
   "cell_type": "code",
   "execution_count": 14,
   "metadata": {},
   "outputs": [
    {
     "name": "stdout",
     "output_type": "stream",
     "text": [
      "Training Set: (10461971, 9), Validation Set: (2241851, 9), Test Set: (2241852, 9)\n"
     ]
    }
   ],
   "source": [
    "# Combine both datasets before splitting (optional, if needed)\n",
    "df_combined = pd.concat([df_egamma, df_muons], axis=0)\n",
    "\n",
    "# Define target variable (classification label)\n",
    "y = df_combined[\"lep_type\"]  # Adjust based on available target\n",
    "X = df_combined.drop(columns=[\"lep_type\"])  # Drop target from features\n",
    "\n",
    "# Split into train, validation, and test sets\n",
    "X_train, X_temp, y_train, y_temp = train_test_split(X, y, test_size=0.3, random_state=42)\n",
    "X_val, X_test, y_val, y_test = train_test_split(X_temp, y_temp, test_size=0.5, random_state=42)\n",
    "\n",
    "print(f\"Training Set: {X_train.shape}, Validation Set: {X_val.shape}, Test Set: {X_test.shape}\")\n"
   ]
  },
  {
   "cell_type": "code",
   "execution_count": 15,
   "metadata": {},
   "outputs": [
    {
     "name": "stdout",
     "output_type": "stream",
     "text": [
      "Unique labels in y_train: [11.         13.         12.         11.66666667 12.33333333 11.5\n",
      " 12.6        12.5        12.2       ]\n",
      "Unique labels in y_val: [11.         13.         12.         12.33333333 11.66666667 12.5\n",
      " 11.5        12.6       ]\n",
      "Unique labels in y_test: [11.         13.         12.         12.33333333 11.66666667 11.5\n",
      " 12.5       ]\n"
     ]
    }
   ],
   "source": [
    "print(\"Unique labels in y_train:\", y_train.unique())\n",
    "print(\"Unique labels in y_val:\", y_val.unique())\n",
    "print(\"Unique labels in y_test:\", y_test.unique())\n"
   ]
  },
  {
   "cell_type": "code",
   "execution_count": 16,
   "metadata": {},
   "outputs": [
    {
     "name": "stdout",
     "output_type": "stream",
     "text": [
      "Updated class labels: [0 8 3 2 5 1 7 6 4]\n"
     ]
    }
   ],
   "source": [
    "# Map labels to zero-based index\n",
    "unique_classes = sorted(y_train.unique())  # Sort to ensure proper mapping\n",
    "class_mapping = {cls: i for i, cls in enumerate(unique_classes)}\n",
    "\n",
    "# Apply mapping\n",
    "y_train = y_train.map(class_mapping)\n",
    "y_val = y_val.map(class_mapping)\n",
    "y_test = y_test.map(class_mapping)\n",
    "\n",
    "print(\"Updated class labels:\", y_train.unique())\n"
   ]
  },
  {
   "cell_type": "code",
   "execution_count": 17,
   "metadata": {},
   "outputs": [
    {
     "name": "stdout",
     "output_type": "stream",
     "text": [
      "✅ Preprocessed data saved successfully!\n"
     ]
    }
   ],
   "source": [
    "# Save preprocessed data\n",
    "df_combined.to_csv(\"preprocessed_data.csv\", index=False)\n",
    "\n",
    "print(\"✅ Preprocessed data saved successfully!\")"
   ]
  },
  {
   "cell_type": "markdown",
   "metadata": {},
   "source": [
    "# 2. Model Building"
   ]
  },
  {
   "cell_type": "markdown",
   "metadata": {},
   "source": [
    "## XGBoost Model for tabular data"
   ]
  },
  {
   "cell_type": "code",
   "execution_count": null,
   "metadata": {},
   "outputs": [],
   "source": [
    "import xgboost as xgb\n",
    "import pandas as pd\n",
    "import numpy as np\n",
    "import wandb  # Weights & Biases\n",
    "from sklearn.model_selection import train_test_split\n",
    "from sklearn.metrics import accuracy_score, precision_score, recall_score, f1_score, roc_auc_score\n",
    "from tensorboardX import SummaryWriter  # TensorBoard\n"
   ]
  },
  {
   "cell_type": "code",
   "execution_count": null,
   "metadata": {},
   "outputs": [
    {
     "name": "stderr",
     "output_type": "stream",
     "text": [
      "\u001b[34m\u001b[1mwandb\u001b[0m: Using wandb-core as the SDK backend.  Please refer to https://wandb.me/wandb-core for more information.\n",
      "\u001b[34m\u001b[1mwandb\u001b[0m: Currently logged in as: \u001b[33mvuduthasaipraneetham\u001b[0m (\u001b[33mpraneetham\u001b[0m) to \u001b[32mhttps://api.wandb.ai\u001b[0m. Use \u001b[1m`wandb login --relogin`\u001b[0m to force relogin\n"
     ]
    },
    {
     "data": {
      "text/html": [
       "creating run (0.6s)"
      ],
      "text/plain": [
       "<IPython.core.display.HTML object>"
      ]
     },
     "metadata": {},
     "output_type": "display_data"
    },
    {
     "data": {
      "text/html": [
       "Tracking run with wandb version 0.19.7"
      ],
      "text/plain": [
       "<IPython.core.display.HTML object>"
      ]
     },
     "metadata": {},
     "output_type": "display_data"
    },
    {
     "data": {
      "text/html": [
       "Run data is saved locally in <code>c:\\Users\\vudut\\OneDrive\\Desktop\\Python\\MINI Project\\wandb\\run-20250222_221515-7knaqwce</code>"
      ],
      "text/plain": [
       "<IPython.core.display.HTML object>"
      ]
     },
     "metadata": {},
     "output_type": "display_data"
    },
    {
     "data": {
      "text/html": [
       "Syncing run <strong><a href='https://wandb.ai/praneetham/xgboost-particle-classification/runs/7knaqwce' target=\"_blank\">XGBoost-Run-1</a></strong> to <a href='https://wandb.ai/praneetham/xgboost-particle-classification' target=\"_blank\">Weights & Biases</a> (<a href='https://wandb.me/developer-guide' target=\"_blank\">docs</a>)<br>"
      ],
      "text/plain": [
       "<IPython.core.display.HTML object>"
      ]
     },
     "metadata": {},
     "output_type": "display_data"
    },
    {
     "data": {
      "text/html": [
       " View project at <a href='https://wandb.ai/praneetham/xgboost-particle-classification' target=\"_blank\">https://wandb.ai/praneetham/xgboost-particle-classification</a>"
      ],
      "text/plain": [
       "<IPython.core.display.HTML object>"
      ]
     },
     "metadata": {},
     "output_type": "display_data"
    },
    {
     "data": {
      "text/html": [
       " View run at <a href='https://wandb.ai/praneetham/xgboost-particle-classification/runs/7knaqwce' target=\"_blank\">https://wandb.ai/praneetham/xgboost-particle-classification/runs/7knaqwce</a>"
      ],
      "text/plain": [
       "<IPython.core.display.HTML object>"
      ]
     },
     "metadata": {},
     "output_type": "display_data"
    },
    {
     "data": {
      "text/html": [
       "<button onClick=\"this.nextSibling.style.display='block';this.style.display='none';\">Display W&B run</button><iframe src='https://wandb.ai/praneetham/xgboost-particle-classification/runs/7knaqwce?jupyter=true' style='border:none;width:100%;height:420px;display:none;'></iframe>"
      ],
      "text/plain": [
       "<wandb.sdk.wandb_run.Run at 0x1e59a75a200>"
      ]
     },
     "execution_count": 23,
     "metadata": {},
     "output_type": "execute_result"
    }
   ],
   "source": [
    "wandb.init(project=\"xgboost-particle-classification\", name=\"XGBoost-Run-1\")"
   ]
  },
  {
   "cell_type": "code",
   "execution_count": null,
   "metadata": {},
   "outputs": [],
   "source": [
    "import os\n",
    "from tensorboardX import SummaryWriter\n",
    "\n",
    "# Define TensorBoard log directory\n",
    "log_dir = \"logs/xgboost\"\n",
    "os.makedirs(log_dir, exist_ok=True)\n",
    "\n",
    "# Initialize TensorBoard Writer\n",
    "writer = SummaryWriter(log_dir)\n"
   ]
  },
  {
   "cell_type": "code",
   "execution_count": null,
   "metadata": {},
   "outputs": [
    {
     "name": "stderr",
     "output_type": "stream",
     "text": [
      "c:\\Users\\vudut\\anaconda3\\envs\\MINI_PROJECT\\lib\\site-packages\\xgboost\\core.py:158: UserWarning: [22:15:17] WARNING: C:\\buildkite-agent\\builds\\buildkite-windows-cpu-autoscaling-group-i-08cbc0333d8d4aae1-1\\xgboost\\xgboost-ci-windows\\src\\learner.cc:740: \n",
      "Parameters: { \"n_estimators\" } are not used.\n",
      "\n",
      "  warnings.warn(smsg, UserWarning)\n"
     ]
    },
    {
     "name": "stdout",
     "output_type": "stream",
     "text": [
      "[0]\tvalidation-mlogloss:1.99530\n",
      "[1]\tvalidation-mlogloss:1.83751\n",
      "[2]\tvalidation-mlogloss:1.70951\n",
      "[3]\tvalidation-mlogloss:1.60204\n",
      "[4]\tvalidation-mlogloss:1.51051\n",
      "[5]\tvalidation-mlogloss:1.43148\n",
      "[6]\tvalidation-mlogloss:1.36243\n",
      "[7]\tvalidation-mlogloss:1.30162\n",
      "[8]\tvalidation-mlogloss:1.24779\n",
      "[9]\tvalidation-mlogloss:1.19994\n",
      "[10]\tvalidation-mlogloss:1.15666\n",
      "[11]\tvalidation-mlogloss:1.11801\n",
      "[12]\tvalidation-mlogloss:1.08298\n",
      "[13]\tvalidation-mlogloss:1.05091\n",
      "[14]\tvalidation-mlogloss:1.02198\n",
      "[15]\tvalidation-mlogloss:0.99551\n",
      "[16]\tvalidation-mlogloss:0.97129\n",
      "[17]\tvalidation-mlogloss:0.94943\n",
      "[18]\tvalidation-mlogloss:0.92903\n",
      "[19]\tvalidation-mlogloss:0.91061\n",
      "[20]\tvalidation-mlogloss:0.89356\n",
      "[21]\tvalidation-mlogloss:0.87787\n",
      "[22]\tvalidation-mlogloss:0.86323\n",
      "[23]\tvalidation-mlogloss:0.84960\n",
      "[24]\tvalidation-mlogloss:0.83690\n",
      "[25]\tvalidation-mlogloss:0.82522\n",
      "[26]\tvalidation-mlogloss:0.81440\n",
      "[27]\tvalidation-mlogloss:0.80437\n",
      "[28]\tvalidation-mlogloss:0.79515\n",
      "[29]\tvalidation-mlogloss:0.78643\n",
      "[30]\tvalidation-mlogloss:0.77831\n",
      "[31]\tvalidation-mlogloss:0.77079\n",
      "[32]\tvalidation-mlogloss:0.76341\n",
      "[33]\tvalidation-mlogloss:0.75686\n",
      "[34]\tvalidation-mlogloss:0.75063\n",
      "[35]\tvalidation-mlogloss:0.74463\n",
      "[36]\tvalidation-mlogloss:0.73898\n",
      "[37]\tvalidation-mlogloss:0.73379\n",
      "[38]\tvalidation-mlogloss:0.72885\n",
      "[39]\tvalidation-mlogloss:0.72429\n",
      "[40]\tvalidation-mlogloss:0.71996\n",
      "[41]\tvalidation-mlogloss:0.71606\n",
      "[42]\tvalidation-mlogloss:0.71225\n",
      "[43]\tvalidation-mlogloss:0.70872\n",
      "[44]\tvalidation-mlogloss:0.70535\n",
      "[45]\tvalidation-mlogloss:0.70214\n",
      "[46]\tvalidation-mlogloss:0.69917\n",
      "[47]\tvalidation-mlogloss:0.69638\n",
      "[48]\tvalidation-mlogloss:0.69370\n",
      "[49]\tvalidation-mlogloss:0.69123\n",
      "[50]\tvalidation-mlogloss:0.68883\n",
      "[51]\tvalidation-mlogloss:0.68665\n",
      "[52]\tvalidation-mlogloss:0.68446\n",
      "[53]\tvalidation-mlogloss:0.68252\n",
      "[54]\tvalidation-mlogloss:0.68066\n",
      "[55]\tvalidation-mlogloss:0.67865\n",
      "[56]\tvalidation-mlogloss:0.67695\n",
      "[57]\tvalidation-mlogloss:0.67527\n",
      "[58]\tvalidation-mlogloss:0.67372\n",
      "[59]\tvalidation-mlogloss:0.67226\n",
      "[60]\tvalidation-mlogloss:0.67093\n",
      "[61]\tvalidation-mlogloss:0.66958\n",
      "[62]\tvalidation-mlogloss:0.66830\n",
      "[63]\tvalidation-mlogloss:0.66715\n",
      "[64]\tvalidation-mlogloss:0.66597\n",
      "[65]\tvalidation-mlogloss:0.66491\n",
      "[66]\tvalidation-mlogloss:0.66393\n",
      "[67]\tvalidation-mlogloss:0.66291\n",
      "[68]\tvalidation-mlogloss:0.66201\n",
      "[69]\tvalidation-mlogloss:0.66109\n",
      "[70]\tvalidation-mlogloss:0.66028\n",
      "[71]\tvalidation-mlogloss:0.65954\n",
      "[72]\tvalidation-mlogloss:0.65878\n",
      "[73]\tvalidation-mlogloss:0.65804\n",
      "[74]\tvalidation-mlogloss:0.65739\n",
      "[75]\tvalidation-mlogloss:0.65678\n",
      "[76]\tvalidation-mlogloss:0.65611\n",
      "[77]\tvalidation-mlogloss:0.65550\n",
      "[78]\tvalidation-mlogloss:0.65496\n",
      "[79]\tvalidation-mlogloss:0.65441\n",
      "[80]\tvalidation-mlogloss:0.65389\n",
      "[81]\tvalidation-mlogloss:0.65341\n",
      "[82]\tvalidation-mlogloss:0.65289\n",
      "[83]\tvalidation-mlogloss:0.65244\n",
      "[84]\tvalidation-mlogloss:0.65198\n",
      "[85]\tvalidation-mlogloss:0.65155\n",
      "[86]\tvalidation-mlogloss:0.65117\n",
      "[87]\tvalidation-mlogloss:0.65081\n",
      "[88]\tvalidation-mlogloss:0.65041\n",
      "[89]\tvalidation-mlogloss:0.65005\n",
      "[90]\tvalidation-mlogloss:0.64963\n",
      "[91]\tvalidation-mlogloss:0.64932\n",
      "[92]\tvalidation-mlogloss:0.64903\n",
      "[93]\tvalidation-mlogloss:0.64878\n",
      "[94]\tvalidation-mlogloss:0.64847\n",
      "[95]\tvalidation-mlogloss:0.64821\n",
      "[96]\tvalidation-mlogloss:0.64798\n",
      "[97]\tvalidation-mlogloss:0.64771\n",
      "[98]\tvalidation-mlogloss:0.64747\n",
      "[99]\tvalidation-mlogloss:0.64724\n"
     ]
    }
   ],
   "source": [
    "dtrain = xgb.DMatrix(X_train, label=y_train)\n",
    "dval = xgb.DMatrix(X_val, label=y_val)\n",
    "\n",
    "params = {\n",
    "    \"objective\": \"multi:softprob\",  # Use softprob for probability outputs\n",
    "    \"num_class\": len(y_train.unique()), \n",
    "    \"eval_metric\": \"mlogloss\",\n",
    "    \"max_depth\": 6,\n",
    "    \"learning_rate\": 0.1,\n",
    "    \"n_estimators\": 100\n",
    "}\n",
    "\n",
    "\n",
    "model = xgb.train(\n",
    "    params, dtrain,\n",
    "    evals=[(dval, \"validation\")],\n",
    "    num_boost_round=100,\n",
    "    early_stopping_rounds=10,\n",
    "    verbose_eval=True\n",
    ")\n",
    "\n"
   ]
  },
  {
   "cell_type": "code",
   "execution_count": null,
   "metadata": {},
   "outputs": [
    {
     "name": "stdout",
     "output_type": "stream",
     "text": [
      "Unique classes in y_test: [0 1 2 3 5 6 8]\n"
     ]
    },
    {
     "ename": "NameError",
     "evalue": "name 'y_proba' is not defined",
     "output_type": "error",
     "traceback": [
      "\u001b[1;31m---------------------------------------------------------------------------\u001b[0m",
      "\u001b[1;31mNameError\u001b[0m                                 Traceback (most recent call last)",
      "Cell \u001b[1;32mIn[28], line 2\u001b[0m\n\u001b[0;32m      1\u001b[0m \u001b[38;5;28mprint\u001b[39m(\u001b[38;5;124mf\u001b[39m\u001b[38;5;124m\"\u001b[39m\u001b[38;5;124mUnique classes in y_test: \u001b[39m\u001b[38;5;132;01m{\u001b[39;00mnp\u001b[38;5;241m.\u001b[39munique(y_test)\u001b[38;5;132;01m}\u001b[39;00m\u001b[38;5;124m\"\u001b[39m)\n\u001b[1;32m----> 2\u001b[0m \u001b[38;5;28mprint\u001b[39m(\u001b[38;5;124mf\u001b[39m\u001b[38;5;124m\"\u001b[39m\u001b[38;5;124mShape of y_proba: \u001b[39m\u001b[38;5;132;01m{\u001b[39;00m\u001b[43my_proba\u001b[49m\u001b[38;5;241m.\u001b[39mshape\u001b[38;5;132;01m}\u001b[39;00m\u001b[38;5;124m\"\u001b[39m)  \u001b[38;5;66;03m# Should be (num_samples, num_classes)\u001b[39;00m\n\u001b[0;32m      3\u001b[0m \u001b[38;5;28mprint\u001b[39m(\u001b[38;5;124mf\u001b[39m\u001b[38;5;124m\"\u001b[39m\u001b[38;5;124mShape of y_test: \u001b[39m\u001b[38;5;132;01m{\u001b[39;00my_test\u001b[38;5;241m.\u001b[39mshape\u001b[38;5;132;01m}\u001b[39;00m\u001b[38;5;124m\"\u001b[39m)    \u001b[38;5;66;03m# Should be (num_samples,)\u001b[39;00m\n",
      "\u001b[1;31mNameError\u001b[0m: name 'y_proba' is not defined"
     ]
    }
   ],
   "source": [
    "print(f\"Unique classes in y_test: {np.unique(y_test)}\")\n",
    "print(f\"Shape of y_proba: {y_proba.shape}\")  # Should be (num_samples, num_classes)\n",
    "print(f\"Shape of y_test: {y_test.shape}\")    # Should be (num_samples,)\n"
   ]
  },
  {
   "cell_type": "code",
   "execution_count": 2,
   "metadata": {},
   "outputs": [
    {
     "ename": "NameError",
     "evalue": "name 'y_test' is not defined",
     "output_type": "error",
     "traceback": [
      "\u001b[1;31m---------------------------------------------------------------------------\u001b[0m",
      "\u001b[1;31mNameError\u001b[0m                                 Traceback (most recent call last)",
      "Cell \u001b[1;32mIn[2], line 4\u001b[0m\n\u001b[0;32m      1\u001b[0m \u001b[38;5;28;01mfrom\u001b[39;00m\u001b[38;5;250m \u001b[39m\u001b[38;5;21;01msklearn\u001b[39;00m\u001b[38;5;21;01m.\u001b[39;00m\u001b[38;5;21;01mpreprocessing\u001b[39;00m\u001b[38;5;250m \u001b[39m\u001b[38;5;28;01mimport\u001b[39;00m label_binarize\n\u001b[0;32m      3\u001b[0m \u001b[38;5;66;03m# Ensure y_test has the same number of classes as y_proba\u001b[39;00m\n\u001b[1;32m----> 4\u001b[0m y_test_binarized \u001b[38;5;241m=\u001b[39m label_binarize(\u001b[43my_test\u001b[49m, classes\u001b[38;5;241m=\u001b[39mnp\u001b[38;5;241m.\u001b[39marange(y_proba\u001b[38;5;241m.\u001b[39mshape[\u001b[38;5;241m1\u001b[39m]))\n\u001b[0;32m      6\u001b[0m \u001b[38;5;66;03m# Compute evaluation metrics\u001b[39;00m\n\u001b[0;32m      7\u001b[0m metrics \u001b[38;5;241m=\u001b[39m {\n\u001b[0;32m      8\u001b[0m     \u001b[38;5;124m\"\u001b[39m\u001b[38;5;124maccuracy\u001b[39m\u001b[38;5;124m\"\u001b[39m: accuracy_score(y_test, y_pred),\n\u001b[0;32m      9\u001b[0m     \u001b[38;5;124m\"\u001b[39m\u001b[38;5;124mprecision\u001b[39m\u001b[38;5;124m\"\u001b[39m: precision_score(y_test, y_pred, average\u001b[38;5;241m=\u001b[39m\u001b[38;5;124m\"\u001b[39m\u001b[38;5;124mweighted\u001b[39m\u001b[38;5;124m\"\u001b[39m),\n\u001b[1;32m   (...)\u001b[0m\n\u001b[0;32m     12\u001b[0m     \u001b[38;5;124m\"\u001b[39m\u001b[38;5;124mauc_roc\u001b[39m\u001b[38;5;124m\"\u001b[39m: roc_auc_score(y_test_binarized, y_proba, multi_class\u001b[38;5;241m=\u001b[39m\u001b[38;5;124m\"\u001b[39m\u001b[38;5;124movr\u001b[39m\u001b[38;5;124m\"\u001b[39m)\n\u001b[0;32m     13\u001b[0m }\n",
      "\u001b[1;31mNameError\u001b[0m: name 'y_test' is not defined"
     ]
    }
   ],
   "source": [
    "from sklearn.preprocessing import label_binarize\n",
    "\n",
    "# Ensure y_test has the same number of classes as y_proba\n",
    "y_test_binarized = label_binarize(y_test, classes=np.arange(y_proba.shape[1]))\n",
    "\n",
    "# Compute evaluation metrics\n",
    "metrics = {\n",
    "    \"accuracy\": accuracy_score(y_test, y_pred),\n",
    "    \"precision\": precision_score(y_test, y_pred, average=\"weighted\"),\n",
    "    \"recall\": recall_score(y_test, y_pred, average=\"weighted\"),\n",
    "    \"f1_score\": f1_score(y_test, y_pred, average=\"weighted\"),\n",
    "    \"auc_roc\": roc_auc_score(y_test_binarized, y_proba, multi_class=\"ovr\")\n",
    "}\n",
    "\n",
    "print(\"📊 Model Performance:\")\n",
    "for key, value in metrics.items():\n",
    "    print(f\"{key}: {value:.4f}\")\n"
   ]
  },
  {
   "cell_type": "code",
   "execution_count": null,
   "metadata": {},
   "outputs": [
    {
     "name": "stderr",
     "output_type": "stream",
     "text": [
      "NaN or Inf found in input tensor.\n"
     ]
    }
   ],
   "source": [
    "writer = SummaryWriter(\"logs/xgboost\")\n",
    "for key, value in metrics.items():\n",
    "    writer.add_scalar(f\"Metrics/{key}\", value)\n",
    "writer.close()"
   ]
  },
  {
   "cell_type": "code",
   "execution_count": null,
   "metadata": {},
   "outputs": [
    {
     "data": {
      "image/png": "[encoded data removed]",
      "text/plain": [
       "<Figure size 640x480 with 1 Axes>"
      ]
     },
     "metadata": {},
     "output_type": "display_data"
    }
   ],
   "source": [
    "import matplotlib.pyplot as plt\n",
    "xgb.plot_importance(model)\n",
    "plt.show()"
   ]
  },
  {
   "cell_type": "code",
   "execution_count": null,
   "metadata": {},
   "outputs": [
    {
     "name": "stderr",
     "output_type": "stream",
     "text": [
      "c:\\Users\\vudut\\anaconda3\\envs\\MINI_PROJECT\\lib\\site-packages\\tqdm\\auto.py:21: TqdmWarning: IProgress not found. Please update jupyter and ipywidgets. See https://ipywidgets.readthedocs.io/en/stable/user_install.html\n",
      "  from .autonotebook import tqdm as notebook_tqdm\n",
      "[I 2025-02-21 22:39:32,537] A new study created in memory with name: no-name-365b0d43-d8a2-46f1-b0aa-c29069065e07\n",
      "[I 2025-02-21 23:09:11,001] Trial 0 finished with value: 0.635310286009195 and parameters: {'max_depth': 5, 'learning_rate': 0.15230908734995077, 'n_estimators': 498, 'subsample': 0.6210597542812815}. Best is trial 0 with value: 0.635310286009195.\n",
      "[I 2025-02-21 23:14:51,423] Trial 1 finished with value: 0.6178974427827719 and parameters: {'max_depth': 3, 'learning_rate': 0.09226401457039649, 'n_estimators': 115, 'subsample': 0.652485389079733}. Best is trial 0 with value: 0.635310286009195.\n"
     ]
    }
   ],
   "source": [
    "import optuna\n",
    "\n",
    "def objective(trial):\n",
    "    params = {\n",
    "        \"max_depth\": trial.suggest_int(\"max_depth\", 3, 10),\n",
    "        \"learning_rate\": trial.suggest_float(\"learning_rate\", 0.01, 0.3),\n",
    "        \"n_estimators\": trial.suggest_int(\"n_estimators\", 50, 500),\n",
    "        \"subsample\": trial.suggest_float(\"subsample\", 0.5, 1.0)\n",
    "    }\n",
    "    model = xgb.XGBClassifier(**params)\n",
    "    model.fit(X_train, y_train)\n",
    "    return accuracy_score(y_val, model.predict(X_val))\n",
    "\n",
    "study = optuna.create_study(direction=\"maximize\")\n",
    "study.optimize(objective, n_trials=20)\n",
    "\n",
    "print(\"Best hyperparameters:\", study.best_params)\n"
   ]
  },
  {
   "cell_type": "code",
   "execution_count": null,
   "metadata": {},
   "outputs": [
    {
     "name": "stdout",
     "output_type": "stream",
     "text": [
      "CPU-DML\n"
     ]
    }
   ],
   "source": [
    "import onnxruntime as ort\n",
    "print(ort.get_device())"
   ]
  },
  {
   "cell_type": "code",
   "execution_count": null,
   "metadata": {},
   "outputs": [
    {
     "name": "stdout",
     "output_type": "stream",
     "text": [
      "['DmlExecutionProvider', 'CPUExecutionProvider']\n"
     ]
    }
   ],
   "source": [
    "import onnxruntime as ort\n",
    "print(ort.get_available_providers())\n"
   ]
  },
  {
   "cell_type": "code",
   "execution_count": null,
   "metadata": {},
   "outputs": [],
   "source": [
    "# Rename feature columns to follow ONNX expected format\n",
    "X_train_renamed = X_train.copy()\n",
    "X_test_renamed = X_test.copy()\n",
    "X_train_renamed.columns = [f\"f{i}\" for i in range(X_train.shape[1])]\n",
    "X_test_renamed.columns = X_train_renamed.columns  # Ensure same naming in test set\n"
   ]
  },
  {
   "cell_type": "code",
   "execution_count": null,
   "metadata": {},
   "outputs": [
    {
     "name": "stderr",
     "output_type": "stream",
     "text": [
      "c:\\Users\\vudut\\anaconda3\\envs\\MINI_PROJECT\\lib\\site-packages\\xgboost\\core.py:158: UserWarning: [22:32:17] WARNING: C:\\buildkite-agent\\builds\\buildkite-windows-cpu-autoscaling-group-i-08cbc0333d8d4aae1-1\\xgboost\\xgboost-ci-windows\\src\\learner.cc:740: \n",
      "Parameters: { \"n_estimators\" } are not used.\n",
      "\n",
      "  warnings.warn(smsg, UserWarning)\n"
     ]
    }
   ],
   "source": [
    "# Retrain the model with updated column names\n",
    "dtrain = xgb.DMatrix(X_train_renamed, label=y_train)\n",
    "dtest = xgb.DMatrix(X_test_renamed, label=y_test)\n",
    "\n",
    "params = {\n",
    "    \"objective\": \"multi:softmax\",\n",
    "    \"num_class\": len(y_train.unique()),\n",
    "    \"max_depth\": 6,\n",
    "    \"learning_rate\": 0.1,\n",
    "    \"eval_metric\": \"mlogloss\",\n",
    "    \"n_estimators\": 100\n",
    "}\n",
    "\n",
    "# Train the model\n",
    "model = xgb.train(params, dtrain)\n"
   ]
  },
  {
   "cell_type": "code",
   "execution_count": null,
   "metadata": {},
   "outputs": [
    {
     "name": "stdout",
     "output_type": "stream",
     "text": [
      "✅ Model saved as: xgboost_model.onnx\n"
     ]
    }
   ],
   "source": [
    "import xgboost as xgb\n",
    "import onnxmltools\n",
    "import skl2onnx\n",
    "from skl2onnx.common.data_types import FloatTensorType\n",
    "\n",
    "# Define input shape\n",
    "initial_type = [(\"float_input\", FloatTensorType([None, X_train.shape[1]]))]\n",
    "\n",
    "# Convert to ONNX\n",
    "onnx_model = onnxmltools.convert_xgboost(model, initial_types=initial_type)\n",
    "\n",
    "# Save the ONNX model\n",
    "onnx_path = \"xgboost_model.onnx\"\n",
    "onnxmltools.utils.save_model(onnx_model, onnx_path)\n",
    "\n",
    "print(f\"✅ Model saved as: {onnx_path}\")"
   ]
  },
  {
   "cell_type": "code",
   "execution_count": null,
   "metadata": {},
   "outputs": [
    {
     "name": "stdout",
     "output_type": "stream",
     "text": [
      "['DmlExecutionProvider', 'CPUExecutionProvider']\n"
     ]
    }
   ],
   "source": [
    "import onnxruntime as ort\n",
    "\n",
    "# Load ONNX model with DirectML\n",
    "session = ort.InferenceSession(\"xgboost_model.onnx\", providers=[\"DmlExecutionProvider\"])\n",
    "\n",
    "print(session.get_providers())  # Should include 'DmlExecutionProvider'\n"
   ]
  },
  {
   "cell_type": "code",
   "execution_count": null,
   "metadata": {},
   "outputs": [
    {
     "name": "stdout",
     "output_type": "stream",
     "text": [
      "🟢 ONNX Inference Output: [array([8, 8, 8, 0, 0]), array([[ 1.3755537 , -0.04675478, -0.04649454, -0.04525429, -0.04676288,\n",
      "        -0.04677039, -0.04675043, -0.04676354,  1.708995  ],\n",
      "       [ 1.5388454 , -0.04675478, -0.04649454, -0.04199839, -0.04676288,\n",
      "        -0.04677039, -0.04675043, -0.04676354,  1.5711285 ],\n",
      "       [ 1.4228926 , -0.04675478, -0.04649454, -0.04525429, -0.04676288,\n",
      "        -0.04677039, -0.04675043, -0.04676354,  1.623148  ],\n",
      "       [ 1.8272315 , -0.04675478, -0.04649055, -0.04452735, -0.04676288,\n",
      "        -0.04674762, -0.04675043, -0.04676354,  1.3570817 ],\n",
      "       [ 1.6486268 , -0.04675478, -0.04649454, -0.04199839, -0.04676288,\n",
      "        -0.04677039, -0.04675043, -0.04676354,  1.4112225 ]],\n",
      "      dtype=float32)]\n"
     ]
    }
   ],
   "source": [
    "import onnxruntime as ort\n",
    "import numpy as np\n",
    "\n",
    "# Load the ONNX model with DirectML for AMD GPU\n",
    "session = ort.InferenceSession(\"xgboost_model.onnx\", providers=[\"DmlExecutionProvider\"])\n",
    "\n",
    "# Select a sample from test data for inference\n",
    "sample_input = X_test.iloc[:5].to_numpy().astype(np.float32)\n",
    "\n",
    "# Run inference\n",
    "outputs = session.run(None, {\"float_input\": sample_input})\n",
    "\n",
    "print(\"🟢 ONNX Inference Output:\", outputs)\n"
   ]
  },
  {
   "cell_type": "code",
   "execution_count": null,
   "metadata": {},
   "outputs": [
    {
     "name": "stdout",
     "output_type": "stream",
     "text": [
      "🟢 Optimized ONNX Inference Completed!\n"
     ]
    }
   ],
   "source": [
    "options = ort.SessionOptions()\n",
    "options.graph_optimization_level = ort.GraphOptimizationLevel.ORT_ENABLE_ALL\n",
    "\n",
    "session = ort.InferenceSession(\"xgboost_model.onnx\", options, providers=[\"DmlExecutionProvider\"])\n",
    "\n",
    "# Run batch inference\n",
    "outputs = session.run(None, {\"float_input\": X_test.to_numpy().astype(np.float32)})\n",
    "\n",
    "print(\"🟢 Optimized ONNX Inference Completed!\")\n"
   ]
  },
  {
   "cell_type": "code",
   "execution_count": null,
   "metadata": {},
   "outputs": [
    {
     "data": {
      "text/html": [],
      "text/plain": [
       "<IPython.core.display.HTML object>"
      ]
     },
     "metadata": {},
     "output_type": "display_data"
    },
    {
     "data": {
      "text/html": [
       "<br>    <style><br>        .wandb-row {<br>            display: flex;<br>            flex-direction: row;<br>            flex-wrap: wrap;<br>            justify-content: flex-start;<br>            width: 100%;<br>        }<br>        .wandb-col {<br>            display: flex;<br>            flex-direction: column;<br>            flex-basis: 100%;<br>            flex: 1;<br>            padding: 10px;<br>        }<br>    </style><br><div class=\"wandb-row\"><div class=\"wandb-col\"><h3>Run history:</h3><br/><table class=\"wandb\"><tr><td>accuracy</td><td>▁</td></tr></table><br/></div><div class=\"wandb-col\"><h3>Run summary:</h3><br/><table class=\"wandb\"><tr><td>accuracy</td><td>0.61039</td></tr></table><br/></div></div>"
      ],
      "text/plain": [
       "<IPython.core.display.HTML object>"
      ]
     },
     "metadata": {},
     "output_type": "display_data"
    },
    {
     "data": {
      "text/html": [
       " View run <strong style=\"color:#cdcd00\">XGBoost-Run-1</strong> at: <a href='https://wandb.ai/praneetham/xgboost-particle-classification/runs/7knaqwce' target=\"_blank\">https://wandb.ai/praneetham/xgboost-particle-classification/runs/7knaqwce</a><br> View project at: <a href='https://wandb.ai/praneetham/xgboost-particle-classification' target=\"_blank\">https://wandb.ai/praneetham/xgboost-particle-classification</a><br>Synced 5 W&B file(s), 0 media file(s), 0 artifact file(s) and 0 other file(s)"
      ],
      "text/plain": [
       "<IPython.core.display.HTML object>"
      ]
     },
     "metadata": {},
     "output_type": "display_data"
    },
    {
     "data": {
      "text/html": [
       "Find logs at: <code>.\\wandb\\run-20250222_221515-7knaqwce\\logs</code>"
      ],
      "text/plain": [
       "<IPython.core.display.HTML object>"
      ]
     },
     "metadata": {},
     "output_type": "display_data"
    }
   ],
   "source": [
    "import wandb\n",
    "\n",
    "# Initialize W&B project\n",
    "wandb.init(project=\"xgboost-onnx-inference\", name=\"ONNX DirectML Test\")\n",
    "\n",
    "# Log inference performance\n",
    "wandb.log({\"accuracy\": accuracy_score(y_test, outputs[0])})\n",
    "\n",
    "# Finish logging\n",
    "wandb.finish()\n"
   ]
  },
  {
   "cell_type": "markdown",
   "metadata": {},
   "source": [
    "# Optuna ONNX accelerated hyper parameter tuning"
   ]
  },
  {
   "cell_type": "code",
   "execution_count": null,
   "metadata": {},
   "outputs": [],
   "source": [
    "# Rename feature columns to 'f0', 'f1', ..., 'fn'\n",
    "feature_mapping = {col: f\"f{i}\" for i, col in enumerate(X_train.columns)}\n",
    "X_train_renamed = X_train.rename(columns=feature_mapping)\n",
    "X_val_renamed = X_val.rename(columns=feature_mapping)\n",
    "X_test_renamed = X_test.rename(columns=feature_mapping)\n",
    "\n",
    "# Apply same renaming to the entire dataset\n",
    "X_train = X_train_renamed\n",
    "X_val = X_val_renamed\n",
    "X_test = X_test_renamed\n"
   ]
  },
  {
   "cell_type": "code",
   "execution_count": null,
   "metadata": {},
   "outputs": [
    {
     "name": "stderr",
     "output_type": "stream",
     "text": [
      "c:\\Users\\vudut\\anaconda3\\envs\\MINI_PROJECT\\lib\\site-packages\\xgboost\\core.py:158: UserWarning: [23:08:36] WARNING: C:\\buildkite-agent\\builds\\buildkite-windows-cpu-autoscaling-group-i-08cbc0333d8d4aae1-1\\xgboost\\xgboost-ci-windows\\src\\learner.cc:740: \n",
      "Parameters: { \"n_estimators\" } are not used.\n",
      "\n",
      "  warnings.warn(smsg, UserWarning)\n"
     ]
    }
   ],
   "source": [
    "import xgboost as xgb\n",
    "\n",
    "# Create DMatrix for training\n",
    "dtrain = xgb.DMatrix(X_train, label=y_train)\n",
    "\n",
    "# Define model parameters\n",
    "params = {\n",
    "    \"objective\": \"multi:softmax\",\n",
    "    \"num_class\": len(y_train.unique()),\n",
    "    \"learning_rate\": 0.1,\n",
    "    \"max_depth\": 6,\n",
    "    \"n_estimators\": 100\n",
    "}\n",
    "\n",
    "# Train XGBoost model\n",
    "model = xgb.train(params, dtrain, num_boost_round=100)\n"
   ]
  },
  {
   "cell_type": "code",
   "execution_count": null,
   "metadata": {},
   "outputs": [
    {
     "name": "stdout",
     "output_type": "stream",
     "text": [
      "✅ XGBoost Model successfully converted to ONNX!\n"
     ]
    }
   ],
   "source": [
    "import onnxmltools\n",
    "from onnxmltools.convert.common.data_types import FloatTensorType\n",
    "\n",
    "# Define input type\n",
    "initial_type = [(\"float_input\", FloatTensorType([None, X_train.shape[1]]))]\n",
    "\n",
    "# Convert model to ONNX\n",
    "onnx_model = onnxmltools.convert_xgboost(model, initial_types=initial_type)\n",
    "\n",
    "# Save ONNX model\n",
    "onnxmltools.utils.save_model(onnx_model, \"xgboost_optimized.onnx\")\n",
    "\n",
    "print(\"✅ XGBoost Model successfully converted to ONNX!\")\n"
   ]
  },
  {
   "cell_type": "code",
   "execution_count": null,
   "metadata": {},
   "outputs": [
    {
     "name": "stderr",
     "output_type": "stream",
     "text": [
      "[I 2025-02-22 23:25:01,465] A new study created in memory with name: no-name-bab39ddd-e8d2-4e0f-a538-1138734b340d\n",
      "C:\\Users\\vudut\\AppData\\Local\\Temp\\ipykernel_26268\\353039258.py:12: FutureWarning: suggest_uniform has been deprecated in v3.0.0. This feature will be removed in v6.0.0. See https://github.com/optuna/optuna/releases/tag/v3.0.0. Use suggest_float instead.\n",
      "  subsample = trial.suggest_uniform(\"subsample\", 0.5, 1.0)\n",
      "C:\\Users\\vudut\\AppData\\Local\\Temp\\ipykernel_26268\\353039258.py:13: FutureWarning: suggest_uniform has been deprecated in v3.0.0. This feature will be removed in v6.0.0. See https://github.com/optuna/optuna/releases/tag/v3.0.0. Use suggest_float instead.\n",
      "  colsample_bytree = trial.suggest_uniform(\"colsample_bytree\", 0.5, 1.0)\n",
      "[I 2025-02-22 23:25:14,116] Trial 0 finished with value: 0.6277763330390824 and parameters: {'subsample': 0.9318864407073042, 'colsample_bytree': 0.9496918647401327}. Best is trial 0 with value: 0.6277763330390824.\n",
      "C:\\Users\\vudut\\AppData\\Local\\Temp\\ipykernel_26268\\353039258.py:12: FutureWarning: suggest_uniform has been deprecated in v3.0.0. This feature will be removed in v6.0.0. See https://github.com/optuna/optuna/releases/tag/v3.0.0. Use suggest_float instead.\n",
      "  subsample = trial.suggest_uniform(\"subsample\", 0.5, 1.0)\n",
      "C:\\Users\\vudut\\AppData\\Local\\Temp\\ipykernel_26268\\353039258.py:13: FutureWarning: suggest_uniform has been deprecated in v3.0.0. This feature will be removed in v6.0.0. See https://github.com/optuna/optuna/releases/tag/v3.0.0. Use suggest_float instead.\n",
      "  colsample_bytree = trial.suggest_uniform(\"colsample_bytree\", 0.5, 1.0)\n",
      "[I 2025-02-22 23:25:25,622] Trial 1 finished with value: 0.6277763330390824 and parameters: {'subsample': 0.7436723625578507, 'colsample_bytree': 0.5498179461053604}. Best is trial 0 with value: 0.6277763330390824.\n",
      "C:\\Users\\vudut\\AppData\\Local\\Temp\\ipykernel_26268\\353039258.py:12: FutureWarning: suggest_uniform has been deprecated in v3.0.0. This feature will be removed in v6.0.0. See https://github.com/optuna/optuna/releases/tag/v3.0.0. Use suggest_float instead.\n",
      "  subsample = trial.suggest_uniform(\"subsample\", 0.5, 1.0)\n",
      "C:\\Users\\vudut\\AppData\\Local\\Temp\\ipykernel_26268\\353039258.py:13: FutureWarning: suggest_uniform has been deprecated in v3.0.0. This feature will be removed in v6.0.0. See https://github.com/optuna/optuna/releases/tag/v3.0.0. Use suggest_float instead.\n",
      "  colsample_bytree = trial.suggest_uniform(\"colsample_bytree\", 0.5, 1.0)\n",
      "[I 2025-02-22 23:25:37,435] Trial 2 finished with value: 0.6277763330390824 and parameters: {'subsample': 0.9245391730106163, 'colsample_bytree': 0.7250923237600593}. Best is trial 0 with value: 0.6277763330390824.\n",
      "C:\\Users\\vudut\\AppData\\Local\\Temp\\ipykernel_26268\\353039258.py:12: FutureWarning: suggest_uniform has been deprecated in v3.0.0. This feature will be removed in v6.0.0. See https://github.com/optuna/optuna/releases/tag/v3.0.0. Use suggest_float instead.\n",
      "  subsample = trial.suggest_uniform(\"subsample\", 0.5, 1.0)\n",
      "C:\\Users\\vudut\\AppData\\Local\\Temp\\ipykernel_26268\\353039258.py:13: FutureWarning: suggest_uniform has been deprecated in v3.0.0. This feature will be removed in v6.0.0. See https://github.com/optuna/optuna/releases/tag/v3.0.0. Use suggest_float instead.\n",
      "  colsample_bytree = trial.suggest_uniform(\"colsample_bytree\", 0.5, 1.0)\n",
      "[I 2025-02-22 23:25:49,037] Trial 3 finished with value: 0.6277763330390824 and parameters: {'subsample': 0.5525088248263245, 'colsample_bytree': 0.9688631891580418}. Best is trial 0 with value: 0.6277763330390824.\n",
      "C:\\Users\\vudut\\AppData\\Local\\Temp\\ipykernel_26268\\353039258.py:12: FutureWarning: suggest_uniform has been deprecated in v3.0.0. This feature will be removed in v6.0.0. See https://github.com/optuna/optuna/releases/tag/v3.0.0. Use suggest_float instead.\n",
      "  subsample = trial.suggest_uniform(\"subsample\", 0.5, 1.0)\n",
      "C:\\Users\\vudut\\AppData\\Local\\Temp\\ipykernel_26268\\353039258.py:13: FutureWarning: suggest_uniform has been deprecated in v3.0.0. This feature will be removed in v6.0.0. See https://github.com/optuna/optuna/releases/tag/v3.0.0. Use suggest_float instead.\n",
      "  colsample_bytree = trial.suggest_uniform(\"colsample_bytree\", 0.5, 1.0)\n",
      "[I 2025-02-22 23:26:00,685] Trial 4 finished with value: 0.6277763330390824 and parameters: {'subsample': 0.5826260877707674, 'colsample_bytree': 0.859700596023377}. Best is trial 0 with value: 0.6277763330390824.\n",
      "C:\\Users\\vudut\\AppData\\Local\\Temp\\ipykernel_26268\\353039258.py:12: FutureWarning: suggest_uniform has been deprecated in v3.0.0. This feature will be removed in v6.0.0. See https://github.com/optuna/optuna/releases/tag/v3.0.0. Use suggest_float instead.\n",
      "  subsample = trial.suggest_uniform(\"subsample\", 0.5, 1.0)\n",
      "C:\\Users\\vudut\\AppData\\Local\\Temp\\ipykernel_26268\\353039258.py:13: FutureWarning: suggest_uniform has been deprecated in v3.0.0. This feature will be removed in v6.0.0. See https://github.com/optuna/optuna/releases/tag/v3.0.0. Use suggest_float instead.\n",
      "  colsample_bytree = trial.suggest_uniform(\"colsample_bytree\", 0.5, 1.0)\n",
      "[I 2025-02-22 23:26:12,672] Trial 5 finished with value: 0.6277763330390824 and parameters: {'subsample': 0.8566775717800349, 'colsample_bytree': 0.9453647695432512}. Best is trial 0 with value: 0.6277763330390824.\n",
      "C:\\Users\\vudut\\AppData\\Local\\Temp\\ipykernel_26268\\353039258.py:12: FutureWarning: suggest_uniform has been deprecated in v3.0.0. This feature will be removed in v6.0.0. See https://github.com/optuna/optuna/releases/tag/v3.0.0. Use suggest_float instead.\n",
      "  subsample = trial.suggest_uniform(\"subsample\", 0.5, 1.0)\n",
      "C:\\Users\\vudut\\AppData\\Local\\Temp\\ipykernel_26268\\353039258.py:13: FutureWarning: suggest_uniform has been deprecated in v3.0.0. This feature will be removed in v6.0.0. See https://github.com/optuna/optuna/releases/tag/v3.0.0. Use suggest_float instead.\n",
      "  colsample_bytree = trial.suggest_uniform(\"colsample_bytree\", 0.5, 1.0)\n",
      "[I 2025-02-22 23:26:25,188] Trial 6 finished with value: 0.6277763330390824 and parameters: {'subsample': 0.995425383898397, 'colsample_bytree': 0.5383071940724161}. Best is trial 0 with value: 0.6277763330390824.\n",
      "C:\\Users\\vudut\\AppData\\Local\\Temp\\ipykernel_26268\\353039258.py:12: FutureWarning: suggest_uniform has been deprecated in v3.0.0. This feature will be removed in v6.0.0. See https://github.com/optuna/optuna/releases/tag/v3.0.0. Use suggest_float instead.\n",
      "  subsample = trial.suggest_uniform(\"subsample\", 0.5, 1.0)\n",
      "C:\\Users\\vudut\\AppData\\Local\\Temp\\ipykernel_26268\\353039258.py:13: FutureWarning: suggest_uniform has been deprecated in v3.0.0. This feature will be removed in v6.0.0. See https://github.com/optuna/optuna/releases/tag/v3.0.0. Use suggest_float instead.\n",
      "  colsample_bytree = trial.suggest_uniform(\"colsample_bytree\", 0.5, 1.0)\n",
      "[I 2025-02-22 23:26:37,801] Trial 7 finished with value: 0.6277763330390824 and parameters: {'subsample': 0.5887124031065374, 'colsample_bytree': 0.5855970193960516}. Best is trial 0 with value: 0.6277763330390824.\n",
      "C:\\Users\\vudut\\AppData\\Local\\Temp\\ipykernel_26268\\353039258.py:12: FutureWarning: suggest_uniform has been deprecated in v3.0.0. This feature will be removed in v6.0.0. See https://github.com/optuna/optuna/releases/tag/v3.0.0. Use suggest_float instead.\n",
      "  subsample = trial.suggest_uniform(\"subsample\", 0.5, 1.0)\n",
      "C:\\Users\\vudut\\AppData\\Local\\Temp\\ipykernel_26268\\353039258.py:13: FutureWarning: suggest_uniform has been deprecated in v3.0.0. This feature will be removed in v6.0.0. See https://github.com/optuna/optuna/releases/tag/v3.0.0. Use suggest_float instead.\n",
      "  colsample_bytree = trial.suggest_uniform(\"colsample_bytree\", 0.5, 1.0)\n",
      "[I 2025-02-22 23:26:51,089] Trial 8 finished with value: 0.6277763330390824 and parameters: {'subsample': 0.6068576702773507, 'colsample_bytree': 0.8994712566479057}. Best is trial 0 with value: 0.6277763330390824.\n",
      "C:\\Users\\vudut\\AppData\\Local\\Temp\\ipykernel_26268\\353039258.py:12: FutureWarning: suggest_uniform has been deprecated in v3.0.0. This feature will be removed in v6.0.0. See https://github.com/optuna/optuna/releases/tag/v3.0.0. Use suggest_float instead.\n",
      "  subsample = trial.suggest_uniform(\"subsample\", 0.5, 1.0)\n",
      "C:\\Users\\vudut\\AppData\\Local\\Temp\\ipykernel_26268\\353039258.py:13: FutureWarning: suggest_uniform has been deprecated in v3.0.0. This feature will be removed in v6.0.0. See https://github.com/optuna/optuna/releases/tag/v3.0.0. Use suggest_float instead.\n",
      "  colsample_bytree = trial.suggest_uniform(\"colsample_bytree\", 0.5, 1.0)\n",
      "[I 2025-02-22 23:27:07,512] Trial 9 finished with value: 0.6277763330390824 and parameters: {'subsample': 0.5240195949379278, 'colsample_bytree': 0.6968575873758401}. Best is trial 0 with value: 0.6277763330390824.\n",
      "C:\\Users\\vudut\\AppData\\Local\\Temp\\ipykernel_26268\\353039258.py:12: FutureWarning: suggest_uniform has been deprecated in v3.0.0. This feature will be removed in v6.0.0. See https://github.com/optuna/optuna/releases/tag/v3.0.0. Use suggest_float instead.\n",
      "  subsample = trial.suggest_uniform(\"subsample\", 0.5, 1.0)\n",
      "C:\\Users\\vudut\\AppData\\Local\\Temp\\ipykernel_26268\\353039258.py:13: FutureWarning: suggest_uniform has been deprecated in v3.0.0. This feature will be removed in v6.0.0. See https://github.com/optuna/optuna/releases/tag/v3.0.0. Use suggest_float instead.\n",
      "  colsample_bytree = trial.suggest_uniform(\"colsample_bytree\", 0.5, 1.0)\n",
      "[I 2025-02-22 23:27:26,295] Trial 10 finished with value: 0.6277763330390824 and parameters: {'subsample': 0.7771402522035127, 'colsample_bytree': 0.795497349928361}. Best is trial 0 with value: 0.6277763330390824.\n",
      "C:\\Users\\vudut\\AppData\\Local\\Temp\\ipykernel_26268\\353039258.py:12: FutureWarning: suggest_uniform has been deprecated in v3.0.0. This feature will be removed in v6.0.0. See https://github.com/optuna/optuna/releases/tag/v3.0.0. Use suggest_float instead.\n",
      "  subsample = trial.suggest_uniform(\"subsample\", 0.5, 1.0)\n",
      "C:\\Users\\vudut\\AppData\\Local\\Temp\\ipykernel_26268\\353039258.py:13: FutureWarning: suggest_uniform has been deprecated in v3.0.0. This feature will be removed in v6.0.0. See https://github.com/optuna/optuna/releases/tag/v3.0.0. Use suggest_float instead.\n",
      "  colsample_bytree = trial.suggest_uniform(\"colsample_bytree\", 0.5, 1.0)\n",
      "[I 2025-02-22 23:27:39,800] Trial 11 finished with value: 0.6277763330390824 and parameters: {'subsample': 0.7154478053013743, 'colsample_bytree': 0.628162939183535}. Best is trial 0 with value: 0.6277763330390824.\n",
      "C:\\Users\\vudut\\AppData\\Local\\Temp\\ipykernel_26268\\353039258.py:12: FutureWarning: suggest_uniform has been deprecated in v3.0.0. This feature will be removed in v6.0.0. See https://github.com/optuna/optuna/releases/tag/v3.0.0. Use suggest_float instead.\n",
      "  subsample = trial.suggest_uniform(\"subsample\", 0.5, 1.0)\n",
      "C:\\Users\\vudut\\AppData\\Local\\Temp\\ipykernel_26268\\353039258.py:13: FutureWarning: suggest_uniform has been deprecated in v3.0.0. This feature will be removed in v6.0.0. See https://github.com/optuna/optuna/releases/tag/v3.0.0. Use suggest_float instead.\n",
      "  colsample_bytree = trial.suggest_uniform(\"colsample_bytree\", 0.5, 1.0)\n",
      "[I 2025-02-22 23:27:53,637] Trial 12 finished with value: 0.6277763330390824 and parameters: {'subsample': 0.7065209012695384, 'colsample_bytree': 0.7950318890893456}. Best is trial 0 with value: 0.6277763330390824.\n",
      "C:\\Users\\vudut\\AppData\\Local\\Temp\\ipykernel_26268\\353039258.py:12: FutureWarning: suggest_uniform has been deprecated in v3.0.0. This feature will be removed in v6.0.0. See https://github.com/optuna/optuna/releases/tag/v3.0.0. Use suggest_float instead.\n",
      "  subsample = trial.suggest_uniform(\"subsample\", 0.5, 1.0)\n",
      "C:\\Users\\vudut\\AppData\\Local\\Temp\\ipykernel_26268\\353039258.py:13: FutureWarning: suggest_uniform has been deprecated in v3.0.0. This feature will be removed in v6.0.0. See https://github.com/optuna/optuna/releases/tag/v3.0.0. Use suggest_float instead.\n",
      "  colsample_bytree = trial.suggest_uniform(\"colsample_bytree\", 0.5, 1.0)\n",
      "[I 2025-02-22 23:28:12,497] Trial 13 finished with value: 0.6277763330390824 and parameters: {'subsample': 0.8308959296834326, 'colsample_bytree': 0.6574538672103809}. Best is trial 0 with value: 0.6277763330390824.\n",
      "C:\\Users\\vudut\\AppData\\Local\\Temp\\ipykernel_26268\\353039258.py:12: FutureWarning: suggest_uniform has been deprecated in v3.0.0. This feature will be removed in v6.0.0. See https://github.com/optuna/optuna/releases/tag/v3.0.0. Use suggest_float instead.\n",
      "  subsample = trial.suggest_uniform(\"subsample\", 0.5, 1.0)\n",
      "C:\\Users\\vudut\\AppData\\Local\\Temp\\ipykernel_26268\\353039258.py:13: FutureWarning: suggest_uniform has been deprecated in v3.0.0. This feature will be removed in v6.0.0. See https://github.com/optuna/optuna/releases/tag/v3.0.0. Use suggest_float instead.\n",
      "  colsample_bytree = trial.suggest_uniform(\"colsample_bytree\", 0.5, 1.0)\n",
      "[I 2025-02-22 23:28:27,124] Trial 14 finished with value: 0.6277763330390824 and parameters: {'subsample': 0.6637566879102745, 'colsample_bytree': 0.5030899250864762}. Best is trial 0 with value: 0.6277763330390824.\n",
      "C:\\Users\\vudut\\AppData\\Local\\Temp\\ipykernel_26268\\353039258.py:12: FutureWarning: suggest_uniform has been deprecated in v3.0.0. This feature will be removed in v6.0.0. See https://github.com/optuna/optuna/releases/tag/v3.0.0. Use suggest_float instead.\n",
      "  subsample = trial.suggest_uniform(\"subsample\", 0.5, 1.0)\n",
      "C:\\Users\\vudut\\AppData\\Local\\Temp\\ipykernel_26268\\353039258.py:13: FutureWarning: suggest_uniform has been deprecated in v3.0.0. This feature will be removed in v6.0.0. See https://github.com/optuna/optuna/releases/tag/v3.0.0. Use suggest_float instead.\n",
      "  colsample_bytree = trial.suggest_uniform(\"colsample_bytree\", 0.5, 1.0)\n",
      "[I 2025-02-22 23:28:41,564] Trial 15 finished with value: 0.6277763330390824 and parameters: {'subsample': 0.7943326226135567, 'colsample_bytree': 0.8423389897690343}. Best is trial 0 with value: 0.6277763330390824.\n",
      "C:\\Users\\vudut\\AppData\\Local\\Temp\\ipykernel_26268\\353039258.py:12: FutureWarning: suggest_uniform has been deprecated in v3.0.0. This feature will be removed in v6.0.0. See https://github.com/optuna/optuna/releases/tag/v3.0.0. Use suggest_float instead.\n",
      "  subsample = trial.suggest_uniform(\"subsample\", 0.5, 1.0)\n",
      "C:\\Users\\vudut\\AppData\\Local\\Temp\\ipykernel_26268\\353039258.py:13: FutureWarning: suggest_uniform has been deprecated in v3.0.0. This feature will be removed in v6.0.0. See https://github.com/optuna/optuna/releases/tag/v3.0.0. Use suggest_float instead.\n",
      "  colsample_bytree = trial.suggest_uniform(\"colsample_bytree\", 0.5, 1.0)\n",
      "[I 2025-02-22 23:28:54,708] Trial 16 finished with value: 0.6277763330390824 and parameters: {'subsample': 0.8983125105882898, 'colsample_bytree': 0.9843409115047844}. Best is trial 0 with value: 0.6277763330390824.\n",
      "C:\\Users\\vudut\\AppData\\Local\\Temp\\ipykernel_26268\\353039258.py:12: FutureWarning: suggest_uniform has been deprecated in v3.0.0. This feature will be removed in v6.0.0. See https://github.com/optuna/optuna/releases/tag/v3.0.0. Use suggest_float instead.\n",
      "  subsample = trial.suggest_uniform(\"subsample\", 0.5, 1.0)\n",
      "C:\\Users\\vudut\\AppData\\Local\\Temp\\ipykernel_26268\\353039258.py:13: FutureWarning: suggest_uniform has been deprecated in v3.0.0. This feature will be removed in v6.0.0. See https://github.com/optuna/optuna/releases/tag/v3.0.0. Use suggest_float instead.\n",
      "  colsample_bytree = trial.suggest_uniform(\"colsample_bytree\", 0.5, 1.0)\n",
      "[I 2025-02-22 23:29:08,257] Trial 17 finished with value: 0.6277763330390824 and parameters: {'subsample': 0.9934713648976388, 'colsample_bytree': 0.7669058840152813}. Best is trial 0 with value: 0.6277763330390824.\n",
      "C:\\Users\\vudut\\AppData\\Local\\Temp\\ipykernel_26268\\353039258.py:12: FutureWarning: suggest_uniform has been deprecated in v3.0.0. This feature will be removed in v6.0.0. See https://github.com/optuna/optuna/releases/tag/v3.0.0. Use suggest_float instead.\n",
      "  subsample = trial.suggest_uniform(\"subsample\", 0.5, 1.0)\n",
      "C:\\Users\\vudut\\AppData\\Local\\Temp\\ipykernel_26268\\353039258.py:13: FutureWarning: suggest_uniform has been deprecated in v3.0.0. This feature will be removed in v6.0.0. See https://github.com/optuna/optuna/releases/tag/v3.0.0. Use suggest_float instead.\n",
      "  colsample_bytree = trial.suggest_uniform(\"colsample_bytree\", 0.5, 1.0)\n",
      "[I 2025-02-22 23:29:20,988] Trial 18 finished with value: 0.6277763330390824 and parameters: {'subsample': 0.6668580816041949, 'colsample_bytree': 0.6041017718291137}. Best is trial 0 with value: 0.6277763330390824.\n",
      "C:\\Users\\vudut\\AppData\\Local\\Temp\\ipykernel_26268\\353039258.py:12: FutureWarning: suggest_uniform has been deprecated in v3.0.0. This feature will be removed in v6.0.0. See https://github.com/optuna/optuna/releases/tag/v3.0.0. Use suggest_float instead.\n",
      "  subsample = trial.suggest_uniform(\"subsample\", 0.5, 1.0)\n",
      "C:\\Users\\vudut\\AppData\\Local\\Temp\\ipykernel_26268\\353039258.py:13: FutureWarning: suggest_uniform has been deprecated in v3.0.0. This feature will be removed in v6.0.0. See https://github.com/optuna/optuna/releases/tag/v3.0.0. Use suggest_float instead.\n",
      "  colsample_bytree = trial.suggest_uniform(\"colsample_bytree\", 0.5, 1.0)\n",
      "[I 2025-02-22 23:29:34,488] Trial 19 finished with value: 0.6277763330390824 and parameters: {'subsample': 0.9122565989416783, 'colsample_bytree': 0.6743170491775476}. Best is trial 0 with value: 0.6277763330390824.\n"
     ]
    },
    {
     "name": "stdout",
     "output_type": "stream",
     "text": [
      "🚀 Best Hyperparameters: {'subsample': 0.9318864407073042, 'colsample_bytree': 0.9496918647401327}\n"
     ]
    }
   ],
   "source": [
    "import optuna\n",
    "import onnxruntime as ort\n",
    "import numpy as np\n",
    "from sklearn.metrics import accuracy_score\n",
    "\n",
    "# Load ONNX model for inference\n",
    "session = ort.InferenceSession(\"xgboost_optimized.onnx\", providers=[\"DmlExecutionProvider\"])\n",
    "\n",
    "# Define Optuna objective function\n",
    "def objective(trial):\n",
    "    # Suggest new hyperparameters\n",
    "    subsample = trial.suggest_uniform(\"subsample\", 0.5, 1.0)\n",
    "    colsample_bytree = trial.suggest_uniform(\"colsample_bytree\", 0.5, 1.0)\n",
    "\n",
    "    # Select sample input\n",
    "    sample_input = X_val.to_numpy().astype(np.float32)\n",
    "\n",
    "    # Run inference on ONNX model\n",
    "    y_pred = session.run(None, {\"float_input\": sample_input})[0]\n",
    "\n",
    "    # Compute accuracy\n",
    "    accuracy = accuracy_score(y_val, y_pred)\n",
    "    return accuracy\n",
    "\n",
    "# Run hyperparameter tuning\n",
    "study = optuna.create_study(direction=\"maximize\")\n",
    "study.optimize(objective, n_trials=20)\n",
    "\n",
    "print(\"🚀 Best Hyperparameters:\", study.best_params)\n"
   ]
  },
  {
   "cell_type": "code",
   "execution_count": null,
   "metadata": {},
   "outputs": [
    {
     "name": "stdout",
     "output_type": "stream",
     "text": [
      "CPU-DML\n",
      "['DmlExecutionProvider', 'CPUExecutionProvider']\n"
     ]
    }
   ],
   "source": [
    "import onnxruntime as ort\n",
    "\n",
    "# Check available providers\n",
    "print(ort.get_device())  # Should print 'GPU' if DirectML is active\n",
    "\n",
    "# Check if DirectML is available\n",
    "print(ort.get_available_providers())  # Should contain \"DmlExecutionProvider\"\n"
   ]
  },
  {
   "cell_type": "code",
   "execution_count": null,
   "metadata": {},
   "outputs": [
    {
     "name": "stdout",
     "output_type": "stream",
     "text": [
      "Available Execution Providers: ['DmlExecutionProvider', 'CPUExecutionProvider']\n",
      "Execution Provider Details: {'DmlExecutionProvider': {}, 'CPUExecutionProvider': {}}\n"
     ]
    }
   ],
   "source": [
    "import onnxruntime as ort\n",
    "\n",
    "# Check which providers are available\n",
    "print(\"Available Execution Providers:\", ort.get_available_providers())\n",
    "\n",
    "# Create DirectML session and check which device is being used\n",
    "session = ort.InferenceSession(\"xgboost_optimized.onnx\", providers=[\"DmlExecutionProvider\"])\n",
    "print(\"Execution Provider Details:\", session.get_provider_options())\n"
   ]
  },
  {
   "cell_type": "code",
   "execution_count": null,
   "metadata": {},
   "outputs": [
    {
     "name": "stderr",
     "output_type": "stream",
     "text": [
      "[I 2025-02-22 23:37:44,606] A new study created in memory with name: no-name-078645e5-db51-4390-a696-bcd9e6bfde48\n",
      "C:\\Users\\vudut\\AppData\\Local\\Temp\\ipykernel_26268\\438963492.py:16: FutureWarning: suggest_uniform has been deprecated in v3.0.0. This feature will be removed in v6.0.0. See https://github.com/optuna/optuna/releases/tag/v3.0.0. Use suggest_float instead.\n",
      "  subsample = trial.suggest_uniform(\"subsample\", 0.5, 1.0)\n",
      "C:\\Users\\vudut\\AppData\\Local\\Temp\\ipykernel_26268\\438963492.py:17: FutureWarning: suggest_uniform has been deprecated in v3.0.0. This feature will be removed in v6.0.0. See https://github.com/optuna/optuna/releases/tag/v3.0.0. Use suggest_float instead.\n",
      "  colsample_bytree = trial.suggest_uniform(\"colsample_bytree\", 0.5, 1.0)\n",
      "[I 2025-02-22 23:38:00,429] Trial 0 finished with value: 0.6277763330390824 and parameters: {'subsample': 0.9103341698375175, 'colsample_bytree': 0.7300943678128424}. Best is trial 0 with value: 0.6277763330390824.\n",
      "C:\\Users\\vudut\\AppData\\Local\\Temp\\ipykernel_26268\\438963492.py:16: FutureWarning: suggest_uniform has been deprecated in v3.0.0. This feature will be removed in v6.0.0. See https://github.com/optuna/optuna/releases/tag/v3.0.0. Use suggest_float instead.\n",
      "  subsample = trial.suggest_uniform(\"subsample\", 0.5, 1.0)\n",
      "C:\\Users\\vudut\\AppData\\Local\\Temp\\ipykernel_26268\\438963492.py:17: FutureWarning: suggest_uniform has been deprecated in v3.0.0. This feature will be removed in v6.0.0. See https://github.com/optuna/optuna/releases/tag/v3.0.0. Use suggest_float instead.\n",
      "  colsample_bytree = trial.suggest_uniform(\"colsample_bytree\", 0.5, 1.0)\n",
      "[I 2025-02-22 23:38:16,056] Trial 1 finished with value: 0.6277763330390824 and parameters: {'subsample': 0.8290139251665434, 'colsample_bytree': 0.9598597909902342}. Best is trial 0 with value: 0.6277763330390824.\n",
      "C:\\Users\\vudut\\AppData\\Local\\Temp\\ipykernel_26268\\438963492.py:16: FutureWarning: suggest_uniform has been deprecated in v3.0.0. This feature will be removed in v6.0.0. See https://github.com/optuna/optuna/releases/tag/v3.0.0. Use suggest_float instead.\n",
      "  subsample = trial.suggest_uniform(\"subsample\", 0.5, 1.0)\n",
      "C:\\Users\\vudut\\AppData\\Local\\Temp\\ipykernel_26268\\438963492.py:17: FutureWarning: suggest_uniform has been deprecated in v3.0.0. This feature will be removed in v6.0.0. See https://github.com/optuna/optuna/releases/tag/v3.0.0. Use suggest_float instead.\n",
      "  colsample_bytree = trial.suggest_uniform(\"colsample_bytree\", 0.5, 1.0)\n",
      "[W 2025-02-22 23:38:32,267] Trial 2 failed with parameters: {'subsample': 0.6562023135174824, 'colsample_bytree': 0.6435454618226655} because of the following error: KeyboardInterrupt().\n",
      "Traceback (most recent call last):\n",
      "  File \"c:\\Users\\vudut\\anaconda3\\envs\\MINI_PROJECT\\lib\\site-packages\\optuna\\study\\_optimize.py\", line 197, in _run_trial\n",
      "    value_or_values = func(trial)\n",
      "  File \"C:\\Users\\vudut\\AppData\\Local\\Temp\\ipykernel_26268\\438963492.py\", line 23, in objective\n",
      "    y_pred = session.run(None, {\"float_input\": sample_input})[0]\n",
      "  File \"c:\\Users\\vudut\\anaconda3\\envs\\MINI_PROJECT\\lib\\site-packages\\onnxruntime\\capi\\onnxruntime_inference_collection.py\", line 266, in run\n",
      "    return self._sess.run(output_names, input_feed, run_options)\n",
      "KeyboardInterrupt\n",
      "[W 2025-02-22 23:38:32,268] Trial 2 failed with value None.\n"
     ]
    },
    {
     "ename": "KeyboardInterrupt",
     "evalue": "",
     "output_type": "error",
     "traceback": [
      "\u001b[1;31m---------------------------------------------------------------------------\u001b[0m",
      "\u001b[1;31mKeyboardInterrupt\u001b[0m                         Traceback (most recent call last)",
      "Cell \u001b[1;32mIn[51], line 31\u001b[0m\n\u001b[0;32m     29\u001b[0m \u001b[38;5;66;03m# Run hyperparameter tuning\u001b[39;00m\n\u001b[0;32m     30\u001b[0m study \u001b[38;5;241m=\u001b[39m optuna\u001b[38;5;241m.\u001b[39mcreate_study(direction\u001b[38;5;241m=\u001b[39m\u001b[38;5;124m\"\u001b[39m\u001b[38;5;124mmaximize\u001b[39m\u001b[38;5;124m\"\u001b[39m)\n\u001b[1;32m---> 31\u001b[0m \u001b[43mstudy\u001b[49m\u001b[38;5;241;43m.\u001b[39;49m\u001b[43moptimize\u001b[49m\u001b[43m(\u001b[49m\u001b[43mobjective\u001b[49m\u001b[43m,\u001b[49m\u001b[43m \u001b[49m\u001b[43mn_trials\u001b[49m\u001b[38;5;241;43m=\u001b[39;49m\u001b[38;5;241;43m50\u001b[39;49m\u001b[43m)\u001b[49m  \u001b[38;5;66;03m# Run 50 trials\u001b[39;00m\n\u001b[0;32m     33\u001b[0m \u001b[38;5;28mprint\u001b[39m(\u001b[38;5;124m\"\u001b[39m\u001b[38;5;124m✅ Hyperparameter tuning completed!\u001b[39m\u001b[38;5;124m\"\u001b[39m)\n",
      "File \u001b[1;32mc:\\Users\\vudut\\anaconda3\\envs\\MINI_PROJECT\\lib\\site-packages\\optuna\\study\\study.py:475\u001b[0m, in \u001b[0;36mStudy.optimize\u001b[1;34m(self, func, n_trials, timeout, n_jobs, catch, callbacks, gc_after_trial, show_progress_bar)\u001b[0m\n\u001b[0;32m    373\u001b[0m \u001b[38;5;28;01mdef\u001b[39;00m\u001b[38;5;250m \u001b[39m\u001b[38;5;21moptimize\u001b[39m(\n\u001b[0;32m    374\u001b[0m     \u001b[38;5;28mself\u001b[39m,\n\u001b[0;32m    375\u001b[0m     func: ObjectiveFuncType,\n\u001b[1;32m   (...)\u001b[0m\n\u001b[0;32m    382\u001b[0m     show_progress_bar: \u001b[38;5;28mbool\u001b[39m \u001b[38;5;241m=\u001b[39m \u001b[38;5;28;01mFalse\u001b[39;00m,\n\u001b[0;32m    383\u001b[0m ) \u001b[38;5;241m-\u001b[39m\u001b[38;5;241m>\u001b[39m \u001b[38;5;28;01mNone\u001b[39;00m:\n\u001b[0;32m    384\u001b[0m \u001b[38;5;250m    \u001b[39m\u001b[38;5;124;03m\"\"\"Optimize an objective function.\u001b[39;00m\n\u001b[0;32m    385\u001b[0m \n\u001b[0;32m    386\u001b[0m \u001b[38;5;124;03m    Optimization is done by choosing a suitable set of hyperparameter values from a given\u001b[39;00m\n\u001b[1;32m   (...)\u001b[0m\n\u001b[0;32m    473\u001b[0m \u001b[38;5;124;03m            If nested invocation of this method occurs.\u001b[39;00m\n\u001b[0;32m    474\u001b[0m \u001b[38;5;124;03m    \"\"\"\u001b[39;00m\n\u001b[1;32m--> 475\u001b[0m     \u001b[43m_optimize\u001b[49m\u001b[43m(\u001b[49m\n\u001b[0;32m    476\u001b[0m \u001b[43m        \u001b[49m\u001b[43mstudy\u001b[49m\u001b[38;5;241;43m=\u001b[39;49m\u001b[38;5;28;43mself\u001b[39;49m\u001b[43m,\u001b[49m\n\u001b[0;32m    477\u001b[0m \u001b[43m        \u001b[49m\u001b[43mfunc\u001b[49m\u001b[38;5;241;43m=\u001b[39;49m\u001b[43mfunc\u001b[49m\u001b[43m,\u001b[49m\n\u001b[0;32m    478\u001b[0m \u001b[43m        \u001b[49m\u001b[43mn_trials\u001b[49m\u001b[38;5;241;43m=\u001b[39;49m\u001b[43mn_trials\u001b[49m\u001b[43m,\u001b[49m\n\u001b[0;32m    479\u001b[0m \u001b[43m        \u001b[49m\u001b[43mtimeout\u001b[49m\u001b[38;5;241;43m=\u001b[39;49m\u001b[43mtimeout\u001b[49m\u001b[43m,\u001b[49m\n\u001b[0;32m    480\u001b[0m \u001b[43m        \u001b[49m\u001b[43mn_jobs\u001b[49m\u001b[38;5;241;43m=\u001b[39;49m\u001b[43mn_jobs\u001b[49m\u001b[43m,\u001b[49m\n\u001b[0;32m    481\u001b[0m \u001b[43m        \u001b[49m\u001b[43mcatch\u001b[49m\u001b[38;5;241;43m=\u001b[39;49m\u001b[38;5;28;43mtuple\u001b[39;49m\u001b[43m(\u001b[49m\u001b[43mcatch\u001b[49m\u001b[43m)\u001b[49m\u001b[43m \u001b[49m\u001b[38;5;28;43;01mif\u001b[39;49;00m\u001b[43m \u001b[49m\u001b[38;5;28;43misinstance\u001b[39;49m\u001b[43m(\u001b[49m\u001b[43mcatch\u001b[49m\u001b[43m,\u001b[49m\u001b[43m \u001b[49m\u001b[43mIterable\u001b[49m\u001b[43m)\u001b[49m\u001b[43m \u001b[49m\u001b[38;5;28;43;01melse\u001b[39;49;00m\u001b[43m \u001b[49m\u001b[43m(\u001b[49m\u001b[43mcatch\u001b[49m\u001b[43m,\u001b[49m\u001b[43m)\u001b[49m\u001b[43m,\u001b[49m\n\u001b[0;32m    482\u001b[0m \u001b[43m        \u001b[49m\u001b[43mcallbacks\u001b[49m\u001b[38;5;241;43m=\u001b[39;49m\u001b[43mcallbacks\u001b[49m\u001b[43m,\u001b[49m\n\u001b[0;32m    483\u001b[0m \u001b[43m        \u001b[49m\u001b[43mgc_after_trial\u001b[49m\u001b[38;5;241;43m=\u001b[39;49m\u001b[43mgc_after_trial\u001b[49m\u001b[43m,\u001b[49m\n\u001b[0;32m    484\u001b[0m \u001b[43m        \u001b[49m\u001b[43mshow_progress_bar\u001b[49m\u001b[38;5;241;43m=\u001b[39;49m\u001b[43mshow_progress_bar\u001b[49m\u001b[43m,\u001b[49m\n\u001b[0;32m    485\u001b[0m \u001b[43m    \u001b[49m\u001b[43m)\u001b[49m\n",
      "File \u001b[1;32mc:\\Users\\vudut\\anaconda3\\envs\\MINI_PROJECT\\lib\\site-packages\\optuna\\study\\_optimize.py:63\u001b[0m, in \u001b[0;36m_optimize\u001b[1;34m(study, func, n_trials, timeout, n_jobs, catch, callbacks, gc_after_trial, show_progress_bar)\u001b[0m\n\u001b[0;32m     61\u001b[0m \u001b[38;5;28;01mtry\u001b[39;00m:\n\u001b[0;32m     62\u001b[0m     \u001b[38;5;28;01mif\u001b[39;00m n_jobs \u001b[38;5;241m==\u001b[39m \u001b[38;5;241m1\u001b[39m:\n\u001b[1;32m---> 63\u001b[0m         \u001b[43m_optimize_sequential\u001b[49m\u001b[43m(\u001b[49m\n\u001b[0;32m     64\u001b[0m \u001b[43m            \u001b[49m\u001b[43mstudy\u001b[49m\u001b[43m,\u001b[49m\n\u001b[0;32m     65\u001b[0m \u001b[43m            \u001b[49m\u001b[43mfunc\u001b[49m\u001b[43m,\u001b[49m\n\u001b[0;32m     66\u001b[0m \u001b[43m            \u001b[49m\u001b[43mn_trials\u001b[49m\u001b[43m,\u001b[49m\n\u001b[0;32m     67\u001b[0m \u001b[43m            \u001b[49m\u001b[43mtimeout\u001b[49m\u001b[43m,\u001b[49m\n\u001b[0;32m     68\u001b[0m \u001b[43m            \u001b[49m\u001b[43mcatch\u001b[49m\u001b[43m,\u001b[49m\n\u001b[0;32m     69\u001b[0m \u001b[43m            \u001b[49m\u001b[43mcallbacks\u001b[49m\u001b[43m,\u001b[49m\n\u001b[0;32m     70\u001b[0m \u001b[43m            \u001b[49m\u001b[43mgc_after_trial\u001b[49m\u001b[43m,\u001b[49m\n\u001b[0;32m     71\u001b[0m \u001b[43m            \u001b[49m\u001b[43mreseed_sampler_rng\u001b[49m\u001b[38;5;241;43m=\u001b[39;49m\u001b[38;5;28;43;01mFalse\u001b[39;49;00m\u001b[43m,\u001b[49m\n\u001b[0;32m     72\u001b[0m \u001b[43m            \u001b[49m\u001b[43mtime_start\u001b[49m\u001b[38;5;241;43m=\u001b[39;49m\u001b[38;5;28;43;01mNone\u001b[39;49;00m\u001b[43m,\u001b[49m\n\u001b[0;32m     73\u001b[0m \u001b[43m            \u001b[49m\u001b[43mprogress_bar\u001b[49m\u001b[38;5;241;43m=\u001b[39;49m\u001b[43mprogress_bar\u001b[49m\u001b[43m,\u001b[49m\n\u001b[0;32m     74\u001b[0m \u001b[43m        \u001b[49m\u001b[43m)\u001b[49m\n\u001b[0;32m     75\u001b[0m     \u001b[38;5;28;01melse\u001b[39;00m:\n\u001b[0;32m     76\u001b[0m         \u001b[38;5;28;01mif\u001b[39;00m n_jobs \u001b[38;5;241m==\u001b[39m \u001b[38;5;241m-\u001b[39m\u001b[38;5;241m1\u001b[39m:\n",
      "File \u001b[1;32mc:\\Users\\vudut\\anaconda3\\envs\\MINI_PROJECT\\lib\\site-packages\\optuna\\study\\_optimize.py:160\u001b[0m, in \u001b[0;36m_optimize_sequential\u001b[1;34m(study, func, n_trials, timeout, catch, callbacks, gc_after_trial, reseed_sampler_rng, time_start, progress_bar)\u001b[0m\n\u001b[0;32m    157\u001b[0m         \u001b[38;5;28;01mbreak\u001b[39;00m\n\u001b[0;32m    159\u001b[0m \u001b[38;5;28;01mtry\u001b[39;00m:\n\u001b[1;32m--> 160\u001b[0m     frozen_trial \u001b[38;5;241m=\u001b[39m \u001b[43m_run_trial\u001b[49m\u001b[43m(\u001b[49m\u001b[43mstudy\u001b[49m\u001b[43m,\u001b[49m\u001b[43m \u001b[49m\u001b[43mfunc\u001b[49m\u001b[43m,\u001b[49m\u001b[43m \u001b[49m\u001b[43mcatch\u001b[49m\u001b[43m)\u001b[49m\n\u001b[0;32m    161\u001b[0m \u001b[38;5;28;01mfinally\u001b[39;00m:\n\u001b[0;32m    162\u001b[0m     \u001b[38;5;66;03m# The following line mitigates memory problems that can be occurred in some\u001b[39;00m\n\u001b[0;32m    163\u001b[0m     \u001b[38;5;66;03m# environments (e.g., services that use computing containers such as GitHub Actions).\u001b[39;00m\n\u001b[0;32m    164\u001b[0m     \u001b[38;5;66;03m# Please refer to the following PR for further details:\u001b[39;00m\n\u001b[0;32m    165\u001b[0m     \u001b[38;5;66;03m# https://github.com/optuna/optuna/pull/325.\u001b[39;00m\n\u001b[0;32m    166\u001b[0m     \u001b[38;5;28;01mif\u001b[39;00m gc_after_trial:\n",
      "File \u001b[1;32mc:\\Users\\vudut\\anaconda3\\envs\\MINI_PROJECT\\lib\\site-packages\\optuna\\study\\_optimize.py:248\u001b[0m, in \u001b[0;36m_run_trial\u001b[1;34m(study, func, catch)\u001b[0m\n\u001b[0;32m    241\u001b[0m         \u001b[38;5;28;01massert\u001b[39;00m \u001b[38;5;28;01mFalse\u001b[39;00m, \u001b[38;5;124m\"\u001b[39m\u001b[38;5;124mShould not reach.\u001b[39m\u001b[38;5;124m\"\u001b[39m\n\u001b[0;32m    243\u001b[0m \u001b[38;5;28;01mif\u001b[39;00m (\n\u001b[0;32m    244\u001b[0m     frozen_trial\u001b[38;5;241m.\u001b[39mstate \u001b[38;5;241m==\u001b[39m TrialState\u001b[38;5;241m.\u001b[39mFAIL\n\u001b[0;32m    245\u001b[0m     \u001b[38;5;129;01mand\u001b[39;00m func_err \u001b[38;5;129;01mis\u001b[39;00m \u001b[38;5;129;01mnot\u001b[39;00m \u001b[38;5;28;01mNone\u001b[39;00m\n\u001b[0;32m    246\u001b[0m     \u001b[38;5;129;01mand\u001b[39;00m \u001b[38;5;129;01mnot\u001b[39;00m \u001b[38;5;28misinstance\u001b[39m(func_err, catch)\n\u001b[0;32m    247\u001b[0m ):\n\u001b[1;32m--> 248\u001b[0m     \u001b[38;5;28;01mraise\u001b[39;00m func_err\n\u001b[0;32m    249\u001b[0m \u001b[38;5;28;01mreturn\u001b[39;00m frozen_trial\n",
      "File \u001b[1;32mc:\\Users\\vudut\\anaconda3\\envs\\MINI_PROJECT\\lib\\site-packages\\optuna\\study\\_optimize.py:197\u001b[0m, in \u001b[0;36m_run_trial\u001b[1;34m(study, func, catch)\u001b[0m\n\u001b[0;32m    195\u001b[0m \u001b[38;5;28;01mwith\u001b[39;00m get_heartbeat_thread(trial\u001b[38;5;241m.\u001b[39m_trial_id, study\u001b[38;5;241m.\u001b[39m_storage):\n\u001b[0;32m    196\u001b[0m     \u001b[38;5;28;01mtry\u001b[39;00m:\n\u001b[1;32m--> 197\u001b[0m         value_or_values \u001b[38;5;241m=\u001b[39m \u001b[43mfunc\u001b[49m\u001b[43m(\u001b[49m\u001b[43mtrial\u001b[49m\u001b[43m)\u001b[49m\n\u001b[0;32m    198\u001b[0m     \u001b[38;5;28;01mexcept\u001b[39;00m exceptions\u001b[38;5;241m.\u001b[39mTrialPruned \u001b[38;5;28;01mas\u001b[39;00m e:\n\u001b[0;32m    199\u001b[0m         \u001b[38;5;66;03m# TODO(mamu): Handle multi-objective cases.\u001b[39;00m\n\u001b[0;32m    200\u001b[0m         state \u001b[38;5;241m=\u001b[39m TrialState\u001b[38;5;241m.\u001b[39mPRUNED\n",
      "Cell \u001b[1;32mIn[51], line 23\u001b[0m, in \u001b[0;36mobjective\u001b[1;34m(trial)\u001b[0m\n\u001b[0;32m     20\u001b[0m sample_input \u001b[38;5;241m=\u001b[39m X_val\u001b[38;5;241m.\u001b[39mto_numpy()\u001b[38;5;241m.\u001b[39mastype(np\u001b[38;5;241m.\u001b[39mfloat32)\n\u001b[0;32m     22\u001b[0m \u001b[38;5;66;03m# Run inference on ONNX model using DirectML\u001b[39;00m\n\u001b[1;32m---> 23\u001b[0m y_pred \u001b[38;5;241m=\u001b[39m \u001b[43msession\u001b[49m\u001b[38;5;241;43m.\u001b[39;49m\u001b[43mrun\u001b[49m\u001b[43m(\u001b[49m\u001b[38;5;28;43;01mNone\u001b[39;49;00m\u001b[43m,\u001b[49m\u001b[43m \u001b[49m\u001b[43m{\u001b[49m\u001b[38;5;124;43m\"\u001b[39;49m\u001b[38;5;124;43mfloat_input\u001b[39;49m\u001b[38;5;124;43m\"\u001b[39;49m\u001b[43m:\u001b[49m\u001b[43m \u001b[49m\u001b[43msample_input\u001b[49m\u001b[43m}\u001b[49m\u001b[43m)\u001b[49m[\u001b[38;5;241m0\u001b[39m]\n\u001b[0;32m     25\u001b[0m \u001b[38;5;66;03m# Compute accuracy\u001b[39;00m\n\u001b[0;32m     26\u001b[0m accuracy \u001b[38;5;241m=\u001b[39m accuracy_score(y_val, y_pred)\n",
      "File \u001b[1;32mc:\\Users\\vudut\\anaconda3\\envs\\MINI_PROJECT\\lib\\site-packages\\onnxruntime\\capi\\onnxruntime_inference_collection.py:266\u001b[0m, in \u001b[0;36mSession.run\u001b[1;34m(self, output_names, input_feed, run_options)\u001b[0m\n\u001b[0;32m    264\u001b[0m     output_names \u001b[38;5;241m=\u001b[39m [output\u001b[38;5;241m.\u001b[39mname \u001b[38;5;28;01mfor\u001b[39;00m output \u001b[38;5;129;01min\u001b[39;00m \u001b[38;5;28mself\u001b[39m\u001b[38;5;241m.\u001b[39m_outputs_meta]\n\u001b[0;32m    265\u001b[0m \u001b[38;5;28;01mtry\u001b[39;00m:\n\u001b[1;32m--> 266\u001b[0m     \u001b[38;5;28;01mreturn\u001b[39;00m \u001b[38;5;28;43mself\u001b[39;49m\u001b[38;5;241;43m.\u001b[39;49m\u001b[43m_sess\u001b[49m\u001b[38;5;241;43m.\u001b[39;49m\u001b[43mrun\u001b[49m\u001b[43m(\u001b[49m\u001b[43moutput_names\u001b[49m\u001b[43m,\u001b[49m\u001b[43m \u001b[49m\u001b[43minput_feed\u001b[49m\u001b[43m,\u001b[49m\u001b[43m \u001b[49m\u001b[43mrun_options\u001b[49m\u001b[43m)\u001b[49m\n\u001b[0;32m    267\u001b[0m \u001b[38;5;28;01mexcept\u001b[39;00m C\u001b[38;5;241m.\u001b[39mEPFail \u001b[38;5;28;01mas\u001b[39;00m err:\n\u001b[0;32m    268\u001b[0m     \u001b[38;5;28;01mif\u001b[39;00m \u001b[38;5;28mself\u001b[39m\u001b[38;5;241m.\u001b[39m_enable_fallback:\n",
      "\u001b[1;31mKeyboardInterrupt\u001b[0m: "
     ]
    }
   ],
   "source": [
    "import optuna\n",
    "import onnxruntime as ort\n",
    "import numpy as np\n",
    "from sklearn.metrics import accuracy_score\n",
    "\n",
    "# Load ONNX model with GPU acceleration\n",
    "session = ort.InferenceSession(\n",
    "    \"xgboost_optimized.onnx\",\n",
    "    providers=[\"DmlExecutionProvider\"],\n",
    "    provider_options=[{\"device_id\": 0}]  # Change to 1 if needed\n",
    ")\n",
    "\n",
    "# Define Optuna objective function\n",
    "def objective(trial):\n",
    "    # Suggest hyperparameters\n",
    "    subsample = trial.suggest_uniform(\"subsample\", 0.5, 1.0)\n",
    "    colsample_bytree = trial.suggest_uniform(\"colsample_bytree\", 0.5, 1.0)\n",
    "\n",
    "    # Convert input to float32 for ONNX\n",
    "    sample_input = X_val.to_numpy().astype(np.float32)\n",
    "\n",
    "    # Run inference on ONNX model using DirectML\n",
    "    y_pred = session.run(None, {\"float_input\": sample_input})[0]\n",
    "\n",
    "    # Compute accuracy\n",
    "    accuracy = accuracy_score(y_val, y_pred)\n",
    "    return accuracy\n",
    "\n",
    "# Run hyperparameter tuning\n",
    "study = optuna.create_study(direction=\"maximize\")\n",
    "study.optimize(objective, n_trials=50)  # Run 50 trials\n",
    "\n",
    "print(\"✅ Hyperparameter tuning completed!\")\n"
   ]
  },
  {
   "cell_type": "code",
   "execution_count": null,
   "metadata": {},
   "outputs": [],
   "source": []
  }
 ],
 "metadata": {
  "kernelspec": {
   "display_name": "MINI_PROJECT",
   "language": "python",
   "name": "python3"
  },
  "language_info": {
   "codemirror_mode": {
    "name": "ipython",
    "version": 3
   },
   "file_extension": ".py",
   "mimetype": "text/x-python",
   "name": "python",
   "nbconvert_exporter": "python",
   "pygments_lexer": "ipython3",
   "version": "3.10.16"
  }
 },
 "nbformat": 4,
 "nbformat_minor": 2
}
